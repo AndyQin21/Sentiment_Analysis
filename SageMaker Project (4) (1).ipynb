{
 "cells": [
  {
   "cell_type": "markdown",
   "metadata": {},
   "source": [
    "# Creating a Sentiment Analysis Web App\n",
    "## Using PyTorch and SageMaker\n",
    "\n",
    "_Deep Learning Nanodegree Program | Deployment_\n",
    "\n",
    "---\n",
    "\n",
    "Now that we have a basic understanding of how SageMaker works we will try to use it to construct a complete project from end to end. Our goal will be to have a simple web page which a user can use to enter a movie review. The web page will then send the review off to our deployed model which will predict the sentiment of the entered review.\n",
    "\n",
    "## Instructions\n",
    "\n",
    "Some template code has already been provided for you, and you will need to implement additional functionality to successfully complete this notebook. You will not need to modify the included code beyond what is requested. Sections that begin with '**TODO**' in the header indicate that you need to complete or implement some portion within them. Instructions will be provided for each section and the specifics of the implementation are marked in the code block with a `# TODO: ...` comment. Please be sure to read the instructions carefully!\n",
    "\n",
    "In addition to implementing code, there will be questions for you to answer which relate to the task and your implementation. Each section where you will answer a question is preceded by a '**Question:**' header. Carefully read each question and provide your answer below the '**Answer:**' header by editing the Markdown cell.\n",
    "\n",
    "> **Note**: Code and Markdown cells can be executed using the **Shift+Enter** keyboard shortcut. In addition, a cell can be edited by typically clicking it (double-click for Markdown cells) or by pressing **Enter** while it is highlighted.\n",
    "\n",
    "## General Outline\n",
    "\n",
    "Recall the general outline for SageMaker projects using a notebook instance.\n",
    "\n",
    "1. Download or otherwise retrieve the data.\n",
    "2. Process / Prepare the data.\n",
    "3. Upload the processed data to S3.\n",
    "4. Train a chosen model.\n",
    "5. Test the trained model (typically using a batch transform job).\n",
    "6. Deploy the trained model.\n",
    "7. Use the deployed model.\n",
    "\n",
    "For this project, you will be following the steps in the general outline with some modifications. \n",
    "\n",
    "First, you will not be testing the model in its own step. You will still be testing the model, however, you will do it by deploying your model and then using the deployed model by sending the test data to it. One of the reasons for doing this is so that you can make sure that your deployed model is working correctly before moving forward.\n",
    "\n",
    "In addition, you will deploy and use your trained model a second time. In the second iteration you will customize the way that your trained model is deployed by including some of your own code. In addition, your newly deployed model will be used in the sentiment analysis web app."
   ]
  },
  {
   "cell_type": "code",
   "execution_count": 26,
   "metadata": {},
   "outputs": [
    {
     "name": "stdout",
     "output_type": "stream",
     "text": [
      "Requirement already satisfied: sagemaker==1.72.0 in /home/ec2-user/anaconda3/envs/pytorch_p36/lib/python3.6/site-packages (1.72.0)\n",
      "Requirement already satisfied: smdebug-rulesconfig==0.1.4 in /home/ec2-user/anaconda3/envs/pytorch_p36/lib/python3.6/site-packages (from sagemaker==1.72.0) (0.1.4)\n",
      "Requirement already satisfied: protobuf3-to-dict>=0.1.5 in /home/ec2-user/anaconda3/envs/pytorch_p36/lib/python3.6/site-packages (from sagemaker==1.72.0) (0.1.5)\n",
      "Requirement already satisfied: boto3>=1.14.12 in /home/ec2-user/anaconda3/envs/pytorch_p36/lib/python3.6/site-packages (from sagemaker==1.72.0) (1.19.3)\n",
      "Requirement already satisfied: packaging>=20.0 in /home/ec2-user/anaconda3/envs/pytorch_p36/lib/python3.6/site-packages (from sagemaker==1.72.0) (21.0)\n",
      "Requirement already satisfied: scipy>=0.19.0 in /home/ec2-user/anaconda3/envs/pytorch_p36/lib/python3.6/site-packages (from sagemaker==1.72.0) (1.5.3)\n",
      "Requirement already satisfied: numpy>=1.9.0 in /home/ec2-user/anaconda3/envs/pytorch_p36/lib/python3.6/site-packages (from sagemaker==1.72.0) (1.19.5)\n",
      "Requirement already satisfied: importlib-metadata>=1.4.0 in /home/ec2-user/anaconda3/envs/pytorch_p36/lib/python3.6/site-packages (from sagemaker==1.72.0) (4.8.1)\n",
      "Requirement already satisfied: protobuf>=3.1 in /home/ec2-user/anaconda3/envs/pytorch_p36/lib/python3.6/site-packages (from sagemaker==1.72.0) (3.19.0)\n",
      "Requirement already satisfied: s3transfer<0.6.0,>=0.5.0 in /home/ec2-user/anaconda3/envs/pytorch_p36/lib/python3.6/site-packages (from boto3>=1.14.12->sagemaker==1.72.0) (0.5.0)\n",
      "Requirement already satisfied: jmespath<1.0.0,>=0.7.1 in /home/ec2-user/anaconda3/envs/pytorch_p36/lib/python3.6/site-packages (from boto3>=1.14.12->sagemaker==1.72.0) (0.10.0)\n",
      "Requirement already satisfied: botocore<1.23.0,>=1.22.3 in /home/ec2-user/anaconda3/envs/pytorch_p36/lib/python3.6/site-packages (from boto3>=1.14.12->sagemaker==1.72.0) (1.22.3)\n",
      "Requirement already satisfied: urllib3<1.27,>=1.25.4 in /home/ec2-user/anaconda3/envs/pytorch_p36/lib/python3.6/site-packages (from botocore<1.23.0,>=1.22.3->boto3>=1.14.12->sagemaker==1.72.0) (1.26.7)\n",
      "Requirement already satisfied: python-dateutil<3.0.0,>=2.1 in /home/ec2-user/anaconda3/envs/pytorch_p36/lib/python3.6/site-packages (from botocore<1.23.0,>=1.22.3->boto3>=1.14.12->sagemaker==1.72.0) (2.8.2)\n",
      "Requirement already satisfied: zipp>=0.5 in /home/ec2-user/anaconda3/envs/pytorch_p36/lib/python3.6/site-packages (from importlib-metadata>=1.4.0->sagemaker==1.72.0) (3.6.0)\n",
      "Requirement already satisfied: typing-extensions>=3.6.4 in /home/ec2-user/anaconda3/envs/pytorch_p36/lib/python3.6/site-packages (from importlib-metadata>=1.4.0->sagemaker==1.72.0) (3.10.0.2)\n",
      "Requirement already satisfied: pyparsing>=2.0.2 in /home/ec2-user/anaconda3/envs/pytorch_p36/lib/python3.6/site-packages (from packaging>=20.0->sagemaker==1.72.0) (3.0.1)\n",
      "Requirement already satisfied: six in /home/ec2-user/anaconda3/envs/pytorch_p36/lib/python3.6/site-packages (from protobuf3-to-dict>=0.1.5->sagemaker==1.72.0) (1.16.0)\n",
      "\u001b[33mWARNING: You are using pip version 21.2.4; however, version 21.3.1 is available.\n",
      "You should consider upgrading via the '/home/ec2-user/anaconda3/envs/pytorch_p36/bin/python -m pip install --upgrade pip' command.\u001b[0m\n"
     ]
    }
   ],
   "source": [
    "# Make sure that we use SageMaker 1.x\n",
    "!pip install sagemaker==1.72.0"
   ]
  },
  {
   "cell_type": "markdown",
   "metadata": {},
   "source": [
    "## Step 1: Downloading the data\n",
    "\n",
    "As in the XGBoost in SageMaker notebook, we will be using the [IMDb dataset](http://ai.stanford.edu/~amaas/data/sentiment/)\n",
    "\n",
    "> Maas, Andrew L., et al. [Learning Word Vectors for Sentiment Analysis](http://ai.stanford.edu/~amaas/data/sentiment/). In _Proceedings of the 49th Annual Meeting of the Association for Computational Linguistics: Human Language Technologies_. Association for Computational Linguistics, 2011."
   ]
  },
  {
   "cell_type": "code",
   "execution_count": 27,
   "metadata": {},
   "outputs": [
    {
     "name": "stdout",
     "output_type": "stream",
     "text": [
      "mkdir: cannot create directory ‘../data’: File exists\n",
      "--2021-11-17 00:09:38--  http://ai.stanford.edu/~amaas/data/sentiment/aclImdb_v1.tar.gz\n",
      "Resolving ai.stanford.edu (ai.stanford.edu)... 171.64.68.10\n",
      "Connecting to ai.stanford.edu (ai.stanford.edu)|171.64.68.10|:80... connected.\n",
      "HTTP request sent, awaiting response... 200 OK\n",
      "Length: 84125825 (80M) [application/x-gzip]\n",
      "Saving to: ‘../data/aclImdb_v1.tar.gz’\n",
      "\n",
      "../data/aclImdb_v1. 100%[===================>]  80.23M  23.4MB/s    in 3.4s    \n",
      "\n",
      "2021-11-17 00:09:41 (23.4 MB/s) - ‘../data/aclImdb_v1.tar.gz’ saved [84125825/84125825]\n",
      "\n"
     ]
    }
   ],
   "source": [
    "%mkdir ../data\n",
    "!wget -O ../data/aclImdb_v1.tar.gz http://ai.stanford.edu/~amaas/data/sentiment/aclImdb_v1.tar.gz\n",
    "!tar -zxf ../data/aclImdb_v1.tar.gz -C ../data"
   ]
  },
  {
   "cell_type": "markdown",
   "metadata": {},
   "source": [
    "## Step 2: Preparing and Processing the data\n",
    "\n",
    "Also, as in the XGBoost notebook, we will be doing some initial data processing. The first few steps are the same as in the XGBoost example. To begin with, we will read in each of the reviews and combine them into a single input structure. Then, we will split the dataset into a training set and a testing set."
   ]
  },
  {
   "cell_type": "code",
   "execution_count": 28,
   "metadata": {},
   "outputs": [],
   "source": [
    "import os\n",
    "import glob\n",
    "\n",
    "def read_imdb_data(data_dir='../data/aclImdb'):\n",
    "    data = {}\n",
    "    labels = {}\n",
    "    \n",
    "    for data_type in ['train', 'test']:\n",
    "        data[data_type] = {}\n",
    "        labels[data_type] = {}\n",
    "        \n",
    "        for sentiment in ['pos', 'neg']:\n",
    "            data[data_type][sentiment] = []\n",
    "            labels[data_type][sentiment] = []\n",
    "            \n",
    "            path = os.path.join(data_dir, data_type, sentiment, '*.txt')\n",
    "            files = glob.glob(path)\n",
    "            \n",
    "            for f in files:\n",
    "                with open(f) as review:\n",
    "                    data[data_type][sentiment].append(review.read())\n",
    "                    # Here we represent a positive review by '1' and a negative review by '0'\n",
    "                    labels[data_type][sentiment].append(1 if sentiment == 'pos' else 0)\n",
    "                    \n",
    "            assert len(data[data_type][sentiment]) == len(labels[data_type][sentiment]), \\\n",
    "                    \"{}/{} data size does not match labels size\".format(data_type, sentiment)\n",
    "                \n",
    "    return data, labels"
   ]
  },
  {
   "cell_type": "code",
   "execution_count": 29,
   "metadata": {},
   "outputs": [
    {
     "name": "stdout",
     "output_type": "stream",
     "text": [
      "IMDB reviews: train = 12500 pos / 12500 neg, test = 12500 pos / 12500 neg\n"
     ]
    }
   ],
   "source": [
    "data, labels = read_imdb_data()\n",
    "print(\"IMDB reviews: train = {} pos / {} neg, test = {} pos / {} neg\".format(\n",
    "            len(data['train']['pos']), len(data['train']['neg']),\n",
    "            len(data['test']['pos']), len(data['test']['neg'])))"
   ]
  },
  {
   "cell_type": "markdown",
   "metadata": {},
   "source": [
    "Now that we've read the raw training and testing data from the downloaded dataset, we will combine the positive and negative reviews and shuffle the resulting records."
   ]
  },
  {
   "cell_type": "code",
   "execution_count": 30,
   "metadata": {},
   "outputs": [],
   "source": [
    "from sklearn.utils import shuffle\n",
    "\n",
    "def prepare_imdb_data(data, labels):\n",
    "    \"\"\"Prepare training and test sets from IMDb movie reviews.\"\"\"\n",
    "    \n",
    "    #Combine positive and negative reviews and labels\n",
    "    data_train = data['train']['pos'] + data['train']['neg']\n",
    "    data_test = data['test']['pos'] + data['test']['neg']\n",
    "    labels_train = labels['train']['pos'] + labels['train']['neg']\n",
    "    labels_test = labels['test']['pos'] + labels['test']['neg']\n",
    "    \n",
    "    #Shuffle reviews and corresponding labels within training and test sets\n",
    "    data_train, labels_train = shuffle(data_train, labels_train)\n",
    "    data_test, labels_test = shuffle(data_test, labels_test)\n",
    "    \n",
    "    # Return a unified training data, test data, training labels, test labets\n",
    "    return data_train, data_test, labels_train, labels_test"
   ]
  },
  {
   "cell_type": "code",
   "execution_count": 31,
   "metadata": {},
   "outputs": [
    {
     "name": "stdout",
     "output_type": "stream",
     "text": [
      "IMDb reviews (combined): train = 25000, test = 25000\n"
     ]
    }
   ],
   "source": [
    "train_X, test_X, train_y, test_y = prepare_imdb_data(data, labels)\n",
    "print(\"IMDb reviews (combined): train = {}, test = {}\".format(len(train_X), len(test_X)))"
   ]
  },
  {
   "cell_type": "markdown",
   "metadata": {},
   "source": [
    "Now that we have our training and testing sets unified and prepared, we should do a quick check and see an example of the data our model will be trained on. This is generally a good idea as it allows you to see how each of the further processing steps affects the reviews and it also ensures that the data has been loaded correctly."
   ]
  },
  {
   "cell_type": "code",
   "execution_count": 32,
   "metadata": {},
   "outputs": [
    {
     "name": "stdout",
     "output_type": "stream",
     "text": [
      "There are so many stupid moments in 'Tower of Death'/'Game of Death 2' that you really wonder if it's a spoof. At times, it felt like I was watching a sequel to Kung Pow rather than a Bruce Lee film.<br /><br />To be honest, this film has bugger all to do with 'Game of Death'. If anything, it's more a sequel/remake of 'Enter the Dragon', incorporating many elements of that film - particularly the actual footage. Bruce Lee's character Billy Lo (apparently) investigates the sudden death of his friend and encounters a piece of film that was left with the man's daughter. When the body is stolen during the funeral (!), Billy is also killed and it's up to his wayward brother to avenge both men's deaths.<br /><br />Tong Long stars as brother Bobby Lo and doesn't really have the sort of charisma to carry the film. His fighting abilities are very good however. Bruce Lee obviously turns up thanks to (no longer) deleted footage simply to cash-in on the legacy. Saying that, on the whole, the footage is actually edited-in better than in 'Game of Death' but it doesn't stop the film from being a mess.<br /><br />OK, so the fights are actually very entertaining (dare I say mind-blowing) and make the film at least watchable. But there are so many daft elements to this film that it really tests your patience. First off, there's the supposed villain who lives on his palatial estate... or is that mental institution? Seriously, the nutter eats raw venison, drinks deer's blood, carries a monkey on his shoulder and owns some peacocks and lions (?!). This attempt to make him look tough and intelligent just makes you feel sorry for him - you half expect someone to escort him back to his room.<br /><br />In fact, this middle section is awful and when the scene involving a naked hooker and a lion suit arrived I turned it off. However, I did finish the film and was kind of glad I did because the fight scene towards the end (much like 'GOD') was the whole reason for watching. While the story is an embarrassment, the action is very good and contains excellent choreography.<br /><br />But even the finale disappoints if the premise was anything to go by. What we were told was that the 'Tower of Death' was a pagoda that was upside down and underground. This sounded great, like a twist on Bruce Lee's original idea with different styles of fighting on each level. Could this be the 'Game of Death' that was originally planned? No! The film should have been named \"Generator Room of Death\" because thats as far as the tower goes. Of yes, there were indeed one or two 'different' styles... there were foil clad grunts, leopard-skinned henchman and stupid monk. It's as though Enter the Dragon had never been made, with the plot being a poor imitation.<br /><br />Worth watching once for the fast paced fight scenes, but so stupid sometimes that it hurts. If this was intended, then fine. Thumbs up, however, for recreating that projector room scene from 'Enter The Dragon'.\n",
      "0\n"
     ]
    }
   ],
   "source": [
    "print(train_X[100])\n",
    "print(train_y[100])"
   ]
  },
  {
   "cell_type": "markdown",
   "metadata": {},
   "source": [
    "The first step in processing the reviews is to make sure that any html tags that appear should be removed. In addition we wish to tokenize our input, that way words such as *entertained* and *entertaining* are considered the same with regard to sentiment analysis."
   ]
  },
  {
   "cell_type": "code",
   "execution_count": 33,
   "metadata": {},
   "outputs": [],
   "source": [
    "import nltk\n",
    "from nltk.corpus import stopwords\n",
    "from nltk.stem.porter import *\n",
    "\n",
    "import re\n",
    "from bs4 import BeautifulSoup\n",
    "\n",
    "def review_to_words(review):\n",
    "    nltk.download(\"stopwords\", quiet=True)\n",
    "    stemmer = PorterStemmer()\n",
    "    \n",
    "    text = BeautifulSoup(review, \"html.parser\").get_text() # Remove HTML tags\n",
    "    text = re.sub(r\"[^a-zA-Z0-9]\", \" \", text.lower()) # Convert to lower case\n",
    "    words = text.split() # Split string into words\n",
    "    words = [w for w in words if w not in stopwords.words(\"english\")] # Remove stopwords\n",
    "    words = [PorterStemmer().stem(w) for w in words] # stem\n",
    "    \n",
    "    return words"
   ]
  },
  {
   "cell_type": "markdown",
   "metadata": {},
   "source": [
    "The `review_to_words` method defined above uses `BeautifulSoup` to remove any html tags that appear and uses the `nltk` package to tokenize the reviews. As a check to ensure we know how everything is working, try applying `review_to_words` to one of the reviews in the training set."
   ]
  },
  {
   "cell_type": "code",
   "execution_count": 34,
   "metadata": {},
   "outputs": [
    {
     "data": {
      "text/plain": [
       "['mani',\n",
       " 'stupid',\n",
       " 'moment',\n",
       " 'tower',\n",
       " 'death',\n",
       " 'game',\n",
       " 'death',\n",
       " '2',\n",
       " 'realli',\n",
       " 'wonder',\n",
       " 'spoof',\n",
       " 'time',\n",
       " 'felt',\n",
       " 'like',\n",
       " 'watch',\n",
       " 'sequel',\n",
       " 'kung',\n",
       " 'pow',\n",
       " 'rather',\n",
       " 'bruce',\n",
       " 'lee',\n",
       " 'film',\n",
       " 'honest',\n",
       " 'film',\n",
       " 'bugger',\n",
       " 'game',\n",
       " 'death',\n",
       " 'anyth',\n",
       " 'sequel',\n",
       " 'remak',\n",
       " 'enter',\n",
       " 'dragon',\n",
       " 'incorpor',\n",
       " 'mani',\n",
       " 'element',\n",
       " 'film',\n",
       " 'particularli',\n",
       " 'actual',\n",
       " 'footag',\n",
       " 'bruce',\n",
       " 'lee',\n",
       " 'charact',\n",
       " 'billi',\n",
       " 'lo',\n",
       " 'appar',\n",
       " 'investig',\n",
       " 'sudden',\n",
       " 'death',\n",
       " 'friend',\n",
       " 'encount',\n",
       " 'piec',\n",
       " 'film',\n",
       " 'left',\n",
       " 'man',\n",
       " 'daughter',\n",
       " 'bodi',\n",
       " 'stolen',\n",
       " 'funer',\n",
       " 'billi',\n",
       " 'also',\n",
       " 'kill',\n",
       " 'wayward',\n",
       " 'brother',\n",
       " 'aveng',\n",
       " 'men',\n",
       " 'death',\n",
       " 'tong',\n",
       " 'long',\n",
       " 'star',\n",
       " 'brother',\n",
       " 'bobbi',\n",
       " 'lo',\n",
       " 'realli',\n",
       " 'sort',\n",
       " 'charisma',\n",
       " 'carri',\n",
       " 'film',\n",
       " 'fight',\n",
       " 'abil',\n",
       " 'good',\n",
       " 'howev',\n",
       " 'bruce',\n",
       " 'lee',\n",
       " 'obvious',\n",
       " 'turn',\n",
       " 'thank',\n",
       " 'longer',\n",
       " 'delet',\n",
       " 'footag',\n",
       " 'simpli',\n",
       " 'cash',\n",
       " 'legaci',\n",
       " 'say',\n",
       " 'whole',\n",
       " 'footag',\n",
       " 'actual',\n",
       " 'edit',\n",
       " 'better',\n",
       " 'game',\n",
       " 'death',\n",
       " 'stop',\n",
       " 'film',\n",
       " 'mess',\n",
       " 'ok',\n",
       " 'fight',\n",
       " 'actual',\n",
       " 'entertain',\n",
       " 'dare',\n",
       " 'say',\n",
       " 'mind',\n",
       " 'blow',\n",
       " 'make',\n",
       " 'film',\n",
       " 'least',\n",
       " 'watchabl',\n",
       " 'mani',\n",
       " 'daft',\n",
       " 'element',\n",
       " 'film',\n",
       " 'realli',\n",
       " 'test',\n",
       " 'patienc',\n",
       " 'first',\n",
       " 'suppos',\n",
       " 'villain',\n",
       " 'live',\n",
       " 'palati',\n",
       " 'estat',\n",
       " 'mental',\n",
       " 'institut',\n",
       " 'serious',\n",
       " 'nutter',\n",
       " 'eat',\n",
       " 'raw',\n",
       " 'venison',\n",
       " 'drink',\n",
       " 'deer',\n",
       " 'blood',\n",
       " 'carri',\n",
       " 'monkey',\n",
       " 'shoulder',\n",
       " 'own',\n",
       " 'peacock',\n",
       " 'lion',\n",
       " 'attempt',\n",
       " 'make',\n",
       " 'look',\n",
       " 'tough',\n",
       " 'intellig',\n",
       " 'make',\n",
       " 'feel',\n",
       " 'sorri',\n",
       " 'half',\n",
       " 'expect',\n",
       " 'someon',\n",
       " 'escort',\n",
       " 'back',\n",
       " 'room',\n",
       " 'fact',\n",
       " 'middl',\n",
       " 'section',\n",
       " 'aw',\n",
       " 'scene',\n",
       " 'involv',\n",
       " 'nake',\n",
       " 'hooker',\n",
       " 'lion',\n",
       " 'suit',\n",
       " 'arriv',\n",
       " 'turn',\n",
       " 'howev',\n",
       " 'finish',\n",
       " 'film',\n",
       " 'kind',\n",
       " 'glad',\n",
       " 'fight',\n",
       " 'scene',\n",
       " 'toward',\n",
       " 'end',\n",
       " 'much',\n",
       " 'like',\n",
       " 'god',\n",
       " 'whole',\n",
       " 'reason',\n",
       " 'watch',\n",
       " 'stori',\n",
       " 'embarrass',\n",
       " 'action',\n",
       " 'good',\n",
       " 'contain',\n",
       " 'excel',\n",
       " 'choreographi',\n",
       " 'even',\n",
       " 'final',\n",
       " 'disappoint',\n",
       " 'premis',\n",
       " 'anyth',\n",
       " 'go',\n",
       " 'told',\n",
       " 'tower',\n",
       " 'death',\n",
       " 'pagoda',\n",
       " 'upsid',\n",
       " 'underground',\n",
       " 'sound',\n",
       " 'great',\n",
       " 'like',\n",
       " 'twist',\n",
       " 'bruce',\n",
       " 'lee',\n",
       " 'origin',\n",
       " 'idea',\n",
       " 'differ',\n",
       " 'style',\n",
       " 'fight',\n",
       " 'level',\n",
       " 'could',\n",
       " 'game',\n",
       " 'death',\n",
       " 'origin',\n",
       " 'plan',\n",
       " 'film',\n",
       " 'name',\n",
       " 'gener',\n",
       " 'room',\n",
       " 'death',\n",
       " 'that',\n",
       " 'far',\n",
       " 'tower',\n",
       " 'goe',\n",
       " 'ye',\n",
       " 'inde',\n",
       " 'one',\n",
       " 'two',\n",
       " 'differ',\n",
       " 'style',\n",
       " 'foil',\n",
       " 'clad',\n",
       " 'grunt',\n",
       " 'leopard',\n",
       " 'skin',\n",
       " 'henchman',\n",
       " 'stupid',\n",
       " 'monk',\n",
       " 'though',\n",
       " 'enter',\n",
       " 'dragon',\n",
       " 'never',\n",
       " 'made',\n",
       " 'plot',\n",
       " 'poor',\n",
       " 'imit',\n",
       " 'worth',\n",
       " 'watch',\n",
       " 'fast',\n",
       " 'pace',\n",
       " 'fight',\n",
       " 'scene',\n",
       " 'stupid',\n",
       " 'sometim',\n",
       " 'hurt',\n",
       " 'intend',\n",
       " 'fine',\n",
       " 'thumb',\n",
       " 'howev',\n",
       " 'recreat',\n",
       " 'projector',\n",
       " 'room',\n",
       " 'scene',\n",
       " 'enter',\n",
       " 'dragon']"
      ]
     },
     "execution_count": 34,
     "metadata": {},
     "output_type": "execute_result"
    }
   ],
   "source": [
    "# TODO: Apply review_to_words to a review (train_X[100] or any other review)\n",
    "review_to_words(train_X[100])"
   ]
  },
  {
   "cell_type": "markdown",
   "metadata": {},
   "source": [
    "**Question:** Above we mentioned that `review_to_words` method removes html formatting and allows us to tokenize the words found in a review, for example, converting *entertained* and *entertaining* into *entertain* so that they are treated as though they are the same word. What else, if anything, does this method do to the input?"
   ]
  },
  {
   "cell_type": "markdown",
   "metadata": {},
   "source": [
    "**Answer: The review_to_words method converts lower case to upper case and erases stop words and also the punctuation marks.**"
   ]
  },
  {
   "cell_type": "markdown",
   "metadata": {},
   "source": [
    "The method below applies the `review_to_words` method to each of the reviews in the training and testing datasets. In addition it caches the results. This is because performing this processing step can take a long time. This way if you are unable to complete the notebook in the current session, you can come back without needing to process the data a second time."
   ]
  },
  {
   "cell_type": "code",
   "execution_count": 35,
   "metadata": {},
   "outputs": [],
   "source": [
    "import pickle\n",
    "\n",
    "cache_dir = os.path.join(\"../cache\", \"sentiment_analysis\")  # where to store cache files\n",
    "os.makedirs(cache_dir, exist_ok=True)  # ensure cache directory exists\n",
    "\n",
    "def preprocess_data(data_train, data_test, labels_train, labels_test,\n",
    "                    cache_dir=cache_dir, cache_file=\"preprocessed_data.pkl\"):\n",
    "    \"\"\"Convert each review to words; read from cache if available.\"\"\"\n",
    "\n",
    "    # If cache_file is not None, try to read from it first\n",
    "    cache_data = None\n",
    "    if cache_file is not None:\n",
    "        try:\n",
    "            with open(os.path.join(cache_dir, cache_file), \"rb\") as f:\n",
    "                cache_data = pickle.load(f)\n",
    "            print(\"Read preprocessed data from cache file:\", cache_file)\n",
    "        except:\n",
    "            pass  # unable to read from cache, but that's okay\n",
    "    \n",
    "    # If cache is missing, then do the heavy lifting\n",
    "    if cache_data is None:\n",
    "        # Preprocess training and test data to obtain words for each review\n",
    "        #words_train = list(map(review_to_words, data_train))\n",
    "        #words_test = list(map(review_to_words, data_test))\n",
    "        words_train = [review_to_words(review) for review in data_train]\n",
    "        words_test = [review_to_words(review) for review in data_test]\n",
    "        \n",
    "        # Write to cache file for future runs\n",
    "        if cache_file is not None:\n",
    "            cache_data = dict(words_train=words_train, words_test=words_test,\n",
    "                              labels_train=labels_train, labels_test=labels_test)\n",
    "            with open(os.path.join(cache_dir, cache_file), \"wb\") as f:\n",
    "                pickle.dump(cache_data, f)\n",
    "            print(\"Wrote preprocessed data to cache file:\", cache_file)\n",
    "    else:\n",
    "        # Unpack data loaded from cache file\n",
    "        words_train, words_test, labels_train, labels_test = (cache_data['words_train'],\n",
    "                cache_data['words_test'], cache_data['labels_train'], cache_data['labels_test'])\n",
    "    \n",
    "    return words_train, words_test, labels_train, labels_test"
   ]
  },
  {
   "cell_type": "code",
   "execution_count": 36,
   "metadata": {},
   "outputs": [
    {
     "name": "stdout",
     "output_type": "stream",
     "text": [
      "Read preprocessed data from cache file: preprocessed_data.pkl\n"
     ]
    }
   ],
   "source": [
    "# Preprocess data\n",
    "train_X, test_X, train_y, test_y = preprocess_data(train_X, test_X, train_y, test_y)"
   ]
  },
  {
   "cell_type": "markdown",
   "metadata": {},
   "source": [
    "## Transform the data\n",
    "\n",
    "In the XGBoost notebook we transformed the data from its word representation to a bag-of-words feature representation. For the model we are going to construct in this notebook we will construct a feature representation which is very similar. To start, we will represent each word as an integer. Of course, some of the words that appear in the reviews occur very infrequently and so likely don't contain much information for the purposes of sentiment analysis. The way we will deal with this problem is that we will fix the size of our working vocabulary and we will only include the words that appear most frequently. We will then combine all of the infrequent words into a single category and, in our case, we will label it as `1`.\n",
    "\n",
    "Since we will be using a recurrent neural network, it will be convenient if the length of each review is the same. To do this, we will fix a size for our reviews and then pad short reviews with the category 'no word' (which we will label `0`) and truncate long reviews."
   ]
  },
  {
   "cell_type": "markdown",
   "metadata": {},
   "source": [
    "### (TODO) Create a word dictionary\n",
    "\n",
    "To begin with, we need to construct a way to map words that appear in the reviews to integers. Here we fix the size of our vocabulary (including the 'no word' and 'infrequent' categories) to be `5000` but you may wish to change this to see how it affects the model.\n",
    "\n",
    "> **TODO:** Complete the implementation for the `build_dict()` method below. Note that even though the vocab_size is set to `5000`, we only want to construct a mapping for the most frequently appearing `4998` words. This is because we want to reserve the special labels `0` for 'no word' and `1` for 'infrequent word'."
   ]
  },
  {
   "cell_type": "code",
   "execution_count": 37,
   "metadata": {},
   "outputs": [],
   "source": [
    "import numpy as np\n",
    "\n",
    "def build_dict(data, vocab_size = 5000):\n",
    "    \"\"\"Construct and return a dictionary mapping each of the most frequently appearing words to a unique integer.\"\"\"\n",
    "    \n",
    "    # TODO: Determine how often each word appears in `data`. Note that `data` is a list of sentences and that a\n",
    "    #       sentence is a list of words.\n",
    "    \n",
    "    word_count = {} # A dict storing the words that appear in the reviews along with how often they occur\n",
    "    for review in data:\n",
    "        for word in review:\n",
    "            if word in word_count:\n",
    "                word_count[word] += 1\n",
    "            else:\n",
    "                word_count[word] = 1\n",
    "    # TODO: Sort the words found in `data` so that sorted_words[0] is the most frequently appearing word and\n",
    "    #       sorted_words[-1] is the least frequently appearing word.\n",
    "    \n",
    "    sorted_words = [item[0] for item in sorted(word_count.items(), key=lambda x: x[1], reverse=True)]\n",
    "    \n",
    "    word_dict = {} # This is what we are building, a dictionary that translates words into integers\n",
    "    for idx, word in enumerate(sorted_words[:vocab_size - 2]): # The -2 is so that we save room for the 'no word'\n",
    "        word_dict[word] = idx + 2                              # 'infrequent' labels\n",
    "        \n",
    "    return word_dict"
   ]
  },
  {
   "cell_type": "code",
   "execution_count": 38,
   "metadata": {},
   "outputs": [],
   "source": [
    "word_dict = build_dict(train_X)"
   ]
  },
  {
   "cell_type": "markdown",
   "metadata": {},
   "source": [
    "**Question:** What are the five most frequently appearing (tokenized) words in the training set? Does it makes sense that these words appear frequently in the training set?"
   ]
  },
  {
   "cell_type": "markdown",
   "metadata": {},
   "source": [
    "**Answer: movi,\n",
    "film,\n",
    "one,\n",
    "like,\n",
    "time**"
   ]
  },
  {
   "cell_type": "code",
   "execution_count": 39,
   "metadata": {},
   "outputs": [
    {
     "name": "stdout",
     "output_type": "stream",
     "text": [
      "The five most frequently appearing words:\n",
      "\n",
      "movi\n",
      "film\n",
      "one\n",
      "like\n",
      "time\n"
     ]
    }
   ],
   "source": [
    "# TODO: Use this space to determine the five most frequently appearing words in the training set.\n",
    "print('The five most frequently appearing words:\\n')\n",
    "\n",
    "count = 0\n",
    "for word, idx in word_dict.items():\n",
    "    print(word)\n",
    "    count += 1\n",
    "    if count == 5:\n",
    "        break;"
   ]
  },
  {
   "cell_type": "markdown",
   "metadata": {},
   "source": [
    "### Save `word_dict`\n",
    "\n",
    "Later on when we construct an endpoint which processes a submitted review we will need to make use of the `word_dict` which we have created. As such, we will save it to a file now for future use."
   ]
  },
  {
   "cell_type": "code",
   "execution_count": 40,
   "metadata": {},
   "outputs": [],
   "source": [
    "data_dir = '../data/pytorch' # The folder we will use for storing data\n",
    "if not os.path.exists(data_dir): # Make sure that the folder exists\n",
    "    os.makedirs(data_dir)"
   ]
  },
  {
   "cell_type": "code",
   "execution_count": 41,
   "metadata": {},
   "outputs": [],
   "source": [
    "with open(os.path.join(data_dir, 'word_dict.pkl'), \"wb\") as f:\n",
    "    pickle.dump(word_dict, f)"
   ]
  },
  {
   "cell_type": "markdown",
   "metadata": {},
   "source": [
    "### Transform the reviews\n",
    "\n",
    "Now that we have our word dictionary which allows us to transform the words appearing in the reviews into integers, it is time to make use of it and convert our reviews to their integer sequence representation, making sure to pad or truncate to a fixed length, which in our case is `500`."
   ]
  },
  {
   "cell_type": "code",
   "execution_count": 42,
   "metadata": {},
   "outputs": [],
   "source": [
    "def convert_and_pad(word_dict, sentence, pad=500):\n",
    "    NOWORD = 0 # We will use 0 to represent the 'no word' category\n",
    "    INFREQ = 1 # and we use 1 to represent the infrequent words, i.e., words not appearing in word_dict\n",
    "    \n",
    "    working_sentence = [NOWORD] * pad\n",
    "    \n",
    "    for word_index, word in enumerate(sentence[:pad]):\n",
    "        if word in word_dict:\n",
    "            working_sentence[word_index] = word_dict[word]\n",
    "        else:\n",
    "            working_sentence[word_index] = INFREQ\n",
    "            \n",
    "    return working_sentence, min(len(sentence), pad)\n",
    "\n",
    "def convert_and_pad_data(word_dict, data, pad=500):\n",
    "    result = []\n",
    "    lengths = []\n",
    "    \n",
    "    for sentence in data:\n",
    "        converted, leng = convert_and_pad(word_dict, sentence, pad)\n",
    "        result.append(converted)\n",
    "        lengths.append(leng)\n",
    "        \n",
    "    return np.array(result), np.array(lengths)"
   ]
  },
  {
   "cell_type": "code",
   "execution_count": 43,
   "metadata": {},
   "outputs": [],
   "source": [
    "train_X, train_X_len = convert_and_pad_data(word_dict, train_X)\n",
    "test_X, test_X_len = convert_and_pad_data(word_dict, test_X)"
   ]
  },
  {
   "cell_type": "markdown",
   "metadata": {},
   "source": [
    "As a quick check to make sure that things are working as intended, check to see what one of the reviews in the training set looks like after having been processeed. Does this look reasonable? What is the length of a review in the training set?"
   ]
  },
  {
   "cell_type": "code",
   "execution_count": 44,
   "metadata": {},
   "outputs": [
    {
     "data": {
      "text/plain": [
       "array([   1,  225,  157,    1, 1800,   44,   72,  407,   44,   72,   12,\n",
       "       4371, 3852, 1576,    1,   12,    2,  114,    6,  100,  802,  101,\n",
       "        536,  111,  143,   12,    1, 4922,   16,    7,   43,   29,    2,\n",
       "         84,  440, 1873,   93,    6,   12,    2,   22,  729,  233,   37,\n",
       "       1800,   44,   72,  431,   13,   16,  793, 1455,    1, 2182,   44,\n",
       "         72,   93,    6,   12,    2,  201,  131,  107,    2,   45,    5,\n",
       "         44,    8, 1096,   12,   61,   72,  127,    2,   16, 1096,    1,\n",
       "         25,    4,  321,  323,    5,  770, 4822,    2,   27,   26,   59,\n",
       "       1478, 1501,   44,   72,   28,    2, 1379,   36,   25, 1501, 2626,\n",
       "        407,   44, 1800,  142, 2626,  113,   30,  139, 2606, 1455,  147,\n",
       "        793, 1096,   19,    4,    2,  323,  407,   44,   72, 1096,  229,\n",
       "        136,  142,  116,  366,    5,    1,  147, 1003,  127,    5,   70,\n",
       "        138,   35,   27, 1247,    5, 4371, 3852,    2,    4,   35,    5,\n",
       "          2,   78,  167, 2156,  272,    8, 4371, 3852,   10,  569,  170,\n",
       "         15,  103,   78,   16,  143,   71,   49,   17,   25,  368,  251,\n",
       "         37,  251,   70,  434,  138,   70,  253,  122,   10,  138,   51,\n",
       "         10,  405,    1,    0,    0,    0,    0,    0,    0,    0,    0,\n",
       "          0,    0,    0,    0,    0,    0,    0,    0,    0,    0,    0,\n",
       "          0,    0,    0,    0,    0,    0,    0,    0,    0,    0,    0,\n",
       "          0,    0,    0,    0,    0,    0,    0,    0,    0,    0,    0,\n",
       "          0,    0,    0,    0,    0,    0,    0,    0,    0,    0,    0,\n",
       "          0,    0,    0,    0,    0,    0,    0,    0,    0,    0,    0,\n",
       "          0,    0,    0,    0,    0,    0,    0,    0,    0,    0,    0,\n",
       "          0,    0,    0,    0,    0,    0,    0,    0,    0,    0,    0,\n",
       "          0,    0,    0,    0,    0,    0,    0,    0,    0,    0,    0,\n",
       "          0,    0,    0,    0,    0,    0,    0,    0,    0,    0,    0,\n",
       "          0,    0,    0,    0,    0,    0,    0,    0,    0,    0,    0,\n",
       "          0,    0,    0,    0,    0,    0,    0,    0,    0,    0,    0,\n",
       "          0,    0,    0,    0,    0,    0,    0,    0,    0,    0,    0,\n",
       "          0,    0,    0,    0,    0,    0,    0,    0,    0,    0,    0,\n",
       "          0,    0,    0,    0,    0,    0,    0,    0,    0,    0,    0,\n",
       "          0,    0,    0,    0,    0,    0,    0,    0,    0,    0,    0,\n",
       "          0,    0,    0,    0,    0,    0,    0,    0,    0,    0,    0,\n",
       "          0,    0,    0,    0,    0,    0,    0,    0,    0,    0,    0,\n",
       "          0,    0,    0,    0,    0,    0,    0,    0,    0,    0,    0,\n",
       "          0,    0,    0,    0,    0,    0,    0,    0,    0,    0,    0,\n",
       "          0,    0,    0,    0,    0,    0,    0,    0,    0,    0,    0,\n",
       "          0,    0,    0,    0,    0,    0,    0,    0,    0,    0,    0,\n",
       "          0,    0,    0,    0,    0,    0,    0,    0,    0,    0,    0,\n",
       "          0,    0,    0,    0,    0,    0,    0,    0,    0,    0,    0,\n",
       "          0,    0,    0,    0,    0,    0,    0,    0,    0,    0,    0,\n",
       "          0,    0,    0,    0,    0,    0,    0,    0,    0,    0,    0,\n",
       "          0,    0,    0,    0,    0,    0,    0,    0,    0,    0,    0,\n",
       "          0,    0,    0,    0,    0,    0,    0,    0,    0,    0,    0,\n",
       "          0,    0,    0,    0,    0,    0,    0,    0,    0,    0,    0,\n",
       "          0,    0,    0,    0,    0])"
      ]
     },
     "execution_count": 44,
     "metadata": {},
     "output_type": "execute_result"
    }
   ],
   "source": [
    "# Use this cell to examine one of the processed reviews to make sure everything is working as intended.\n",
    "train_X[100]"
   ]
  },
  {
   "cell_type": "markdown",
   "metadata": {},
   "source": [
    "**Question:** In the cells above we use the `preprocess_data` and `convert_and_pad_data` methods to process both the training and testing set. Why or why not might this be a problem?"
   ]
  },
  {
   "cell_type": "markdown",
   "metadata": {},
   "source": [
    "**Answer: It produces the words that are not present in the dictionary and regardless of the review length the input vector holds the similar size.**"
   ]
  },
  {
   "cell_type": "markdown",
   "metadata": {},
   "source": [
    "## Step 3: Upload the data to S3\n",
    "\n",
    "As in the XGBoost notebook, we will need to upload the training dataset to S3 in order for our training code to access it. For now we will save it locally and we will upload to S3 later on.\n",
    "\n",
    "### Save the processed training dataset locally\n",
    "\n",
    "It is important to note the format of the data that we are saving as we will need to know it when we write the training code. In our case, each row of the dataset has the form `label`, `length`, `review[500]` where `review[500]` is a sequence of `500` integers representing the words in the review."
   ]
  },
  {
   "cell_type": "code",
   "execution_count": 45,
   "metadata": {},
   "outputs": [],
   "source": [
    "import pandas as pd\n",
    "    \n",
    "pd.concat([pd.DataFrame(train_y), pd.DataFrame(train_X_len), pd.DataFrame(train_X)], axis=1) \\\n",
    "        .to_csv(os.path.join(data_dir, 'train.csv'), header=False, index=False)"
   ]
  },
  {
   "cell_type": "markdown",
   "metadata": {},
   "source": [
    "### Uploading the training data\n",
    "\n",
    "\n",
    "Next, we need to upload the training data to the SageMaker default S3 bucket so that we can provide access to it while training our model."
   ]
  },
  {
   "cell_type": "code",
   "execution_count": 46,
   "metadata": {},
   "outputs": [],
   "source": [
    "import sagemaker\n",
    "\n",
    "sagemaker_session = sagemaker.Session()\n",
    "\n",
    "bucket = sagemaker_session.default_bucket()\n",
    "prefix = 'sagemaker/sentiment_rnn'\n",
    "\n",
    "role = sagemaker.get_execution_role()"
   ]
  },
  {
   "cell_type": "code",
   "execution_count": 47,
   "metadata": {},
   "outputs": [],
   "source": [
    "input_data = sagemaker_session.upload_data(path=data_dir, bucket=bucket, key_prefix=prefix)"
   ]
  },
  {
   "cell_type": "markdown",
   "metadata": {},
   "source": [
    "**NOTE:** The cell above uploads the entire contents of our data directory. This includes the `word_dict.pkl` file. This is fortunate as we will need this later on when we create an endpoint that accepts an arbitrary review. For now, we will just take note of the fact that it resides in the data directory (and so also in the S3 training bucket) and that we will need to make sure it gets saved in the model directory."
   ]
  },
  {
   "cell_type": "markdown",
   "metadata": {},
   "source": [
    "## Step 4: Build and Train the PyTorch Model\n",
    "\n",
    "In the XGBoost notebook we discussed what a model is in the SageMaker framework. In particular, a model comprises three objects\n",
    "\n",
    " - Model Artifacts,\n",
    " - Training Code, and\n",
    " - Inference Code,\n",
    " \n",
    "each of which interact with one another. In the XGBoost example we used training and inference code that was provided by Amazon. Here we will still be using containers provided by Amazon with the added benefit of being able to include our own custom code.\n",
    "\n",
    "We will start by implementing our own neural network in PyTorch along with a training script. For the purposes of this project we have provided the necessary model object in the `model.py` file, inside of the `train` folder. You can see the provided implementation by running the cell below."
   ]
  },
  {
   "cell_type": "code",
   "execution_count": 48,
   "metadata": {},
   "outputs": [
    {
     "name": "stdout",
     "output_type": "stream",
     "text": [
      "\u001b[34mimport\u001b[39;49;00m \u001b[04m\u001b[36mtorch\u001b[39;49;00m\u001b[04m\u001b[36m.\u001b[39;49;00m\u001b[04m\u001b[36mnn\u001b[39;49;00m \u001b[34mas\u001b[39;49;00m \u001b[04m\u001b[36mnn\u001b[39;49;00m\r\n",
      "\r\n",
      "\u001b[34mclass\u001b[39;49;00m \u001b[04m\u001b[32mLSTMClassifier\u001b[39;49;00m(nn.Module):\r\n",
      "    \u001b[33m\"\"\"\u001b[39;49;00m\r\n",
      "\u001b[33m    This is the simple RNN model we will be using to perform Sentiment Analysis.\u001b[39;49;00m\r\n",
      "\u001b[33m    \"\"\"\u001b[39;49;00m\r\n",
      "\r\n",
      "    \u001b[34mdef\u001b[39;49;00m \u001b[32m__init__\u001b[39;49;00m(\u001b[36mself\u001b[39;49;00m, embedding_dim, hidden_dim, vocab_size):\r\n",
      "        \u001b[33m\"\"\"\u001b[39;49;00m\r\n",
      "\u001b[33m        Initialize the model by settingg up the various layers.\u001b[39;49;00m\r\n",
      "\u001b[33m        \"\"\"\u001b[39;49;00m\r\n",
      "        \u001b[36msuper\u001b[39;49;00m(LSTMClassifier, \u001b[36mself\u001b[39;49;00m).\u001b[32m__init__\u001b[39;49;00m()\r\n",
      "\r\n",
      "        \u001b[36mself\u001b[39;49;00m.embedding = nn.Embedding(vocab_size, embedding_dim, padding_idx=\u001b[34m0\u001b[39;49;00m)\r\n",
      "        \u001b[36mself\u001b[39;49;00m.lstm = nn.LSTM(embedding_dim, hidden_dim)\r\n",
      "        \u001b[36mself\u001b[39;49;00m.dense = nn.Linear(in_features=hidden_dim, out_features=\u001b[34m1\u001b[39;49;00m)\r\n",
      "        \u001b[36mself\u001b[39;49;00m.sig = nn.Sigmoid()\r\n",
      "        \r\n",
      "        \u001b[36mself\u001b[39;49;00m.word_dict = \u001b[34mNone\u001b[39;49;00m\r\n",
      "\r\n",
      "    \u001b[34mdef\u001b[39;49;00m \u001b[32mforward\u001b[39;49;00m(\u001b[36mself\u001b[39;49;00m, x):\r\n",
      "        \u001b[33m\"\"\"\u001b[39;49;00m\r\n",
      "\u001b[33m        Perform a forward pass of our model on some input.\u001b[39;49;00m\r\n",
      "\u001b[33m        \"\"\"\u001b[39;49;00m\r\n",
      "        x = x.t()\r\n",
      "        lengths = x[\u001b[34m0\u001b[39;49;00m,:]\r\n",
      "        reviews = x[\u001b[34m1\u001b[39;49;00m:,:]\r\n",
      "        embeds = \u001b[36mself\u001b[39;49;00m.embedding(reviews)\r\n",
      "        lstm_out, _ = \u001b[36mself\u001b[39;49;00m.lstm(embeds)\r\n",
      "        out = \u001b[36mself\u001b[39;49;00m.dense(lstm_out)\r\n",
      "        out = out[lengths - \u001b[34m1\u001b[39;49;00m, \u001b[36mrange\u001b[39;49;00m(\u001b[36mlen\u001b[39;49;00m(lengths))]\r\n",
      "        \u001b[34mreturn\u001b[39;49;00m \u001b[36mself\u001b[39;49;00m.sig(out.squeeze())\r\n"
     ]
    }
   ],
   "source": [
    "!pygmentize train/model.py"
   ]
  },
  {
   "cell_type": "markdown",
   "metadata": {},
   "source": [
    "The important takeaway from the implementation provided is that there are three parameters that we may wish to tweak to improve the performance of our model. These are the embedding dimension, the hidden dimension and the size of the vocabulary. We will likely want to make these parameters configurable in the training script so that if we wish to modify them we do not need to modify the script itself. We will see how to do this later on. To start we will write some of the training code in the notebook so that we can more easily diagnose any issues that arise.\n",
    "\n",
    "First we will load a small portion of the training data set to use as a sample. It would be very time consuming to try and train the model completely in the notebook as we do not have access to a gpu and the compute instance that we are using is not particularly powerful. However, we can work on a small bit of the data to get a feel for how our training script is behaving."
   ]
  },
  {
   "cell_type": "code",
   "execution_count": 49,
   "metadata": {},
   "outputs": [],
   "source": [
    "import torch\n",
    "import torch.utils.data\n",
    "\n",
    "# Read in only the first 250 rows\n",
    "train_sample = pd.read_csv(os.path.join(data_dir, 'train.csv'), header=None, names=None, nrows=250)\n",
    "\n",
    "# Turn the input pandas dataframe into tensors\n",
    "train_sample_y = torch.from_numpy(train_sample[[0]].values).float().squeeze()\n",
    "train_sample_X = torch.from_numpy(train_sample.drop([0], axis=1).values).long()\n",
    "\n",
    "# Build the dataset\n",
    "train_sample_ds = torch.utils.data.TensorDataset(train_sample_X, train_sample_y)\n",
    "# Build the dataloader\n",
    "train_sample_dl = torch.utils.data.DataLoader(train_sample_ds, batch_size=50)"
   ]
  },
  {
   "cell_type": "markdown",
   "metadata": {},
   "source": [
    "### (TODO) Writing the training method\n",
    "\n",
    "Next we need to write the training code itself. This should be very similar to training methods that you have written before to train PyTorch models. We will leave any difficult aspects such as model saving / loading and parameter loading until a little later."
   ]
  },
  {
   "cell_type": "code",
   "execution_count": 50,
   "metadata": {},
   "outputs": [],
   "source": [
    "def train(model, train_loader, epochs, optimizer, loss_fn, device):\n",
    "    for epoch in range(1, epochs + 1):\n",
    "        model.train()\n",
    "        total_loss = 0\n",
    "        for batch in train_loader:         \n",
    "            batch_X, batch_y = batch\n",
    "            \n",
    "            batch_X = batch_X.to(device)\n",
    "            batch_y = batch_y.to(device)\n",
    "            \n",
    "            # TODO: Complete this train method to train the model provided.\n",
    "            optimizer.zero_grad()\n",
    "            out = model.forward(batch_X)\n",
    "            loss = loss_fn(out, batch_y)\n",
    "            loss.backward()\n",
    "            optimizer.step()\n",
    "            \n",
    "            total_loss += loss.data.item()\n",
    "        print(\"Epoch: {}, BCELoss: {}\".format(epoch, total_loss / len(train_loader)))"
   ]
  },
  {
   "cell_type": "markdown",
   "metadata": {},
   "source": [
    "Supposing we have the training method above, we will test that it is working by writing a bit of code in the notebook that executes our training method on the small sample training set that we loaded earlier. The reason for doing this in the notebook is so that we have an opportunity to fix any errors that arise early when they are easier to diagnose."
   ]
  },
  {
   "cell_type": "code",
   "execution_count": 51,
   "metadata": {},
   "outputs": [
    {
     "name": "stdout",
     "output_type": "stream",
     "text": [
      "Epoch: 1, BCELoss: 0.6935660123825074\n",
      "Epoch: 2, BCELoss: 0.6856466650962829\n",
      "Epoch: 3, BCELoss: 0.6793870687484741\n",
      "Epoch: 4, BCELoss: 0.6727779984474183\n",
      "Epoch: 5, BCELoss: 0.6651411771774292\n"
     ]
    }
   ],
   "source": [
    "import torch.optim as optim\n",
    "from train.model import LSTMClassifier\n",
    "\n",
    "device = torch.device(\"cuda\" if torch.cuda.is_available() else \"cpu\")\n",
    "model = LSTMClassifier(32, 100, 5000).to(device)\n",
    "optimizer = optim.Adam(model.parameters())\n",
    "loss_fn = torch.nn.BCELoss()\n",
    "\n",
    "train(model, train_sample_dl, 5, optimizer, loss_fn, device)"
   ]
  },
  {
   "cell_type": "markdown",
   "metadata": {},
   "source": [
    "In order to construct a PyTorch model using SageMaker we must provide SageMaker with a training script. We may optionally include a directory which will be copied to the container and from which our training code will be run. When the training container is executed it will check the uploaded directory (if there is one) for a `requirements.txt` file and install any required Python libraries, after which the training script will be run."
   ]
  },
  {
   "cell_type": "markdown",
   "metadata": {},
   "source": [
    "### (TODO) Training the model\n",
    "\n",
    "When a PyTorch model is constructed in SageMaker, an entry point must be specified. This is the Python file which will be executed when the model is trained. Inside of the `train` directory is a file called `train.py` which has been provided and which contains most of the necessary code to train our model. The only thing that is missing is the implementation of the `train()` method which you wrote earlier in this notebook.\n",
    "\n",
    "**TODO**: Copy the `train()` method written above and paste it into the `train/train.py` file where required.\n",
    "\n",
    "The way that SageMaker passes hyperparameters to the training script is by way of arguments. These arguments can then be parsed and used in the training script. To see how this is done take a look at the provided `train/train.py` file."
   ]
  },
  {
   "cell_type": "code",
   "execution_count": 52,
   "metadata": {},
   "outputs": [],
   "source": [
    "from sagemaker.pytorch import PyTorch\n",
    "\n",
    "estimator = PyTorch(entry_point=\"train.py\",\n",
    "                    source_dir=\"train\",\n",
    "                    role=role,\n",
    "                    framework_version='0.4.0',\n",
    "                    train_instance_count=1,\n",
    "                    train_instance_type='ml.m4.xlarge',\n",
    "                    hyperparameters={\n",
    "                        'epochs': 10,\n",
    "                        'hidden_dim': 200,\n",
    "                    })"
   ]
  },
  {
   "cell_type": "code",
   "execution_count": 53,
   "metadata": {},
   "outputs": [
    {
     "name": "stderr",
     "output_type": "stream",
     "text": [
      "'create_image_uri' will be deprecated in favor of 'ImageURIProvider' class in SageMaker Python SDK v2.\n",
      "'s3_input' class will be renamed to 'TrainingInput' in SageMaker Python SDK v2.\n",
      "'create_image_uri' will be deprecated in favor of 'ImageURIProvider' class in SageMaker Python SDK v2.\n"
     ]
    },
    {
     "name": "stdout",
     "output_type": "stream",
     "text": [
      "2021-11-17 00:10:35 Starting - Starting the training job...\n",
      "2021-11-17 00:10:55 Starting - Launching requested ML instances.........\n",
      "2021-11-17 00:12:19 Starting - Preparing the instances for training.........\n",
      "2021-11-17 00:14:06 Downloading - Downloading input data......\n",
      "2021-11-17 00:14:44 Training - Downloading the training image..\u001b[34mbash: cannot set terminal process group (-1): Inappropriate ioctl for device\u001b[0m\n",
      "\u001b[34mbash: no job control in this shell\u001b[0m\n",
      "\u001b[34m2021-11-17 00:15:16,930 sagemaker-containers INFO     Imported framework sagemaker_pytorch_container.training\u001b[0m\n",
      "\u001b[34m2021-11-17 00:15:16,932 sagemaker-containers INFO     No GPUs detected (normal if no gpus installed)\u001b[0m\n",
      "\u001b[34m2021-11-17 00:15:16,946 sagemaker_pytorch_container.training INFO     Block until all host DNS lookups succeed.\u001b[0m\n",
      "\u001b[34m2021-11-17 00:15:18,372 sagemaker_pytorch_container.training INFO     Invoking user training script.\u001b[0m\n",
      "\u001b[34m2021-11-17 00:15:18,764 sagemaker-containers INFO     Module train does not provide a setup.py. \u001b[0m\n",
      "\u001b[34mGenerating setup.py\u001b[0m\n",
      "\u001b[34m2021-11-17 00:15:18,764 sagemaker-containers INFO     Generating setup.cfg\u001b[0m\n",
      "\u001b[34m2021-11-17 00:15:18,764 sagemaker-containers INFO     Generating MANIFEST.in\u001b[0m\n",
      "\u001b[34m2021-11-17 00:15:18,765 sagemaker-containers INFO     Installing module with the following command:\u001b[0m\n",
      "\u001b[34m/usr/bin/python -m pip install -U . -r requirements.txt\u001b[0m\n",
      "\u001b[34mProcessing /opt/ml/code\u001b[0m\n",
      "\u001b[34mCollecting pandas (from -r requirements.txt (line 1))\u001b[0m\n",
      "\u001b[34m  Downloading https://files.pythonhosted.org/packages/74/24/0cdbf8907e1e3bc5a8da03345c23cbed7044330bb8f73bb12e711a640a00/pandas-0.24.2-cp35-cp35m-manylinux1_x86_64.whl (10.0MB)\u001b[0m\n",
      "\u001b[34mCollecting numpy (from -r requirements.txt (line 2))\n",
      "  Downloading https://files.pythonhosted.org/packages/b5/36/88723426b4ff576809fec7d73594fe17a35c27f8d01f93637637a29ae25b/numpy-1.18.5-cp35-cp35m-manylinux1_x86_64.whl (19.9MB)\u001b[0m\n",
      "\u001b[34mCollecting nltk (from -r requirements.txt (line 3))\n",
      "  Downloading https://files.pythonhosted.org/packages/5e/37/9532ddd4b1bbb619333d5708aaad9bf1742f051a664c3c6fa6632a105fd8/nltk-3.6.2-py3-none-any.whl (1.5MB)\u001b[0m\n",
      "\u001b[34mCollecting beautifulsoup4 (from -r requirements.txt (line 4))\n",
      "  Downloading https://files.pythonhosted.org/packages/69/bf/f0f194d3379d3f3347478bd267f754fc68c11cbf2fe302a6ab69447b1417/beautifulsoup4-4.10.0-py3-none-any.whl (97kB)\u001b[0m\n",
      "\u001b[34mCollecting html5lib (from -r requirements.txt (line 5))\n",
      "  Downloading https://files.pythonhosted.org/packages/6c/dd/a834df6482147d48e225a49515aabc28974ad5a4ca3215c18a882565b028/html5lib-1.1-py2.py3-none-any.whl (112kB)\u001b[0m\n",
      "\u001b[34mRequirement already satisfied, skipping upgrade: python-dateutil>=2.5.0 in /usr/local/lib/python3.5/dist-packages (from pandas->-r requirements.txt (line 1)) (2.7.5)\u001b[0m\n",
      "\u001b[34mCollecting pytz>=2011k (from pandas->-r requirements.txt (line 1))\n",
      "  Downloading https://files.pythonhosted.org/packages/d3/e3/d9f046b5d1c94a3aeab15f1f867aa414f8ee9d196fae6865f1d6a0ee1a0b/pytz-2021.3-py2.py3-none-any.whl (503kB)\u001b[0m\n",
      "\u001b[34mCollecting tqdm (from nltk->-r requirements.txt (line 3))\n",
      "  Downloading https://files.pythonhosted.org/packages/63/f3/b7a1b8e40fd1bd049a34566eb353527bb9b8e9b98f8b6cf803bb64d8ce95/tqdm-4.62.3-py2.py3-none-any.whl (76kB)\u001b[0m\n",
      "\u001b[34mCollecting joblib (from nltk->-r requirements.txt (line 3))\n",
      "  Downloading https://files.pythonhosted.org/packages/28/5c/cf6a2b65a321c4a209efcdf64c2689efae2cb62661f8f6f4bb28547cf1bf/joblib-0.14.1-py2.py3-none-any.whl (294kB)\u001b[0m\n",
      "\u001b[34mCollecting regex (from nltk->-r requirements.txt (line 3))\u001b[0m\n",
      "\u001b[34m  Downloading https://files.pythonhosted.org/packages/97/cd/93ad08b2f97ec95da0bd860380ce0ac7481eaccc760356ee11eda369c048/regex-2021.11.10.tar.gz (702kB)\u001b[0m\n",
      "\u001b[34mRequirement already satisfied, skipping upgrade: click in /usr/local/lib/python3.5/dist-packages (from nltk->-r requirements.txt (line 3)) (7.0)\u001b[0m\n",
      "\u001b[34mCollecting soupsieve>1.2 (from beautifulsoup4->-r requirements.txt (line 4))\n",
      "  Downloading https://files.pythonhosted.org/packages/02/fb/1c65691a9aeb7bd6ac2aa505b84cb8b49ac29c976411c6ab3659425e045f/soupsieve-2.1-py3-none-any.whl\u001b[0m\n",
      "\u001b[34mRequirement already satisfied, skipping upgrade: six>=1.9 in /usr/local/lib/python3.5/dist-packages (from html5lib->-r requirements.txt (line 5)) (1.11.0)\u001b[0m\n",
      "\u001b[34mCollecting webencodings (from html5lib->-r requirements.txt (line 5))\n",
      "  Downloading https://files.pythonhosted.org/packages/f4/24/2a3e3df732393fed8b3ebf2ec078f05546de641fe1b667ee316ec1dcf3b7/webencodings-0.5.1-py2.py3-none-any.whl\u001b[0m\n",
      "\u001b[34mBuilding wheels for collected packages: train, regex\n",
      "  Running setup.py bdist_wheel for train: started\u001b[0m\n",
      "\u001b[34m  Running setup.py bdist_wheel for train: finished with status 'done'\n",
      "  Stored in directory: /tmp/pip-ephem-wheel-cache-19kepuvt/wheels/35/24/16/37574d11bf9bde50616c67372a334f94fa8356bc7164af8ca3\n",
      "  Running setup.py bdist_wheel for regex: started\u001b[0m\n",
      "\n",
      "2021-11-17 00:15:16 Training - Training image download completed. Training in progress.\u001b[34m  Running setup.py bdist_wheel for regex: finished with status 'done'\n",
      "  Stored in directory: /root/.cache/pip/wheels/cd/5d/f5/8d8fa6ffd0251556598eb71da0c5c0374bca976273ade005ed\u001b[0m\n",
      "\u001b[34mSuccessfully built train regex\u001b[0m\n",
      "\u001b[34mInstalling collected packages: numpy, pytz, pandas, tqdm, joblib, regex, nltk, soupsieve, beautifulsoup4, webencodings, html5lib, train\n",
      "  Found existing installation: numpy 1.15.4\n",
      "    Uninstalling numpy-1.15.4:\u001b[0m\n",
      "\u001b[34m      Successfully uninstalled numpy-1.15.4\u001b[0m\n",
      "\u001b[34mSuccessfully installed beautifulsoup4-4.10.0 html5lib-1.1 joblib-0.14.1 nltk-3.6.2 numpy-1.18.5 pandas-0.24.2 pytz-2021.3 regex-2021.11.10 soupsieve-2.1 tqdm-4.62.3 train-1.0.0 webencodings-0.5.1\u001b[0m\n",
      "\u001b[34mYou are using pip version 18.1, however version 20.3.4 is available.\u001b[0m\n",
      "\u001b[34mYou should consider upgrading via the 'pip install --upgrade pip' command.\u001b[0m\n",
      "\u001b[34m2021-11-17 00:15:42,390 sagemaker-containers INFO     No GPUs detected (normal if no gpus installed)\u001b[0m\n",
      "\u001b[34m2021-11-17 00:15:42,404 sagemaker-containers INFO     Invoking user script\u001b[0m\n",
      "\u001b[34mTraining Env:\u001b[0m\n",
      "\u001b[34m{\n",
      "    \"user_entry_point\": \"train.py\",\n",
      "    \"network_interface_name\": \"eth0\",\n",
      "    \"output_intermediate_dir\": \"/opt/ml/output/intermediate\",\n",
      "    \"input_dir\": \"/opt/ml/input\",\n",
      "    \"hyperparameters\": {\n",
      "        \"hidden_dim\": 200,\n",
      "        \"epochs\": 10\n",
      "    },\n",
      "    \"model_dir\": \"/opt/ml/model\",\n",
      "    \"framework_module\": \"sagemaker_pytorch_container.training:main\",\n",
      "    \"output_dir\": \"/opt/ml/output\",\n",
      "    \"hosts\": [\n",
      "        \"algo-1\"\n",
      "    ],\n",
      "    \"input_data_config\": {\n",
      "        \"training\": {\n",
      "            \"S3DistributionType\": \"FullyReplicated\",\n",
      "            \"RecordWrapperType\": \"None\",\n",
      "            \"TrainingInputMode\": \"File\"\n",
      "        }\n",
      "    },\n",
      "    \"num_gpus\": 0,\n",
      "    \"output_data_dir\": \"/opt/ml/output/data\",\n",
      "    \"log_level\": 20,\n",
      "    \"additional_framework_parameters\": {},\n",
      "    \"current_host\": \"algo-1\",\n",
      "    \"module_dir\": \"s3://sagemaker-us-east-1-826720326795/sagemaker-pytorch-2021-11-17-00-10-35-460/source/sourcedir.tar.gz\",\n",
      "    \"num_cpus\": 4,\n",
      "    \"job_name\": \"sagemaker-pytorch-2021-11-17-00-10-35-460\",\n",
      "    \"channel_input_dirs\": {\n",
      "        \"training\": \"/opt/ml/input/data/training\"\n",
      "    },\n",
      "    \"input_config_dir\": \"/opt/ml/input/config\",\n",
      "    \"resource_config\": {\n",
      "        \"current_host\": \"algo-1\",\n",
      "        \"network_interface_name\": \"eth0\",\n",
      "        \"hosts\": [\n",
      "            \"algo-1\"\n",
      "        ]\n",
      "    },\n",
      "    \"module_name\": \"train\"\u001b[0m\n",
      "\u001b[34m}\u001b[0m\n",
      "\u001b[34mEnvironment variables:\u001b[0m\n",
      "\u001b[34mSM_NUM_CPUS=4\u001b[0m\n",
      "\u001b[34mSM_MODULE_DIR=s3://sagemaker-us-east-1-826720326795/sagemaker-pytorch-2021-11-17-00-10-35-460/source/sourcedir.tar.gz\u001b[0m\n",
      "\u001b[34mSM_INPUT_CONFIG_DIR=/opt/ml/input/config\u001b[0m\n",
      "\u001b[34mSM_RESOURCE_CONFIG={\"current_host\":\"algo-1\",\"hosts\":[\"algo-1\"],\"network_interface_name\":\"eth0\"}\u001b[0m\n",
      "\u001b[34mSM_FRAMEWORK_MODULE=sagemaker_pytorch_container.training:main\u001b[0m\n",
      "\u001b[34mSM_CHANNELS=[\"training\"]\u001b[0m\n",
      "\u001b[34mSM_CURRENT_HOST=algo-1\u001b[0m\n",
      "\u001b[34mSM_LOG_LEVEL=20\u001b[0m\n",
      "\u001b[34mSM_NETWORK_INTERFACE_NAME=eth0\u001b[0m\n",
      "\u001b[34mSM_CHANNEL_TRAINING=/opt/ml/input/data/training\u001b[0m\n",
      "\u001b[34mSM_INPUT_DIR=/opt/ml/input\u001b[0m\n",
      "\u001b[34mSM_USER_ENTRY_POINT=train.py\u001b[0m\n",
      "\u001b[34mSM_HPS={\"epochs\":10,\"hidden_dim\":200}\u001b[0m\n",
      "\u001b[34mSM_OUTPUT_DATA_DIR=/opt/ml/output/data\u001b[0m\n",
      "\u001b[34mSM_OUTPUT_INTERMEDIATE_DIR=/opt/ml/output/intermediate\u001b[0m\n",
      "\u001b[34mSM_OUTPUT_DIR=/opt/ml/output\u001b[0m\n",
      "\u001b[34mPYTHONPATH=/usr/local/bin:/usr/lib/python35.zip:/usr/lib/python3.5:/usr/lib/python3.5/plat-x86_64-linux-gnu:/usr/lib/python3.5/lib-dynload:/usr/local/lib/python3.5/dist-packages:/usr/lib/python3/dist-packages\u001b[0m\n",
      "\u001b[34mSM_MODEL_DIR=/opt/ml/model\u001b[0m\n",
      "\u001b[34mSM_TRAINING_ENV={\"additional_framework_parameters\":{},\"channel_input_dirs\":{\"training\":\"/opt/ml/input/data/training\"},\"current_host\":\"algo-1\",\"framework_module\":\"sagemaker_pytorch_container.training:main\",\"hosts\":[\"algo-1\"],\"hyperparameters\":{\"epochs\":10,\"hidden_dim\":200},\"input_config_dir\":\"/opt/ml/input/config\",\"input_data_config\":{\"training\":{\"RecordWrapperType\":\"None\",\"S3DistributionType\":\"FullyReplicated\",\"TrainingInputMode\":\"File\"}},\"input_dir\":\"/opt/ml/input\",\"job_name\":\"sagemaker-pytorch-2021-11-17-00-10-35-460\",\"log_level\":20,\"model_dir\":\"/opt/ml/model\",\"module_dir\":\"s3://sagemaker-us-east-1-826720326795/sagemaker-pytorch-2021-11-17-00-10-35-460/source/sourcedir.tar.gz\",\"module_name\":\"train\",\"network_interface_name\":\"eth0\",\"num_cpus\":4,\"num_gpus\":0,\"output_data_dir\":\"/opt/ml/output/data\",\"output_dir\":\"/opt/ml/output\",\"output_intermediate_dir\":\"/opt/ml/output/intermediate\",\"resource_config\":{\"current_host\":\"algo-1\",\"hosts\":[\"algo-1\"],\"network_interface_name\":\"eth0\"},\"user_entry_point\":\"train.py\"}\u001b[0m\n",
      "\u001b[34mSM_INPUT_DATA_CONFIG={\"training\":{\"RecordWrapperType\":\"None\",\"S3DistributionType\":\"FullyReplicated\",\"TrainingInputMode\":\"File\"}}\u001b[0m\n",
      "\u001b[34mSM_HOSTS=[\"algo-1\"]\u001b[0m\n",
      "\u001b[34mSM_HP_EPOCHS=10\u001b[0m\n",
      "\u001b[34mSM_FRAMEWORK_PARAMS={}\u001b[0m\n",
      "\u001b[34mSM_HP_HIDDEN_DIM=200\u001b[0m\n",
      "\u001b[34mSM_MODULE_NAME=train\u001b[0m\n",
      "\u001b[34mSM_USER_ARGS=[\"--epochs\",\"10\",\"--hidden_dim\",\"200\"]\u001b[0m\n",
      "\u001b[34mSM_NUM_GPUS=0\u001b[0m\n",
      "\u001b[34mInvoking script with the following command:\u001b[0m\n",
      "\u001b[34m/usr/bin/python -m train --epochs 10 --hidden_dim 200\u001b[0m\n",
      "\u001b[34mUsing device cpu.\u001b[0m\n",
      "\u001b[34mGet train data loader.\u001b[0m\n",
      "\u001b[34mModel loaded with embedding_dim 32, hidden_dim 200, vocab_size 5000.\u001b[0m\n",
      "\u001b[34m2021-11-17 00:15:45,821 sagemaker-containers INFO     Reporting training SUCCESS\u001b[0m\n",
      "\n",
      "2021-11-17 00:15:55 Uploading - Uploading generated training model\n",
      "2021-11-17 00:15:55 Completed - Training job completed\n",
      "Training seconds: 109\n",
      "Billable seconds: 109\n"
     ]
    }
   ],
   "source": [
    "estimator.fit({'training': input_data})"
   ]
  },
  {
   "cell_type": "markdown",
   "metadata": {},
   "source": [
    "## Step 5: Testing the model\n",
    "\n",
    "As mentioned at the top of this notebook, we will be testing this model by first deploying it and then sending the testing data to the deployed endpoint. We will do this so that we can make sure that the deployed model is working correctly.\n",
    "\n",
    "## Step 6: Deploy the model for testing\n",
    "\n",
    "Now that we have trained our model, we would like to test it to see how it performs. Currently our model takes input of the form `review_length, review[500]` where `review[500]` is a sequence of `500` integers which describe the words present in the review, encoded using `word_dict`. Fortunately for us, SageMaker provides built-in inference code for models with simple inputs such as this.\n",
    "\n",
    "There is one thing that we need to provide, however, and that is a function which loads the saved model. This function must be called `model_fn()` and takes as its only parameter a path to the directory where the model artifacts are stored. This function must also be present in the python file which we specified as the entry point. In our case the model loading function has been provided and so no changes need to be made.\n",
    "\n",
    "**NOTE**: When the built-in inference code is run it must import the `model_fn()` method from the `train.py` file. This is why the training code is wrapped in a main guard ( ie, `if __name__ == '__main__':` )\n",
    "\n",
    "Since we don't need to change anything in the code that was uploaded during training, we can simply deploy the current model as-is.\n",
    "\n",
    "**NOTE:** When deploying a model you are asking SageMaker to launch an compute instance that will wait for data to be sent to it. As a result, this compute instance will continue to run until *you* shut it down. This is important to know since the cost of a deployed endpoint depends on how long it has been running for.\n",
    "\n",
    "In other words **If you are no longer using a deployed endpoint, shut it down!**\n",
    "\n",
    "**TODO:** Deploy the trained model."
   ]
  },
  {
   "cell_type": "code",
   "execution_count": 54,
   "metadata": {},
   "outputs": [
    {
     "name": "stderr",
     "output_type": "stream",
     "text": [
      "Parameter image will be renamed to image_uri in SageMaker Python SDK v2.\n",
      "'create_image_uri' will be deprecated in favor of 'ImageURIProvider' class in SageMaker Python SDK v2.\n"
     ]
    },
    {
     "name": "stdout",
     "output_type": "stream",
     "text": [
      "---------!"
     ]
    }
   ],
   "source": [
    "# TODO: Deploy the trained model\n",
    "predictor = estimator.deploy(initial_instance_count=1, instance_type='ml.m4.xlarge')\n"
   ]
  },
  {
   "cell_type": "markdown",
   "metadata": {},
   "source": [
    "## Step 7 - Use the model for testing\n",
    "\n",
    "Once deployed, we can read in the test data and send it off to our deployed model to get some results. Once we collect all of the results we can determine how accurate our model is."
   ]
  },
  {
   "cell_type": "code",
   "execution_count": 55,
   "metadata": {},
   "outputs": [],
   "source": [
    "test_X = pd.concat([pd.DataFrame(test_X_len), pd.DataFrame(test_X)], axis=1)"
   ]
  },
  {
   "cell_type": "code",
   "execution_count": 56,
   "metadata": {},
   "outputs": [],
   "source": [
    "# We split the data into chunks and send each chunk seperately, accumulating the results.\n",
    "\n",
    "def predict(data, rows=512):\n",
    "    split_array = np.array_split(data, int(data.shape[0] / float(rows) + 1))\n",
    "    predictions = np.array([])\n",
    "    for array in split_array:\n",
    "        predictions = np.append(predictions, predictor.predict(array))\n",
    "    \n",
    "    return predictions"
   ]
  },
  {
   "cell_type": "code",
   "execution_count": 57,
   "metadata": {},
   "outputs": [],
   "source": [
    "predictions = predict(test_X.values)\n",
    "predictions = [round(num) for num in predictions]"
   ]
  },
  {
   "cell_type": "code",
   "execution_count": 58,
   "metadata": {},
   "outputs": [
    {
     "data": {
      "text/plain": [
       "0.5024"
      ]
     },
     "execution_count": 58,
     "metadata": {},
     "output_type": "execute_result"
    }
   ],
   "source": [
    "from sklearn.metrics import accuracy_score\n",
    "accuracy_score(test_y, predictions)"
   ]
  },
  {
   "cell_type": "markdown",
   "metadata": {},
   "source": [
    "**Question:** How does this model compare to the XGBoost model you created earlier? Why might these two models perform differently on this dataset? Which do *you* think is better for sentiment analysis?"
   ]
  },
  {
   "cell_type": "markdown",
   "metadata": {},
   "source": [
    "**Answer: I got an accuracy of 0.5024 so I definitely think that XGBoost model is better.**"
   ]
  },
  {
   "cell_type": "markdown",
   "metadata": {},
   "source": [
    "### (TODO) More testing\n",
    "\n",
    "We now have a trained model which has been deployed and which we can send processed reviews to and which returns the predicted sentiment. However, ultimately we would like to be able to send our model an unprocessed review. That is, we would like to send the review itself as a string. For example, suppose we wish to send the following review to our model."
   ]
  },
  {
   "cell_type": "code",
   "execution_count": 59,
   "metadata": {},
   "outputs": [],
   "source": [
    "test_review = 'The simplest pleasures in life are the best, and this film is one of them. Combining a rather basic storyline of love and adventure this movie transcends the usual weekend fair with wit and unmitigated charm.'"
   ]
  },
  {
   "cell_type": "markdown",
   "metadata": {},
   "source": [
    "The question we now need to answer is, how do we send this review to our model?\n",
    "\n",
    "Recall in the first section of this notebook we did a bunch of data processing to the IMDb dataset. In particular, we did two specific things to the provided reviews.\n",
    " - Removed any html tags and stemmed the input\n",
    " - Encoded the review as a sequence of integers using `word_dict`\n",
    " \n",
    "In order process the review we will need to repeat these two steps.\n",
    "\n",
    "**TODO**: Using the `review_to_words` and `convert_and_pad` methods from section one, convert `test_review` into a numpy array `test_data` suitable to send to our model. Remember that our model expects input of the form `review_length, review[500]`. So make sure you produce two variables from processing: \n",
    "- A sequence of length 500 which represents the converted review\n",
    "- The length of the review"
   ]
  },
  {
   "cell_type": "code",
   "execution_count": 62,
   "metadata": {},
   "outputs": [],
   "source": [
    "# TODO: Convert test_review into a form usable by the model and save the results in test_data\n",
    "test_data_review_to_words = review_to_words(test_review)\n",
    "test_data = [np.array(convert_and_pad(word_dict, test_data_review_to_words)[0])]"
   ]
  },
  {
   "cell_type": "markdown",
   "metadata": {},
   "source": [
    "Now that we have processed the review, we can send the resulting array to our model to predict the sentiment of the review."
   ]
  },
  {
   "cell_type": "code",
   "execution_count": 63,
   "metadata": {},
   "outputs": [
    {
     "data": {
      "text/plain": [
       "array(0.47650686, dtype=float32)"
      ]
     },
     "execution_count": 63,
     "metadata": {},
     "output_type": "execute_result"
    }
   ],
   "source": [
    "predictor.predict(test_data)"
   ]
  },
  {
   "cell_type": "markdown",
   "metadata": {},
   "source": [
    "Since the return value of our model is close to `1`, we can be certain that the review we submitted is positive."
   ]
  },
  {
   "cell_type": "markdown",
   "metadata": {},
   "source": [
    "### Delete the endpoint\n",
    "\n",
    "Of course, just like in the XGBoost notebook, once we've deployed an endpoint it continues to run until we tell it to shut down. Since we are done using our endpoint for now, we can delete it."
   ]
  },
  {
   "cell_type": "code",
   "execution_count": 64,
   "metadata": {},
   "outputs": [
    {
     "name": "stderr",
     "output_type": "stream",
     "text": [
      "estimator.delete_endpoint() will be deprecated in SageMaker Python SDK v2. Please use the delete_endpoint() function on your predictor instead.\n"
     ]
    }
   ],
   "source": [
    "estimator.delete_endpoint()"
   ]
  },
  {
   "cell_type": "markdown",
   "metadata": {},
   "source": [
    "## Step 6 (again) - Deploy the model for the web app\n",
    "\n",
    "Now that we know that our model is working, it's time to create some custom inference code so that we can send the model a review which has not been processed and have it determine the sentiment of the review.\n",
    "\n",
    "As we saw above, by default the estimator which we created, when deployed, will use the entry script and directory which we provided when creating the model. However, since we now wish to accept a string as input and our model expects a processed review, we need to write some custom inference code.\n",
    "\n",
    "We will store the code that we write in the `serve` directory. Provided in this directory is the `model.py` file that we used to construct our model, a `utils.py` file which contains the `review_to_words` and `convert_and_pad` pre-processing functions which we used during the initial data processing, and `predict.py`, the file which will contain our custom inference code. Note also that `requirements.txt` is present which will tell SageMaker what Python libraries are required by our custom inference code.\n",
    "\n",
    "When deploying a PyTorch model in SageMaker, you are expected to provide four functions which the SageMaker inference container will use.\n",
    " - `model_fn`: This function is the same function that we used in the training script and it tells SageMaker how to load our model.\n",
    " - `input_fn`: This function receives the raw serialized input that has been sent to the model's endpoint and its job is to de-serialize and make the input available for the inference code.\n",
    " - `output_fn`: This function takes the output of the inference code and its job is to serialize this output and return it to the caller of the model's endpoint.\n",
    " - `predict_fn`: The heart of the inference script, this is where the actual prediction is done and is the function which you will need to complete.\n",
    "\n",
    "For the simple website that we are constructing during this project, the `input_fn` and `output_fn` methods are relatively straightforward. We only require being able to accept a string as input and we expect to return a single value as output. You might imagine though that in a more complex application the input or output may be image data or some other binary data which would require some effort to serialize.\n",
    "\n",
    "### (TODO) Writing inference code\n",
    "\n",
    "Before writing our custom inference code, we will begin by taking a look at the code which has been provided."
   ]
  },
  {
   "cell_type": "code",
   "execution_count": 66,
   "metadata": {},
   "outputs": [
    {
     "name": "stdout",
     "output_type": "stream",
     "text": [
      "\u001b[34mimport\u001b[39;49;00m \u001b[04m\u001b[36margparse\u001b[39;49;00m\r\n",
      "\u001b[34mimport\u001b[39;49;00m \u001b[04m\u001b[36mjson\u001b[39;49;00m\r\n",
      "\u001b[34mimport\u001b[39;49;00m \u001b[04m\u001b[36mos\u001b[39;49;00m\r\n",
      "\u001b[34mimport\u001b[39;49;00m \u001b[04m\u001b[36mpickle\u001b[39;49;00m\r\n",
      "\u001b[34mimport\u001b[39;49;00m \u001b[04m\u001b[36msys\u001b[39;49;00m\r\n",
      "\u001b[34mimport\u001b[39;49;00m \u001b[04m\u001b[36msagemaker_containers\u001b[39;49;00m\r\n",
      "\u001b[34mimport\u001b[39;49;00m \u001b[04m\u001b[36mpandas\u001b[39;49;00m \u001b[34mas\u001b[39;49;00m \u001b[04m\u001b[36mpd\u001b[39;49;00m\r\n",
      "\u001b[34mimport\u001b[39;49;00m \u001b[04m\u001b[36mnumpy\u001b[39;49;00m \u001b[34mas\u001b[39;49;00m \u001b[04m\u001b[36mnp\u001b[39;49;00m\r\n",
      "\u001b[34mimport\u001b[39;49;00m \u001b[04m\u001b[36mtorch\u001b[39;49;00m\r\n",
      "\u001b[34mimport\u001b[39;49;00m \u001b[04m\u001b[36mtorch\u001b[39;49;00m\u001b[04m\u001b[36m.\u001b[39;49;00m\u001b[04m\u001b[36mnn\u001b[39;49;00m \u001b[34mas\u001b[39;49;00m \u001b[04m\u001b[36mnn\u001b[39;49;00m\r\n",
      "\u001b[34mimport\u001b[39;49;00m \u001b[04m\u001b[36mtorch\u001b[39;49;00m\u001b[04m\u001b[36m.\u001b[39;49;00m\u001b[04m\u001b[36moptim\u001b[39;49;00m \u001b[34mas\u001b[39;49;00m \u001b[04m\u001b[36moptim\u001b[39;49;00m\r\n",
      "\u001b[34mimport\u001b[39;49;00m \u001b[04m\u001b[36mtorch\u001b[39;49;00m\u001b[04m\u001b[36m.\u001b[39;49;00m\u001b[04m\u001b[36mutils\u001b[39;49;00m\u001b[04m\u001b[36m.\u001b[39;49;00m\u001b[04m\u001b[36mdata\u001b[39;49;00m\r\n",
      "\r\n",
      "\u001b[34mfrom\u001b[39;49;00m \u001b[04m\u001b[36mmodel\u001b[39;49;00m \u001b[34mimport\u001b[39;49;00m LSTMClassifier\r\n",
      "\r\n",
      "\u001b[34mfrom\u001b[39;49;00m \u001b[04m\u001b[36mutils\u001b[39;49;00m \u001b[34mimport\u001b[39;49;00m review_to_words, convert_and_pad\r\n",
      "\r\n",
      "\u001b[34mdef\u001b[39;49;00m \u001b[32mmodel_fn\u001b[39;49;00m(model_dir):\r\n",
      "    \u001b[33m\"\"\"Load the PyTorch model from the `model_dir` directory.\"\"\"\u001b[39;49;00m\r\n",
      "    \u001b[36mprint\u001b[39;49;00m(\u001b[33m\"\u001b[39;49;00m\u001b[33mLoading model.\u001b[39;49;00m\u001b[33m\"\u001b[39;49;00m)\r\n",
      "\r\n",
      "    \u001b[37m# First, load the parameters used to create the model.\u001b[39;49;00m\r\n",
      "    model_info = {}\r\n",
      "    model_info_path = os.path.join(model_dir, \u001b[33m'\u001b[39;49;00m\u001b[33mmodel_info.pth\u001b[39;49;00m\u001b[33m'\u001b[39;49;00m)\r\n",
      "    \u001b[34mwith\u001b[39;49;00m \u001b[36mopen\u001b[39;49;00m(model_info_path, \u001b[33m'\u001b[39;49;00m\u001b[33mrb\u001b[39;49;00m\u001b[33m'\u001b[39;49;00m) \u001b[34mas\u001b[39;49;00m f:\r\n",
      "        model_info = torch.load(f)\r\n",
      "\r\n",
      "    \u001b[36mprint\u001b[39;49;00m(\u001b[33m\"\u001b[39;49;00m\u001b[33mmodel_info: \u001b[39;49;00m\u001b[33m{}\u001b[39;49;00m\u001b[33m\"\u001b[39;49;00m.format(model_info))\r\n",
      "\r\n",
      "    \u001b[37m# Determine the device and construct the model.\u001b[39;49;00m\r\n",
      "    device = torch.device(\u001b[33m\"\u001b[39;49;00m\u001b[33mcuda\u001b[39;49;00m\u001b[33m\"\u001b[39;49;00m \u001b[34mif\u001b[39;49;00m torch.cuda.is_available() \u001b[34melse\u001b[39;49;00m \u001b[33m\"\u001b[39;49;00m\u001b[33mcpu\u001b[39;49;00m\u001b[33m\"\u001b[39;49;00m)\r\n",
      "    model = LSTMClassifier(model_info[\u001b[33m'\u001b[39;49;00m\u001b[33membedding_dim\u001b[39;49;00m\u001b[33m'\u001b[39;49;00m], model_info[\u001b[33m'\u001b[39;49;00m\u001b[33mhidden_dim\u001b[39;49;00m\u001b[33m'\u001b[39;49;00m], model_info[\u001b[33m'\u001b[39;49;00m\u001b[33mvocab_size\u001b[39;49;00m\u001b[33m'\u001b[39;49;00m])\r\n",
      "\r\n",
      "    \u001b[37m# Load the store model parameters.\u001b[39;49;00m\r\n",
      "    model_path = os.path.join(model_dir, \u001b[33m'\u001b[39;49;00m\u001b[33mmodel.pth\u001b[39;49;00m\u001b[33m'\u001b[39;49;00m)\r\n",
      "    \u001b[34mwith\u001b[39;49;00m \u001b[36mopen\u001b[39;49;00m(model_path, \u001b[33m'\u001b[39;49;00m\u001b[33mrb\u001b[39;49;00m\u001b[33m'\u001b[39;49;00m) \u001b[34mas\u001b[39;49;00m f:\r\n",
      "        model.load_state_dict(torch.load(f))\r\n",
      "\r\n",
      "    \u001b[37m# Load the saved word_dict.\u001b[39;49;00m\r\n",
      "    word_dict_path = os.path.join(model_dir, \u001b[33m'\u001b[39;49;00m\u001b[33mword_dict.pkl\u001b[39;49;00m\u001b[33m'\u001b[39;49;00m)\r\n",
      "    \u001b[34mwith\u001b[39;49;00m \u001b[36mopen\u001b[39;49;00m(word_dict_path, \u001b[33m'\u001b[39;49;00m\u001b[33mrb\u001b[39;49;00m\u001b[33m'\u001b[39;49;00m) \u001b[34mas\u001b[39;49;00m f:\r\n",
      "        model.word_dict = pickle.load(f)\r\n",
      "\r\n",
      "    model.to(device).eval()\r\n",
      "\r\n",
      "    \u001b[36mprint\u001b[39;49;00m(\u001b[33m\"\u001b[39;49;00m\u001b[33mDone loading model.\u001b[39;49;00m\u001b[33m\"\u001b[39;49;00m)\r\n",
      "    \u001b[34mreturn\u001b[39;49;00m model\r\n",
      "\r\n",
      "\u001b[34mdef\u001b[39;49;00m \u001b[32minput_fn\u001b[39;49;00m(serialized_input_data, content_type):\r\n",
      "    \u001b[36mprint\u001b[39;49;00m(\u001b[33m'\u001b[39;49;00m\u001b[33mDeserializing the input data.\u001b[39;49;00m\u001b[33m'\u001b[39;49;00m)\r\n",
      "    \u001b[34mif\u001b[39;49;00m content_type == \u001b[33m'\u001b[39;49;00m\u001b[33mtext/plain\u001b[39;49;00m\u001b[33m'\u001b[39;49;00m:\r\n",
      "        data = serialized_input_data.decode(\u001b[33m'\u001b[39;49;00m\u001b[33mutf-8\u001b[39;49;00m\u001b[33m'\u001b[39;49;00m)\r\n",
      "        \u001b[34mreturn\u001b[39;49;00m data\r\n",
      "    \u001b[34mraise\u001b[39;49;00m \u001b[36mException\u001b[39;49;00m(\u001b[33m'\u001b[39;49;00m\u001b[33mRequested unsupported ContentType in content_type: \u001b[39;49;00m\u001b[33m'\u001b[39;49;00m + content_type)\r\n",
      "\r\n",
      "\u001b[34mdef\u001b[39;49;00m \u001b[32moutput_fn\u001b[39;49;00m(prediction_output, accept):\r\n",
      "    \u001b[36mprint\u001b[39;49;00m(\u001b[33m'\u001b[39;49;00m\u001b[33mSerializing the generated output.\u001b[39;49;00m\u001b[33m'\u001b[39;49;00m)\r\n",
      "    \u001b[34mreturn\u001b[39;49;00m \u001b[36mstr\u001b[39;49;00m(prediction_output)\r\n",
      "\r\n",
      "\u001b[34mdef\u001b[39;49;00m \u001b[32mpredict_fn\u001b[39;49;00m(input_data, model):\r\n",
      "    \u001b[36mprint\u001b[39;49;00m(\u001b[33m'\u001b[39;49;00m\u001b[33mInferring sentiment of input data.\u001b[39;49;00m\u001b[33m'\u001b[39;49;00m)\r\n",
      "\r\n",
      "    device = torch.device(\u001b[33m\"\u001b[39;49;00m\u001b[33mcuda\u001b[39;49;00m\u001b[33m\"\u001b[39;49;00m \u001b[34mif\u001b[39;49;00m torch.cuda.is_available() \u001b[34melse\u001b[39;49;00m \u001b[33m\"\u001b[39;49;00m\u001b[33mcpu\u001b[39;49;00m\u001b[33m\"\u001b[39;49;00m)\r\n",
      "    \r\n",
      "    \u001b[34mif\u001b[39;49;00m model.word_dict \u001b[35mis\u001b[39;49;00m \u001b[34mNone\u001b[39;49;00m:\r\n",
      "        \u001b[34mraise\u001b[39;49;00m \u001b[36mException\u001b[39;49;00m(\u001b[33m'\u001b[39;49;00m\u001b[33mModel has not been loaded properly, no word_dict.\u001b[39;49;00m\u001b[33m'\u001b[39;49;00m)\r\n",
      "    \r\n",
      "    \u001b[37m# TODO: Process input_data so that it is ready to be sent to our model.\u001b[39;49;00m\r\n",
      "    \u001b[37m#       You should produce two variables:\u001b[39;49;00m\r\n",
      "    \u001b[37m#         data_X   - A sequence of length 500 which represents the converted review\u001b[39;49;00m\r\n",
      "    \u001b[37m#         data_len - The length of the review\u001b[39;49;00m\r\n",
      "\r\n",
      "    words = review_to_words(input_data)\r\n",
      "    data_X, data_len = convert_and_pad(model.word_dict, words)\r\n",
      "\r\n",
      "    \u001b[37m# Using data_X and data_len we construct an appropriate input tensor. Remember\u001b[39;49;00m\r\n",
      "    \u001b[37m# that our model expects input data of the form 'len, review[500]'.\u001b[39;49;00m\r\n",
      "    data_pack = np.hstack((data_len, data_X))\r\n",
      "    data_pack = data_pack.reshape(\u001b[34m1\u001b[39;49;00m, -\u001b[34m1\u001b[39;49;00m)\r\n",
      "    \r\n",
      "    data = torch.from_numpy(data_pack)\r\n",
      "    data = data.to(device)\r\n",
      "\r\n",
      "    \u001b[37m# Make sure to put the model into evaluation mode\u001b[39;49;00m\r\n",
      "    model.eval()\r\n",
      "\r\n",
      "    \u001b[37m# TODO: Compute the result of applying the model to the input data. The variable `result` should\u001b[39;49;00m\r\n",
      "    \u001b[37m#       be a numpy array which contains a single integer which is either 1 or 0\u001b[39;49;00m\r\n",
      "    \u001b[34mwith\u001b[39;49;00m torch.no_grad():\r\n",
      "        output = model.forward(data)\r\n",
      "\r\n",
      "    result = np.round(output.numpy())\r\n",
      "\r\n",
      "    \u001b[34mreturn\u001b[39;49;00m result\r\n"
     ]
    }
   ],
   "source": [
    "!pygmentize serve/predict.py"
   ]
  },
  {
   "cell_type": "markdown",
   "metadata": {},
   "source": [
    "As mentioned earlier, the `model_fn` method is the same as the one provided in the training code and the `input_fn` and `output_fn` methods are very simple and your task will be to complete the `predict_fn` method. \n",
    "\n",
    "**Note**: Our model expects input data of the form 'len, review[500]'. So make sure you produce two variables from processing: \n",
    "- `data_X`:  A sequence of length 500 which represents the converted review\n",
    "- `data_len`: - The length of the review\n",
    "\n",
    "Make sure that you save the completed file as `predict.py` in the `serve` directory.\n",
    "\n",
    "**TODO**: Complete the `predict_fn()` method in the `serve/predict.py` file."
   ]
  },
  {
   "cell_type": "markdown",
   "metadata": {},
   "source": [
    "### Deploying the model\n",
    "\n",
    "Now that the custom inference code has been written, we will create and deploy our model. To begin with, we need to construct a new PyTorchModel object which points to the model artifacts created during training and also points to the inference code that we wish to use. Then we can call the deploy method to launch the deployment container.\n",
    "\n",
    "**NOTE**: The default behaviour for a deployed PyTorch model is to assume that any input passed to the predictor is a `numpy` array. In our case we want to send a string so we need to construct a simple wrapper around the `RealTimePredictor` class to accomodate simple strings. In a more complicated situation you may want to provide a serialization object, for example if you wanted to sent image data."
   ]
  },
  {
   "cell_type": "code",
   "execution_count": 67,
   "metadata": {},
   "outputs": [
    {
     "name": "stderr",
     "output_type": "stream",
     "text": [
      "Parameter image will be renamed to image_uri in SageMaker Python SDK v2.\n",
      "'create_image_uri' will be deprecated in favor of 'ImageURIProvider' class in SageMaker Python SDK v2.\n"
     ]
    },
    {
     "name": "stdout",
     "output_type": "stream",
     "text": [
      "---------!"
     ]
    }
   ],
   "source": [
    "from sagemaker.predictor import RealTimePredictor\n",
    "from sagemaker.pytorch import PyTorchModel\n",
    "\n",
    "class StringPredictor(RealTimePredictor):\n",
    "    def __init__(self, endpoint_name, sagemaker_session):\n",
    "        super(StringPredictor, self).__init__(endpoint_name, sagemaker_session, content_type='text/plain')\n",
    "\n",
    "model = PyTorchModel(model_data=estimator.model_data,\n",
    "                     role = role,\n",
    "                     framework_version='0.4.0',\n",
    "                     entry_point='predict.py',\n",
    "                     source_dir='serve',\n",
    "                     predictor_cls=StringPredictor)\n",
    "predictor = model.deploy(initial_instance_count=1, instance_type='ml.m4.xlarge')"
   ]
  },
  {
   "cell_type": "markdown",
   "metadata": {},
   "source": [
    "### Testing the model\n",
    "\n",
    "Now that we have deployed our model with the custom inference code, we should test to see if everything is working. Here we test our model by loading the first `250` positive and negative reviews and send them to the endpoint, then collect the results. The reason for only sending some of the data is that the amount of time it takes for our model to process the input and then perform inference is quite long and so testing the entire data set would be prohibitive."
   ]
  },
  {
   "cell_type": "code",
   "execution_count": 68,
   "metadata": {},
   "outputs": [],
   "source": [
    "import glob\n",
    "\n",
    "def test_reviews(data_dir='../data/aclImdb', stop=250):\n",
    "    \n",
    "    results = []\n",
    "    ground = []\n",
    "    \n",
    "    # We make sure to test both positive and negative reviews    \n",
    "    for sentiment in ['pos', 'neg']:\n",
    "        \n",
    "        path = os.path.join(data_dir, 'test', sentiment, '*.txt')\n",
    "        files = glob.glob(path)\n",
    "        \n",
    "        files_read = 0\n",
    "        \n",
    "        print('Starting ', sentiment, ' files')\n",
    "        \n",
    "        # Iterate through the files and send them to the predictor\n",
    "        for f in files:\n",
    "            with open(f) as review:\n",
    "                # First, we store the ground truth (was the review positive or negative)\n",
    "                if sentiment == 'pos':\n",
    "                    ground.append(1)\n",
    "                else:\n",
    "                    ground.append(0)\n",
    "                # Read in the review and convert to 'utf-8' for transmission via HTTP\n",
    "                review_input = review.read().encode('utf-8')\n",
    "                # Send the review to the predictor and store the results\n",
    "                results.append(float(predictor.predict(review_input)))\n",
    "                \n",
    "            # Sending reviews to our endpoint one at a time takes a while so we\n",
    "            # only send a small number of reviews\n",
    "            files_read += 1\n",
    "            if files_read == stop:\n",
    "                break\n",
    "            \n",
    "    return ground, results"
   ]
  },
  {
   "cell_type": "code",
   "execution_count": 69,
   "metadata": {},
   "outputs": [
    {
     "name": "stdout",
     "output_type": "stream",
     "text": [
      "Starting  pos  files\n",
      "Starting  neg  files\n"
     ]
    }
   ],
   "source": [
    "ground, results = test_reviews()"
   ]
  },
  {
   "cell_type": "code",
   "execution_count": 70,
   "metadata": {},
   "outputs": [
    {
     "data": {
      "text/plain": [
       "0.488"
      ]
     },
     "execution_count": 70,
     "metadata": {},
     "output_type": "execute_result"
    }
   ],
   "source": [
    "from sklearn.metrics import accuracy_score\n",
    "accuracy_score(ground, results)"
   ]
  },
  {
   "cell_type": "markdown",
   "metadata": {},
   "source": [
    "As an additional test, we can try sending the `test_review` that we looked at earlier."
   ]
  },
  {
   "cell_type": "code",
   "execution_count": 71,
   "metadata": {},
   "outputs": [
    {
     "data": {
      "text/plain": [
       "b'0.0'"
      ]
     },
     "execution_count": 71,
     "metadata": {},
     "output_type": "execute_result"
    }
   ],
   "source": [
    "predictor.predict(test_review)"
   ]
  },
  {
   "cell_type": "markdown",
   "metadata": {},
   "source": [
    "Now that we know our endpoint is working as expected, we can set up the web page that will interact with it. If you don't have time to finish the project now, make sure to skip down to the end of this notebook and shut down your endpoint. You can deploy it again when you come back."
   ]
  },
  {
   "cell_type": "markdown",
   "metadata": {},
   "source": [
    "## Step 7 (again): Use the model for the web app\n",
    "\n",
    "> **TODO:** This entire section and the next contain tasks for you to complete, mostly using the AWS console.\n",
    "\n",
    "So far we have been accessing our model endpoint by constructing a predictor object which uses the endpoint and then just using the predictor object to perform inference. What if we wanted to create a web app which accessed our model? The way things are set up currently makes that not possible since in order to access a SageMaker endpoint the app would first have to authenticate with AWS using an IAM role which included access to SageMaker endpoints. However, there is an easier way! We just need to use some additional AWS services.\n",
    "\n",
    "<img src=\"Web App Diagram.svg\">\n",
    "\n",
    "The diagram above gives an overview of how the various services will work together. On the far right is the model which we trained above and which is deployed using SageMaker. On the far left is our web app that collects a user's movie review, sends it off and expects a positive or negative sentiment in return.\n",
    "\n",
    "In the middle is where some of the magic happens. We will construct a Lambda function, which you can think of as a straightforward Python function that can be executed whenever a specified event occurs. We will give this function permission to send and recieve data from a SageMaker endpoint.\n",
    "\n",
    "Lastly, the method we will use to execute the Lambda function is a new endpoint that we will create using API Gateway. This endpoint will be a url that listens for data to be sent to it. Once it gets some data it will pass that data on to the Lambda function and then return whatever the Lambda function returns. Essentially it will act as an interface that lets our web app communicate with the Lambda function.\n",
    "\n",
    "### Setting up a Lambda function\n",
    "\n",
    "The first thing we are going to do is set up a Lambda function. This Lambda function will be executed whenever our public API has data sent to it. When it is executed it will receive the data, perform any sort of processing that is required, send the data (the review) to the SageMaker endpoint we've created and then return the result.\n",
    "\n",
    "#### Part A: Create an IAM Role for the Lambda function\n",
    "\n",
    "Since we want the Lambda function to call a SageMaker endpoint, we need to make sure that it has permission to do so. To do this, we will construct a role that we can later give the Lambda function.\n",
    "\n",
    "Using the AWS Console, navigate to the **IAM** page and click on **Roles**. Then, click on **Create role**. Make sure that the **AWS service** is the type of trusted entity selected and choose **Lambda** as the service that will use this role, then click **Next: Permissions**.\n",
    "\n",
    "In the search box type `sagemaker` and select the check box next to the **AmazonSageMakerFullAccess** policy. Then, click on **Next: Review**.\n",
    "\n",
    "Lastly, give this role a name. Make sure you use a name that you will remember later on, for example `LambdaSageMakerRole`. Then, click on **Create role**.\n",
    "\n",
    "#### Part B: Create a Lambda function\n",
    "\n",
    "Now it is time to actually create the Lambda function.\n",
    "\n",
    "Using the AWS Console, navigate to the AWS Lambda page and click on **Create a function**. When you get to the next page, make sure that **Author from scratch** is selected. Now, name your Lambda function, using a name that you will remember later on, for example `sentiment_analysis_func`. Make sure that the **Python 3.6** runtime is selected and then choose the role that you created in the previous part. Then, click on **Create Function**.\n",
    "\n",
    "On the next page you will see some information about the Lambda function you've just created. If you scroll down you should see an editor in which you can write the code that will be executed when your Lambda function is triggered. In our example, we will use the code below. \n",
    "\n",
    "```python\n",
    "# We need to use the low-level library to interact with SageMaker since the SageMaker API\n",
    "# is not available natively through Lambda.\n",
    "import boto3\n",
    "\n",
    "def lambda_handler(event, context):\n",
    "\n",
    "    # The SageMaker runtime is what allows us to invoke the endpoint that we've created.\n",
    "    runtime = boto3.Session().client('sagemaker-runtime')\n",
    "\n",
    "    # Now we use the SageMaker runtime to invoke our endpoint, sending the review we were given\n",
    "    response = runtime.invoke_endpoint(EndpointName = '**ENDPOINT NAME HERE**',    # The name of the endpoint we created\n",
    "                                       ContentType = 'text/plain',                 # The data format that is expected\n",
    "                                       Body = event['body'])                       # The actual review\n",
    "\n",
    "    # The response is an HTTP response whose body contains the result of our inference\n",
    "    result = response['Body'].read().decode('utf-8')\n",
    "\n",
    "    return {\n",
    "        'statusCode' : 200,\n",
    "        'headers' : { 'Content-Type' : 'text/plain', 'Access-Control-Allow-Origin' : '*' },\n",
    "        'body' : result\n",
    "    }\n",
    "```\n",
    "\n",
    "Once you have copy and pasted the code above into the Lambda code editor, replace the `**ENDPOINT NAME HERE**` portion with the name of the endpoint that we deployed earlier. You can determine the name of the endpoint using the code cell below."
   ]
  },
  {
   "cell_type": "code",
   "execution_count": 78,
   "metadata": {},
   "outputs": [
    {
     "data": {
      "text/plain": [
       "'sagemaker-pytorch-2021-11-17-00-34-54-204'"
      ]
     },
     "execution_count": 78,
     "metadata": {},
     "output_type": "execute_result"
    }
   ],
   "source": [
    "predictor.endpoint"
   ]
  },
  {
   "cell_type": "code",
   "execution_count": 77,
   "metadata": {},
   "outputs": [
    {
     "name": "stdout",
     "output_type": "stream",
     "text": [
      "{'movi': 2, 'film': 3, 'one': 4, 'like': 5, 'time': 6, 'good': 7, 'make': 8, 'charact': 9, 'get': 10, 'see': 11, 'watch': 12, 'stori': 13, 'even': 14, 'would': 15, 'realli': 16, 'well': 17, 'scene': 18, 'look': 19, 'show': 20, 'much': 21, 'end': 22, 'peopl': 23, 'bad': 24, 'go': 25, 'great': 26, 'also': 27, 'first': 28, 'love': 29, 'think': 30, 'way': 31, 'act': 32, 'play': 33, 'made': 34, 'thing': 35, 'could': 36, 'know': 37, 'say': 38, 'seem': 39, 'work': 40, 'plot': 41, 'two': 42, 'actor': 43, 'year': 44, 'come': 45, 'mani': 46, 'seen': 47, 'take': 48, 'life': 49, 'want': 50, 'never': 51, 'littl': 52, 'best': 53, 'tri': 54, 'man': 55, 'ever': 56, 'give': 57, 'better': 58, 'still': 59, 'perform': 60, 'find': 61, 'feel': 62, 'part': 63, 'back': 64, 'use': 65, 'someth': 66, 'director': 67, 'actual': 68, 'interest': 69, 'lot': 70, 'real': 71, 'old': 72, 'cast': 73, 'though': 74, 'live': 75, 'star': 76, 'enjoy': 77, 'guy': 78, 'anoth': 79, 'new': 80, 'role': 81, 'noth': 82, '10': 83, 'funni': 84, 'music': 85, 'point': 86, 'start': 87, 'set': 88, 'girl': 89, 'origin': 90, 'day': 91, 'world': 92, 'everi': 93, 'believ': 94, 'turn': 95, 'quit': 96, 'direct': 97, 'us': 98, 'thought': 99, 'fact': 100, 'minut': 101, 'horror': 102, 'kill': 103, 'action': 104, 'comedi': 105, 'pretti': 106, 'young': 107, 'wonder': 108, 'happen': 109, 'around': 110, 'got': 111, 'effect': 112, 'right': 113, 'long': 114, 'howev': 115, 'big': 116, 'line': 117, 'famili': 118, 'enough': 119, 'seri': 120, 'may': 121, 'need': 122, 'fan': 123, 'bit': 124, 'script': 125, 'beauti': 126, 'person': 127, 'becom': 128, 'without': 129, 'must': 130, 'alway': 131, 'friend': 132, 'tell': 133, 'reason': 134, 'saw': 135, 'last': 136, 'final': 137, 'kid': 138, 'almost': 139, 'put': 140, 'least': 141, 'sure': 142, 'done': 143, 'whole': 144, 'place': 145, 'complet': 146, 'kind': 147, 'differ': 148, 'expect': 149, 'shot': 150, 'far': 151, 'mean': 152, 'anyth': 153, 'book': 154, 'laugh': 155, 'might': 156, 'name': 157, 'sinc': 158, 'begin': 159, '2': 160, 'probabl': 161, 'woman': 162, 'help': 163, 'entertain': 164, 'let': 165, 'screen': 166, 'call': 167, 'tv': 168, 'moment': 169, 'away': 170, 'read': 171, 'yet': 172, 'rather': 173, 'worst': 174, 'run': 175, 'fun': 176, 'lead': 177, 'hard': 178, 'audienc': 179, 'idea': 180, 'anyon': 181, 'episod': 182, 'american': 183, 'found': 184, 'appear': 185, 'bore': 186, 'especi': 187, 'although': 188, 'hope': 189, 'keep': 190, 'cours': 191, 'anim': 192, 'job': 193, 'goe': 194, 'move': 195, 'sens': 196, 'dvd': 197, 'version': 198, 'war': 199, 'money': 200, 'someon': 201, 'mind': 202, 'mayb': 203, 'problem': 204, 'true': 205, 'hous': 206, 'everyth': 207, 'nice': 208, 'second': 209, 'rate': 210, 'three': 211, 'night': 212, 'face': 213, 'follow': 214, 'recommend': 215, 'main': 216, 'product': 217, 'worth': 218, 'leav': 219, 'human': 220, 'special': 221, 'excel': 222, 'togeth': 223, 'wast': 224, 'everyon': 225, 'sound': 226, 'john': 227, 'hand': 228, '1': 229, 'father': 230, 'later': 231, 'eye': 232, 'said': 233, 'view': 234, 'instead': 235, 'review': 236, 'boy': 237, 'high': 238, 'hour': 239, 'miss': 240, 'classic': 241, 'talk': 242, 'wife': 243, 'understand': 244, 'left': 245, 'care': 246, 'black': 247, 'death': 248, 'open': 249, 'murder': 250, 'write': 251, 'half': 252, 'head': 253, 'rememb': 254, 'chang': 255, 'viewer': 256, 'fight': 257, 'gener': 258, 'surpris': 259, 'short': 260, 'includ': 261, 'die': 262, 'fall': 263, 'less': 264, 'els': 265, 'entir': 266, 'piec': 267, 'involv': 268, 'pictur': 269, 'simpli': 270, 'top': 271, 'home': 272, 'power': 273, 'total': 274, 'usual': 275, 'budget': 276, 'attempt': 277, 'suppos': 278, 'releas': 279, 'hollywood': 280, 'terribl': 281, 'song': 282, 'men': 283, 'possibl': 284, 'featur': 285, 'portray': 286, 'disappoint': 287, 'poor': 288, '3': 289, 'coupl': 290, 'camera': 291, 'stupid': 292, 'dead': 293, 'wrong': 294, 'produc': 295, 'low': 296, 'either': 297, 'video': 298, 'aw': 299, 'definit': 300, 'except': 301, 'rest': 302, 'given': 303, 'absolut': 304, 'women': 305, 'lack': 306, 'word': 307, 'writer': 308, 'titl': 309, 'talent': 310, 'decid': 311, 'full': 312, 'perfect': 313, 'along': 314, 'style': 315, 'close': 316, 'truli': 317, 'school': 318, 'save': 319, 'emot': 320, 'age': 321, 'sex': 322, 'next': 323, 'bring': 324, 'mr': 325, 'case': 326, 'killer': 327, 'heart': 328, 'comment': 329, 'sort': 330, 'creat': 331, 'perhap': 332, 'came': 333, 'brother': 334, 'sever': 335, 'joke': 336, 'art': 337, 'dialogu': 338, 'game': 339, 'small': 340, 'base': 341, 'flick': 342, 'written': 343, 'sequenc': 344, 'meet': 345, 'earli': 346, 'often': 347, 'other': 348, 'mother': 349, 'develop': 350, 'humor': 351, 'actress': 352, 'consid': 353, 'dark': 354, 'guess': 355, 'amaz': 356, 'unfortun': 357, 'light': 358, 'lost': 359, 'exampl': 360, 'cinema': 361, 'drama': 362, 'white': 363, 'ye': 364, 'experi': 365, 'imagin': 366, 'mention': 367, 'stop': 368, 'natur': 369, 'forc': 370, 'manag': 371, 'felt': 372, 'cut': 373, 'present': 374, 'children': 375, 'fail': 376, 'son': 377, 'support': 378, 'car': 379, 'qualiti': 380, 'ask': 381, 'hit': 382, 'side': 383, 'voic': 384, 'extrem': 385, 'impress': 386, 'wors': 387, 'evil': 388, 'stand': 389, 'went': 390, 'certainli': 391, 'basic': 392, 'oh': 393, 'overal': 394, 'favorit': 395, 'horribl': 396, 'mysteri': 397, 'number': 398, 'type': 399, 'danc': 400, 'wait': 401, 'hero': 402, '5': 403, 'alreadi': 404, 'learn': 405, 'matter': 406, '4': 407, 'michael': 408, 'genr': 409, 'fine': 410, 'despit': 411, 'throughout': 412, 'walk': 413, 'success': 414, 'histori': 415, 'question': 416, 'zombi': 417, 'town': 418, 'relationship': 419, 'realiz': 420, 'past': 421, 'child': 422, 'daughter': 423, 'late': 424, 'b': 425, 'wish': 426, 'credit': 427, 'hate': 428, 'event': 429, 'theme': 430, 'touch': 431, 'citi': 432, 'today': 433, 'sometim': 434, 'behind': 435, 'god': 436, 'twist': 437, 'sit': 438, 'stay': 439, 'deal': 440, 'annoy': 441, 'abl': 442, 'rent': 443, 'pleas': 444, 'edit': 445, 'blood': 446, 'deserv': 447, 'comic': 448, 'anyway': 449, 'appar': 450, 'soon': 451, 'gave': 452, 'etc': 453, 'level': 454, 'slow': 455, 'chanc': 456, 'score': 457, 'bodi': 458, 'brilliant': 459, 'incred': 460, 'figur': 461, 'situat': 462, 'major': 463, 'self': 464, 'stuff': 465, 'decent': 466, 'element': 467, 'return': 468, 'dream': 469, 'obvious': 470, 'continu': 471, 'order': 472, 'pace': 473, 'ridicul': 474, 'happi': 475, 'group': 476, 'add': 477, 'highli': 478, 'thank': 479, 'ladi': 480, 'novel': 481, 'speak': 482, 'pain': 483, 'career': 484, 'shoot': 485, 'strang': 486, 'heard': 487, 'sad': 488, 'husband': 489, 'polic': 490, 'import': 491, 'break': 492, 'took': 493, 'cannot': 494, 'strong': 495, 'predict': 496, 'robert': 497, 'violenc': 498, 'hilari': 499, 'recent': 500, 'countri': 501, 'known': 502, 'particularli': 503, 'pick': 504, 'documentari': 505, 'season': 506, 'critic': 507, 'jame': 508, 'compar': 509, 'obviou': 510, 'alon': 511, 'told': 512, 'state': 513, 'visual': 514, 'rock': 515, 'offer': 516, 'exist': 517, 'theater': 518, 'opinion': 519, 'gore': 520, 'crap': 521, 'hold': 522, 'result': 523, 'room': 524, 'realiti': 525, 'hear': 526, 'clich': 527, 'effort': 528, 'thriller': 529, 'caus': 530, 'serious': 531, 'sequel': 532, 'explain': 533, 'king': 534, 'local': 535, 'ago': 536, 'hell': 537, 'none': 538, 'note': 539, 'allow': 540, 'sister': 541, 'david': 542, 'simpl': 543, 'femal': 544, 'deliv': 545, 'ok': 546, 'convinc': 547, 'class': 548, 'check': 549, 'suspens': 550, 'win': 551, 'buy': 552, 'oscar': 553, 'huge': 554, 'valu': 555, 'sexual': 556, 'cool': 557, 'scari': 558, 'similar': 559, 'excit': 560, 'apart': 561, 'exactli': 562, 'provid': 563, 'avoid': 564, 'shown': 565, 'seriou': 566, 'english': 567, 'whose': 568, 'taken': 569, 'cinematographi': 570, 'shock': 571, 'polit': 572, 'spoiler': 573, 'offic': 574, 'across': 575, 'middl': 576, 'street': 577, 'pass': 578, 'messag': 579, 'somewhat': 580, 'charm': 581, 'silli': 582, 'modern': 583, 'filmmak': 584, 'confus': 585, 'form': 586, 'tale': 587, 'singl': 588, 'jack': 589, 'mostli': 590, 'carri': 591, 'attent': 592, 'william': 593, 'sing': 594, 'subject': 595, 'five': 596, 'richard': 597, 'prove': 598, 'team': 599, 'stage': 600, 'cop': 601, 'unlik': 602, 'georg': 603, 'televis': 604, 'monster': 605, 'earth': 606, 'cover': 607, 'villain': 608, 'pay': 609, 'marri': 610, 'toward': 611, 'build': 612, 'parent': 613, 'pull': 614, 'due': 615, 'fill': 616, 'respect': 617, 'four': 618, 'dialog': 619, 'remind': 620, 'futur': 621, 'typic': 622, 'weak': 623, '7': 624, 'cheap': 625, 'intellig': 626, 'atmospher': 627, 'british': 628, '80': 629, 'clearli': 630, 'dog': 631, 'non': 632, 'paul': 633, 'artist': 634, '8': 635, 'knew': 636, 'fast': 637, 'crime': 638, 'easili': 639, 'escap': 640, 'doubt': 641, 'adult': 642, 'detail': 643, 'date': 644, 'romant': 645, 'member': 646, 'fire': 647, 'drive': 648, 'gun': 649, 'straight': 650, 'beyond': 651, 'fit': 652, 'attack': 653, 'imag': 654, 'upon': 655, 'posit': 656, 'whether': 657, 'fantast': 658, 'peter': 659, 'captur': 660, 'aspect': 661, 'appreci': 662, 'ten': 663, 'plan': 664, 'discov': 665, 'remain': 666, 'period': 667, 'near': 668, 'air': 669, 'realist': 670, 'mark': 671, 'red': 672, 'dull': 673, 'adapt': 674, 'within': 675, 'spend': 676, 'lose': 677, 'materi': 678, 'color': 679, 'chase': 680, 'mari': 681, 'storylin': 682, 'forget': 683, 'bunch': 684, 'clear': 685, 'lee': 686, 'victim': 687, 'nearli': 688, 'box': 689, 'york': 690, 'match': 691, 'inspir': 692, 'mess': 693, 'finish': 694, 'standard': 695, 'easi': 696, 'truth': 697, 'suffer': 698, 'busi': 699, 'dramat': 700, 'bill': 701, 'space': 702, 'western': 703, 'e': 704, 'list': 705, 'battl': 706, 'notic': 707, 'de': 708, 'french': 709, 'ad': 710, '9': 711, 'tom': 712, 'larg': 713, 'among': 714, 'eventu': 715, 'accept': 716, 'train': 717, 'agre': 718, 'spirit': 719, 'soundtrack': 720, 'third': 721, 'teenag': 722, 'soldier': 723, 'adventur': 724, 'sorri': 725, 'drug': 726, 'suggest': 727, 'famou': 728, 'cri': 729, 'normal': 730, 'babi': 731, 'ultim': 732, 'troubl': 733, 'contain': 734, 'certain': 735, 'cultur': 736, 'romanc': 737, 'rare': 738, 'lame': 739, 'somehow': 740, 'mix': 741, 'disney': 742, 'gone': 743, 'cartoon': 744, 'student': 745, 'fear': 746, 'reveal': 747, 'suck': 748, 'kept': 749, 'attract': 750, 'appeal': 751, 'premis': 752, 'design': 753, 'greatest': 754, 'secret': 755, 'shame': 756, 'throw': 757, 'copi': 758, 'scare': 759, 'wit': 760, 'admit': 761, 'america': 762, 'brought': 763, 'relat': 764, 'particular': 765, 'screenplay': 766, 'whatev': 767, 'pure': 768, '70': 769, 'harri': 770, 'averag': 771, 'master': 772, 'describ': 773, 'male': 774, 'treat': 775, '20': 776, 'issu': 777, 'fantasi': 778, 'warn': 779, 'inde': 780, 'forward': 781, 'background': 782, 'free': 783, 'project': 784, 'memor': 785, 'japanes': 786, 'poorli': 787, 'award': 788, 'locat': 789, 'amus': 790, 'potenti': 791, 'struggl': 792, 'weird': 793, 'magic': 794, 'societi': 795, 'okay': 796, 'doctor': 797, 'accent': 798, 'imdb': 799, 'water': 800, 'hot': 801, '30': 802, 'dr': 803, 'alien': 804, 'express': 805, 'odd': 806, 'choic': 807, 'crazi': 808, 'studio': 809, 'fiction': 810, 'control': 811, 'becam': 812, 'masterpiec': 813, 'difficult': 814, 'fli': 815, 'joe': 816, 'scream': 817, 'costum': 818, 'lover': 819, 'refer': 820, 'uniqu': 821, 'remak': 822, 'girlfriend': 823, 'vampir': 824, 'prison': 825, 'execut': 826, 'wear': 827, 'jump': 828, 'unless': 829, 'wood': 830, 'creepi': 831, 'cheesi': 832, 'superb': 833, 'otherwis': 834, 'parti': 835, 'roll': 836, 'ghost': 837, 'public': 838, 'mad': 839, 'depict': 840, 'jane': 841, 'earlier': 842, 'moral': 843, 'badli': 844, 'week': 845, 'fi': 846, 'dumb': 847, 'flaw': 848, 'grow': 849, 'sci': 850, 'deep': 851, 'maker': 852, 'cat': 853, 'older': 854, 'connect': 855, 'footag': 856, 'plenti': 857, 'bother': 858, 'outsid': 859, 'stick': 860, 'gay': 861, 'catch': 862, 'plu': 863, 'co': 864, 'popular': 865, 'equal': 866, 'social': 867, 'quickli': 868, 'disturb': 869, 'perfectli': 870, 'dress': 871, 'era': 872, '90': 873, 'mistak': 874, 'lie': 875, 'previou': 876, 'ride': 877, 'combin': 878, 'band': 879, 'concept': 880, 'answer': 881, 'surviv': 882, 'rich': 883, 'front': 884, 'sweet': 885, 'christma': 886, 'insid': 887, 'concern': 888, 'eat': 889, 'bare': 890, 'ben': 891, 'beat': 892, 'listen': 893, 'c': 894, 'serv': 895, 'term': 896, 'meant': 897, 'la': 898, 'german': 899, 'hardli': 900, 'stereotyp': 901, 'law': 902, 'innoc': 903, 'desper': 904, 'memori': 905, 'promis': 906, 'cute': 907, 'intent': 908, 'inform': 909, 'variou': 910, 'steal': 911, 'brain': 912, 'post': 913, 'tone': 914, 'island': 915, 'amount': 916, 'compani': 917, 'track': 918, 'nuditi': 919, 'claim': 920, 'store': 921, 'hair': 922, '50': 923, 'flat': 924, 'univers': 925, 'land': 926, 'fairli': 927, 'kick': 928, 'danger': 929, 'scott': 930, 'player': 931, 'step': 932, 'plain': 933, 'crew': 934, 'toni': 935, 'share': 936, 'centuri': 937, 'tast': 938, 'engag': 939, 'achiev': 940, 'travel': 941, 'cold': 942, 'rip': 943, 'suit': 944, 'record': 945, 'manner': 946, 'sadli': 947, 'tension': 948, 'spot': 949, 'wrote': 950, 'intens': 951, 'fascin': 952, 'familiar': 953, 'depth': 954, 'burn': 955, 'remark': 956, 'destroy': 957, 'histor': 958, 'sleep': 959, 'purpos': 960, 'languag': 961, 'ruin': 962, 'ignor': 963, 'delight': 964, 'unbeliev': 965, 'italian': 966, 'collect': 967, 'abil': 968, 'soul': 969, 'clever': 970, 'detect': 971, 'violent': 972, 'rape': 973, 'reach': 974, 'door': 975, 'liter': 976, 'trash': 977, 'scienc': 978, 'caught': 979, 'commun': 980, 'reveng': 981, 'creatur': 982, 'approach': 983, 'trip': 984, 'fashion': 985, 'intrigu': 986, 'introduc': 987, 'paint': 988, 'skill': 989, 'channel': 990, 'complex': 991, 'camp': 992, 'christian': 993, 'extra': 994, 'hole': 995, 'ann': 996, 'limit': 997, 'mental': 998, 'immedi': 999, 'mere': 1000, 'million': 1001, 'slightli': 1002, 'comput': 1003, '6': 1004, 'slasher': 1005, 'conclus': 1006, 'suddenli': 1007, 'imposs': 1008, 'crimin': 1009, 'neither': 1010, 'teen': 1011, 'physic': 1012, 'spent': 1013, 'nation': 1014, 'respons': 1015, 'planet': 1016, 'receiv': 1017, 'fake': 1018, 'sick': 1019, 'blue': 1020, 'bizarr': 1021, 'embarrass': 1022, 'indian': 1023, 'ring': 1024, '15': 1025, 'drop': 1026, 'pop': 1027, 'drag': 1028, 'haunt': 1029, 'suspect': 1030, 'pointless': 1031, 'search': 1032, 'edg': 1033, 'handl': 1034, 'common': 1035, 'biggest': 1036, 'arriv': 1037, 'faith': 1038, 'hurt': 1039, 'technic': 1040, 'angel': 1041, 'dad': 1042, 'genuin': 1043, 'solid': 1044, 'awesom': 1045, 'f': 1046, 'van': 1047, 'former': 1048, 'focu': 1049, 'colleg': 1050, 'count': 1051, 'tear': 1052, 'heavi': 1053, 'rais': 1054, 'wall': 1055, 'visit': 1056, 'laughabl': 1057, 'younger': 1058, 'excus': 1059, 'sign': 1060, 'fair': 1061, 'cult': 1062, 'tough': 1063, 'motion': 1064, 'key': 1065, 'desir': 1066, 'super': 1067, 'addit': 1068, 'stun': 1069, 'cloth': 1070, 'exploit': 1071, 'smith': 1072, 'tortur': 1073, 'davi': 1074, 'race': 1075, 'cross': 1076, 'author': 1077, 'jim': 1078, 'minor': 1079, 'consist': 1080, 'compel': 1081, 'focus': 1082, 'commit': 1083, 'chemistri': 1084, 'pathet': 1085, 'park': 1086, 'frank': 1087, 'tradit': 1088, 'obsess': 1089, 'grade': 1090, '60': 1091, 'asid': 1092, 'brutal': 1093, 'somewher': 1094, 'steve': 1095, 'u': 1096, 'rule': 1097, 'grant': 1098, 'depress': 1099, 'opportun': 1100, 'explor': 1101, 'besid': 1102, 'honest': 1103, 'anti': 1104, 'dub': 1105, 'intend': 1106, 'trailer': 1107, 'bar': 1108, 'longer': 1109, 'west': 1110, 'regard': 1111, 'scientist': 1112, 'judg': 1113, 'decad': 1114, 'silent': 1115, 'creativ': 1116, 'armi': 1117, 'wild': 1118, 'south': 1119, 'stewart': 1120, 'g': 1121, 'draw': 1122, 'road': 1123, 'govern': 1124, 'boss': 1125, 'ex': 1126, 'practic': 1127, 'festiv': 1128, 'surprisingli': 1129, 'club': 1130, 'motiv': 1131, 'gang': 1132, 'london': 1133, 'redeem': 1134, 'green': 1135, 'page': 1136, 'display': 1137, 'militari': 1138, 'aliv': 1139, 'machin': 1140, 'idiot': 1141, 'thrill': 1142, 'repeat': 1143, 'folk': 1144, '100': 1145, 'yeah': 1146, 'nobodi': 1147, '40': 1148, 'garbag': 1149, 'journey': 1150, 'smile': 1151, 'tire': 1152, 'ground': 1153, 'bought': 1154, 'mood': 1155, 'cost': 1156, 'stone': 1157, 'sam': 1158, 'noir': 1159, 'mouth': 1160, 'terrif': 1161, 'agent': 1162, 'requir': 1163, 'utterli': 1164, 'area': 1165, 'sexi': 1166, 'honestli': 1167, 'geniu': 1168, 'report': 1169, 'glad': 1170, 'enter': 1171, 'humour': 1172, 'investig': 1173, 'serial': 1174, 'occasion': 1175, 'passion': 1176, 'narr': 1177, 'climax': 1178, 'marriag': 1179, 'studi': 1180, 'industri': 1181, 'ship': 1182, 'nowher': 1183, 'demon': 1184, 'center': 1185, 'charli': 1186, 'bear': 1187, 'loos': 1188, 'hors': 1189, 'hang': 1190, 'wow': 1191, 'graphic': 1192, 'admir': 1193, 'giant': 1194, 'send': 1195, 'loud': 1196, 'damn': 1197, 'subtl': 1198, 'nake': 1199, 'profession': 1200, 'rel': 1201, 'blow': 1202, 'bottom': 1203, 'insult': 1204, 'batman': 1205, 'doubl': 1206, 'r': 1207, 'boyfriend': 1208, 'kelli': 1209, 'initi': 1210, 'frame': 1211, 'opera': 1212, 'gem': 1213, 'affect': 1214, 'drawn': 1215, 'cinemat': 1216, 'challeng': 1217, 'church': 1218, 'seek': 1219, 'l': 1220, 'j': 1221, 'evid': 1222, 'nightmar': 1223, 'fulli': 1224, 'conflict': 1225, 'essenti': 1226, 'arm': 1227, 'christoph': 1228, 'henri': 1229, 'grace': 1230, 'wind': 1231, 'narrat': 1232, 'assum': 1233, 'witch': 1234, 'hunt': 1235, 'push': 1236, 'wise': 1237, 'chri': 1238, 'repres': 1239, 'month': 1240, 'nomin': 1241, 'sceneri': 1242, 'avail': 1243, 'affair': 1244, 'hide': 1245, 'thu': 1246, 'smart': 1247, 'bond': 1248, 'justic': 1249, 'outstand': 1250, 'interview': 1251, 'flashback': 1252, 'satisfi': 1253, 'presenc': 1254, 'constantli': 1255, 'bed': 1256, 'central': 1257, 'iron': 1258, 'sell': 1259, 'content': 1260, 'everybodi': 1261, 'gag': 1262, 'hotel': 1263, 'slowli': 1264, 'hire': 1265, 'system': 1266, 'charl': 1267, 'hey': 1268, 'thrown': 1269, 'individu': 1270, 'adam': 1271, 'jone': 1272, 'mediocr': 1273, 'allen': 1274, 'lesson': 1275, 'billi': 1276, 'ray': 1277, 'cameo': 1278, 'photographi': 1279, 'pari': 1280, 'fellow': 1281, 'strike': 1282, 'brief': 1283, 'absurd': 1284, 'rise': 1285, 'independ': 1286, 'neg': 1287, 'phone': 1288, 'impact': 1289, 'born': 1290, 'ill': 1291, 'model': 1292, 'angl': 1293, 'fresh': 1294, 'spoil': 1295, 'likabl': 1296, 'abus': 1297, 'hill': 1298, 'discuss': 1299, 'ahead': 1300, 'sight': 1301, 'photograph': 1302, 'sent': 1303, 'occur': 1304, 'blame': 1305, 'logic': 1306, 'shine': 1307, 'mainli': 1308, 'bruce': 1309, 'commerci': 1310, 'skip': 1311, 'forev': 1312, 'held': 1313, 'teacher': 1314, 'surround': 1315, 'segment': 1316, 'zero': 1317, 'blond': 1318, 'trap': 1319, 'satir': 1320, 'resembl': 1321, 'summer': 1322, 'ball': 1323, 'queen': 1324, 'six': 1325, 'fool': 1326, 'sub': 1327, 'twice': 1328, 'tragedi': 1329, 'reaction': 1330, 'pack': 1331, 'bomb': 1332, 'will': 1333, 'protagonist': 1334, 'hospit': 1335, 'sport': 1336, 'mile': 1337, 'drink': 1338, 'jerri': 1339, 'trust': 1340, 'mom': 1341, 'vote': 1342, 'encount': 1343, 'plane': 1344, 'al': 1345, 'station': 1346, 'program': 1347, 'current': 1348, 'martin': 1349, 'choos': 1350, 'celebr': 1351, 'join': 1352, 'field': 1353, 'lord': 1354, 'favourit': 1355, 'tragic': 1356, 'round': 1357, 'jean': 1358, 'robot': 1359, 'vision': 1360, 'tie': 1361, 'arthur': 1362, 'random': 1363, 'fortun': 1364, 'roger': 1365, 'intern': 1366, 'psycholog': 1367, 'dread': 1368, 'prefer': 1369, 'improv': 1370, 'epic': 1371, 'nonsens': 1372, 'legend': 1373, 'highlight': 1374, 'pleasur': 1375, 'formula': 1376, 'tape': 1377, 'dollar': 1378, '11': 1379, 'object': 1380, 'thin': 1381, 'fox': 1382, 'wide': 1383, 'gorgeou': 1384, 'porn': 1385, 'ugli': 1386, 'influenc': 1387, 'buddi': 1388, 'ii': 1389, 'nasti': 1390, 'prepar': 1391, 'warm': 1392, 'supposedli': 1393, 'reflect': 1394, 'progress': 1395, 'worthi': 1396, 'youth': 1397, 'unusu': 1398, 'length': 1399, 'latter': 1400, 'crash': 1401, 'shop': 1402, 'seven': 1403, 'superior': 1404, 'childhood': 1405, 'remot': 1406, 'theatr': 1407, 'pilot': 1408, 'disgust': 1409, 'paid': 1410, 'funniest': 1411, 'convers': 1412, 'fell': 1413, 'castl': 1414, 'trick': 1415, 'gangster': 1416, 'disast': 1417, 'establish': 1418, 'rob': 1419, 'mine': 1420, 'suicid': 1421, 'disappear': 1422, 'heaven': 1423, 'ident': 1424, 'forgotten': 1425, 'tend': 1426, 'singer': 1427, 'heroin': 1428, 'decis': 1429, 'mask': 1430, 'brian': 1431, 'partner': 1432, 'alan': 1433, 'recogn': 1434, 'desert': 1435, 'sky': 1436, 'ms': 1437, 'stuck': 1438, 'thoroughli': 1439, 'p': 1440, 'replac': 1441, 'accur': 1442, 'market': 1443, 'clue': 1444, 'seemingli': 1445, 'andi': 1446, 'commentari': 1447, 'uncl': 1448, 'danni': 1449, 'eddi': 1450, 'jackson': 1451, 'devil': 1452, 'pair': 1453, 'therefor': 1454, 'that': 1455, 'refus': 1456, 'river': 1457, 'ed': 1458, 'accid': 1459, 'fate': 1460, 'fault': 1461, 'unit': 1462, 'tune': 1463, 'afraid': 1464, 'stephen': 1465, 'russian': 1466, 'clean': 1467, 'hidden': 1468, 'readi': 1469, 'irrit': 1470, 'convey': 1471, 'instanc': 1472, 'captain': 1473, 'test': 1474, 'quick': 1475, 'european': 1476, 'insan': 1477, 'daniel': 1478, 'frustrat': 1479, 'wed': 1480, 'food': 1481, 'rescu': 1482, '1950': 1483, 'chines': 1484, 'lock': 1485, 'dirti': 1486, 'angri': 1487, 'joy': 1488, 'steven': 1489, 'price': 1490, 'cage': 1491, 'bland': 1492, 'anymor': 1493, 'rang': 1494, 'wooden': 1495, 'jason': 1496, 'rush': 1497, 'news': 1498, 'n': 1499, 'martial': 1500, '12': 1501, 'board': 1502, 'worri': 1503, 'led': 1504, 'twenti': 1505, 'transform': 1506, 'symbol': 1507, 'cgi': 1508, 'hunter': 1509, 'onto': 1510, 'x': 1511, 'johnni': 1512, 'piti': 1513, 'sentiment': 1514, 'invent': 1515, 'process': 1516, 'attitud': 1517, 'explan': 1518, 'owner': 1519, 'awar': 1520, 'aim': 1521, 'favor': 1522, 'energi': 1523, 'floor': 1524, 'necessari': 1525, 'target': 1526, 'religi': 1527, 'opposit': 1528, 'insight': 1529, 'blind': 1530, 'chick': 1531, 'window': 1532, 'movement': 1533, 'research': 1534, 'possess': 1535, 'comparison': 1536, 'mountain': 1537, 'deepli': 1538, 'whatsoev': 1539, 'comed': 1540, 'rain': 1541, 'grand': 1542, 'shadow': 1543, 'bank': 1544, 'mid': 1545, 'began': 1546, 'parodi': 1547, 'princ': 1548, 'friendship': 1549, 'credibl': 1550, 'pre': 1551, 'weapon': 1552, 'taylor': 1553, 'teach': 1554, 'flesh': 1555, 'dougla': 1556, 'hint': 1557, 'bloodi': 1558, 'terror': 1559, 'protect': 1560, 'marvel': 1561, 'watchabl': 1562, 'anybodi': 1563, 'leader': 1564, 'superman': 1565, 'load': 1566, 'accord': 1567, 'drunk': 1568, 'brown': 1569, 'freddi': 1570, 'appropri': 1571, 'jeff': 1572, 'tim': 1573, 'hitler': 1574, 'seat': 1575, 'knock': 1576, 'unknown': 1577, 'charg': 1578, 'keaton': 1579, 'villag': 1580, 'england': 1581, 'unnecessari': 1582, 'media': 1583, 'enemi': 1584, 'empti': 1585, 'strength': 1586, 'buck': 1587, 'utter': 1588, 'dare': 1589, 'perspect': 1590, 'craft': 1591, 'wave': 1592, 'nativ': 1593, 'kiss': 1594, 'correct': 1595, 'contrast': 1596, 'ford': 1597, 'anywher': 1598, 'knowledg': 1599, 'soap': 1600, 'nazi': 1601, 'magnific': 1602, 'speed': 1603, 'distract': 1604, 'chill': 1605, '1980': 1606, 'ice': 1607, 'fred': 1608, 'breath': 1609, 'mission': 1610, 'joan': 1611, 'moon': 1612, 'jr': 1613, 'crowd': 1614, '000': 1615, 'kate': 1616, 'soft': 1617, 'frighten': 1618, 'dick': 1619, 'nick': 1620, 'hundr': 1621, 'dan': 1622, 'dozen': 1623, 'radio': 1624, 'somebodi': 1625, 'simon': 1626, 'thousand': 1627, 'andrew': 1628, 'loss': 1629, 'academi': 1630, 'shakespear': 1631, 'root': 1632, 'account': 1633, 'quot': 1634, 'sum': 1635, 'vehicl': 1636, '1970': 1637, 'leg': 1638, 'behavior': 1639, 'convent': 1640, 'gold': 1641, 'regular': 1642, 'demand': 1643, 'compet': 1644, 'worker': 1645, 'pretenti': 1646, 'japan': 1647, 'privat': 1648, 'candi': 1649, 'stretch': 1650, 'notabl': 1651, 'explos': 1652, 'lynch': 1653, 'interpret': 1654, 'debut': 1655, 'constant': 1656, 'tarzan': 1657, 'revolv': 1658, 'prais': 1659, 'spi': 1660, 'translat': 1661, 'sea': 1662, 'sat': 1663, 'failur': 1664, 'franc': 1665, 'technolog': 1666, 'ass': 1667, 'jesu': 1668, 'threaten': 1669, 'quiet': 1670, 'punch': 1671, 'toy': 1672, 'higher': 1673, 'aid': 1674, 'kevin': 1675, 'met': 1676, 'mike': 1677, 'vh': 1678, 'abandon': 1679, 'interact': 1680, 'separ': 1681, 'confront': 1682, 'bet': 1683, 'command': 1684, 'belong': 1685, 'gotten': 1686, 'recal': 1687, 'site': 1688, 'servic': 1689, 'techniqu': 1690, 'stunt': 1691, 'cabl': 1692, 'freak': 1693, 'foot': 1694, 'bug': 1695, 'jimmi': 1696, 'fu': 1697, 'capabl': 1698, 'african': 1699, 'bright': 1700, 'presid': 1701, 'succeed': 1702, 'fat': 1703, 'stock': 1704, 'clark': 1705, 'boat': 1706, 'gene': 1707, 'structur': 1708, 'spanish': 1709, 'paper': 1710, 'kidnap': 1711, 'factor': 1712, 'whilst': 1713, 'belief': 1714, 'educ': 1715, 'complic': 1716, 'bob': 1717, 'witti': 1718, 'attend': 1719, 'tree': 1720, 'realism': 1721, 'realis': 1722, 'finest': 1723, 'broken': 1724, 'assist': 1725, 'santa': 1726, 'observ': 1727, 'depart': 1728, 'determin': 1729, 'smoke': 1730, 'v': 1731, 'up': 1732, 'oper': 1733, 'rubbish': 1734, 'hat': 1735, 'routin': 1736, 'domin': 1737, 'fame': 1738, 'lewi': 1739, 'advanc': 1740, 'foreign': 1741, 'hook': 1742, 'morgan': 1743, 'lone': 1744, 'kinda': 1745, 'safe': 1746, 'rank': 1747, 'numer': 1748, 'shape': 1749, 'werewolf': 1750, 'shallow': 1751, 'washington': 1752, 'vs': 1753, 'civil': 1754, 'rose': 1755, 'morn': 1756, 'gari': 1757, 'accomplish': 1758, 'winner': 1759, 'ordinari': 1760, 'kong': 1761, 'virtual': 1762, 'whenev': 1763, 'peac': 1764, 'grab': 1765, 'luck': 1766, 'h': 1767, 'offens': 1768, 'welcom': 1769, 'activ': 1770, 'bigger': 1771, 'unfunni': 1772, 'contriv': 1773, 'complain': 1774, 'patient': 1775, 'pretend': 1776, 'con': 1777, 'dimension': 1778, 'trek': 1779, 'eric': 1780, 'lesbian': 1781, 'code': 1782, 'flash': 1783, 'wake': 1784, 'dri': 1785, 'cain': 1786, 'manipul': 1787, 'albert': 1788, 'statu': 1789, 'guard': 1790, 'corrupt': 1791, 'dancer': 1792, 'speech': 1793, 'gain': 1794, 'signific': 1795, 'context': 1796, 'sourc': 1797, 'awkward': 1798, 'sean': 1799, '13': 1800, 'psycho': 1801, 'clip': 1802, 'anthoni': 1803, 'corni': 1804, 'theatric': 1805, 'reli': 1806, 'advic': 1807, 'curiou': 1808, 'priest': 1809, 'w': 1810, 'religion': 1811, 'addict': 1812, 'flow': 1813, 'jennif': 1814, 'asian': 1815, 'skin': 1816, 'secur': 1817, 'specif': 1818, 'howard': 1819, 'organ': 1820, 'promot': 1821, 'luke': 1822, 'core': 1823, 'golden': 1824, 'comfort': 1825, 'cash': 1826, 'lucki': 1827, 'cheat': 1828, 'associ': 1829, 'lower': 1830, 'dislik': 1831, 'balanc': 1832, 'wing': 1833, 'spell': 1834, 'devic': 1835, 'frequent': 1836, 'contribut': 1837, 'degre': 1838, 'regret': 1839, 'frankli': 1840, 'lake': 1841, 'sake': 1842, 'print': 1843, 'forgiv': 1844, 'thoma': 1845, 'betti': 1846, 'mass': 1847, 'unexpect': 1848, 'gordon': 1849, 'crack': 1850, 'categori': 1851, 'depend': 1852, 'construct': 1853, 'amateur': 1854, 'grown': 1855, 'invit': 1856, 'unfold': 1857, 'intellectu': 1858, 'honor': 1859, 'condit': 1860, 'grew': 1861, 'walter': 1862, 'matur': 1863, 'anna': 1864, 'veteran': 1865, 'sole': 1866, 'sudden': 1867, 'spectacular': 1868, 'mirror': 1869, 'grip': 1870, 'freedom': 1871, 'experienc': 1872, 'card': 1873, 'robin': 1874, 'demonstr': 1875, 'overli': 1876, 'gift': 1877, 'meanwhil': 1878, 'liner': 1879, 'unabl': 1880, 'crappi': 1881, 'brilliantli': 1882, 'subtitl': 1883, 'section': 1884, 'circumst': 1885, 'colour': 1886, 'theori': 1887, 'sheriff': 1888, 'drew': 1889, 'oliv': 1890, 'pile': 1891, 'altern': 1892, 'path': 1893, 'sheer': 1894, 'laughter': 1895, 'matt': 1896, 'parker': 1897, 'cook': 1898, 'treatment': 1899, 'lawyer': 1900, 'relief': 1901, 'accident': 1902, 'hall': 1903, 'defin': 1904, 'sinatra': 1905, 'wander': 1906, 'captiv': 1907, 'hank': 1908, 'dragon': 1909, 'halloween': 1910, 'gratuit': 1911, 'moor': 1912, 'unintent': 1913, 'kung': 1914, 'cowboy': 1915, 'broadway': 1916, 'barbara': 1917, 'wayn': 1918, 'jacki': 1919, 'wound': 1920, 'k': 1921, 'surreal': 1922, 'statement': 1923, 'spoof': 1924, 'winter': 1925, 'canadian': 1926, 'compos': 1927, 'cheer': 1928, 'fare': 1929, 'treasur': 1930, 'fish': 1931, 'gonna': 1932, 'victor': 1933, 'unrealist': 1934, 'woodi': 1935, 'emerg': 1936, 'sensit': 1937, 'sympathet': 1938, 'ran': 1939, 'driven': 1940, 'neighbor': 1941, 'menac': 1942, 'topic': 1943, 'expos': 1944, 'authent': 1945, 'overlook': 1946, 'glass': 1947, 'handsom': 1948, 'michel': 1949, 'ancient': 1950, 'gross': 1951, 'chief': 1952, 'feet': 1953, 'russel': 1954, 'comedian': 1955, 'built': 1956, 'nevertheless': 1957, 'cinderella': 1958, 'network': 1959, 'stranger': 1960, 'pleasant': 1961, 'contemporari': 1962, 'endless': 1963, 'earn': 1964, 'consider': 1965, 'letter': 1966, 'miser': 1967, 'underr': 1968, 'blockbust': 1969, 'gori': 1970, 'brook': 1971, 'switch': 1972, 'solv': 1973, 'edward': 1974, 'bullet': 1975, 'virgin': 1976, 'victoria': 1977, 'convict': 1978, 'joseph': 1979, 'chosen': 1980, 'cynic': 1981, 'scale': 1982, '0': 1983, 'scenario': 1984, 'alex': 1985, 'curs': 1986, 'gut': 1987, 'com': 1988, 'outrag': 1989, 'sword': 1990, 'juli': 1991, 'uk': 1992, 'screenwrit': 1993, 'driver': 1994, 'wrap': 1995, 'substanc': 1996, 'monkey': 1997, 'proper': 1998, 'remov': 1999, 'indic': 2000, 'bird': 2001, 'par': 2002, 'court': 2003, 'inevit': 2004, 'grave': 2005, 'naiv': 2006, 'consequ': 2007, 'roy': 2008, 'rental': 2009, 'loser': 2010, 'advertis': 2011, 'nanci': 2012, 'fatal': 2013, 'slap': 2014, 'le': 2015, 'brave': 2016, 'germani': 2017, 'invis': 2018, 'bridg': 2019, 'anger': 2020, 'ador': 2021, 'provok': 2022, 'loui': 2023, 'footbal': 2024, 'anderson': 2025, 'alcohol': 2026, 'chan': 2027, 'professor': 2028, 'willi': 2029, 'stumbl': 2030, 'ryan': 2031, 'patrick': 2032, 'bat': 2033, 'australian': 2034, 'assassin': 2035, 'sharp': 2036, '1930': 2037, 'heck': 2038, 'liber': 2039, 'lousi': 2040, 'ape': 2041, 'saturday': 2042, 'amateurish': 2043, 'refresh': 2044, 'strongli': 2045, 'eight': 2046, 'cell': 2047, 'deni': 2048, 'trilog': 2049, 'sin': 2050, 'justifi': 2051, 'vagu': 2052, 'san': 2053, 'resid': 2054, 'reput': 2055, 'defeat': 2056, 'indi': 2057, 'sympathi': 2058, 'mini': 2059, 'creator': 2060, 'terrifi': 2061, 'expert': 2062, 'endur': 2063, 'tabl': 2064, 'prevent': 2065, 'tediou': 2066, 'task': 2067, 'offend': 2068, 'rival': 2069, 'employ': 2070, 'trial': 2071, 'basebal': 2072, 'che': 2073, 'imit': 2074, 'europ': 2075, 'weekend': 2076, 'dig': 2077, 'beach': 2078, 'pitch': 2079, 'complaint': 2080, 'max': 2081, 'fairi': 2082, 'format': 2083, 'purchas': 2084, 'risk': 2085, 'murphi': 2086, 'reminisc': 2087, 'glimps': 2088, 'bite': 2089, 'harsh': 2090, 'tini': 2091, 'powel': 2092, 'nois': 2093, 'hype': 2094, 'titan': 2095, 'asleep': 2096, 'strip': 2097, 'fals': 2098, 'till': 2099, 'north': 2100, 'prime': 2101, '14': 2102, 'destruct': 2103, 'texa': 2104, 'africa': 2105, 'revel': 2106, 'descript': 2107, 'excess': 2108, 'uninterest': 2109, 'semi': 2110, 'spin': 2111, 'arrest': 2112, 'surfac': 2113, 'inner': 2114, 'sitcom': 2115, 'controversi': 2116, 'dinosaur': 2117, 'makeup': 2118, 'maintain': 2119, 'massiv': 2120, 'hitchcock': 2121, 'argu': 2122, 'twin': 2123, 'expens': 2124, 'stare': 2125, 'ideal': 2126, 'ludicr': 2127, 'reject': 2128, 'melodrama': 2129, 'insist': 2130, 'kim': 2131, 'atroci': 2132, 'press': 2133, 'ala': 2134, 'ga': 2135, 'supernatur': 2136, 'erot': 2137, 'columbo': 2138, 'subplot': 2139, 'nail': 2140, 'forest': 2141, 'host': 2142, 'notch': 2143, 'dude': 2144, 'presum': 2145, 'identifi': 2146, 'cant': 2147, 'forgett': 2148, 'guest': 2149, 'plagu': 2150, 'method': 2151, 'crude': 2152, 'character': 2153, 'closer': 2154, 'ear': 2155, 'foster': 2156, 'border': 2157, 'lion': 2158, 'beast': 2159, 'princess': 2160, 'landscap': 2161, 'pacino': 2162, 'bound': 2163, 'previous': 2164, 'accus': 2165, 'jungl': 2166, 'aunt': 2167, 'urban': 2168, 'birth': 2169, 'damag': 2170, 'storytel': 2171, 'guid': 2172, 'propaganda': 2173, 'jess': 2174, 'nude': 2175, 'thirti': 2176, 'emma': 2177, 'chose': 2178, 'doll': 2179, 'whoever': 2180, 'warrior': 2181, '25': 2182, 'mainstream': 2183, 'mate': 2184, 'pet': 2185, 'gritti': 2186, 'friday': 2187, 'latest': 2188, 'upset': 2189, 'deadli': 2190, 'exact': 2191, 'cooper': 2192, 'size': 2193, 'poster': 2194, 'merit': 2195, 'rough': 2196, 'warner': 2197, '1990': 2198, 'blend': 2199, 'settl': 2200, 'ton': 2201, 'citizen': 2202, 'contest': 2203, 'popul': 2204, 'sun': 2205, 'buff': 2206, 'contact': 2207, 'corps': 2208, 'wilson': 2209, 'pitt': 2210, 'overcom': 2211, 'rat': 2212, 'select': 2213, 'widow': 2214, 'bu': 2215, 'alic': 2216, 'environ': 2217, 'metal': 2218, 'mgm': 2219, 'revolut': 2220, 'ted': 2221, 'lift': 2222, 'particip': 2223, 'guilti': 2224, 'link': 2225, 'matrix': 2226, 'afternoon': 2227, 'prostitut': 2228, 'exagger': 2229, 'moron': 2230, 'corpor': 2231, 'corner': 2232, '1960': 2233, 'accompani': 2234, 'johnson': 2235, 'instal': 2236, 'sincer': 2237, 'doom': 2238, 'clair': 2239, 'leagu': 2240, 'friendli': 2241, 'hood': 2242, 'holm': 2243, 'multipl': 2244, 'campi': 2245, 'grim': 2246, 'junk': 2247, 'string': 2248, 'hip': 2249, 'defend': 2250, 'aka': 2251, 'examin': 2252, 'sunday': 2253, 'blah': 2254, 'irish': 2255, 'advis': 2256, 'lugosi': 2257, 'pro': 2258, 'rachel': 2259, 'shake': 2260, 'shut': 2261, 'varieti': 2262, 'confid': 2263, 'tight': 2264, 'icon': 2265, 'attach': 2266, 'goal': 2267, 'medic': 2268, 'sullivan': 2269, 'mexican': 2270, 'directli': 2271, 'jaw': 2272, 'denni': 2273, 'dean': 2274, 'sentenc': 2275, 'courag': 2276, 'vietnam': 2277, 'breast': 2278, 'prior': 2279, 'duke': 2280, 'truck': 2281, 'bourn': 2282, 'sarah': 2283, 'terrorist': 2284, 'legendari': 2285, 'un': 2286, 'split': 2287, 'yell': 2288, 'proceed': 2289, 'behav': 2290, 'hong': 2291, 'donald': 2292, 'nose': 2293, 'entri': 2294, 'borrow': 2295, 'crush': 2296, 'swim': 2297, 'everywher': 2298, 'lifetim': 2299, 'unconvinc': 2300, 'buri': 2301, 'forth': 2302, 'jerk': 2303, 'concentr': 2304, 'stolen': 2305, 'confess': 2306, 'gather': 2307, 'spite': 2308, 'deliveri': 2309, 'julia': 2310, 'california': 2311, 'lip': 2312, 'pan': 2313, 'turkey': 2314, 'reward': 2315, 'flight': 2316, 'downright': 2317, 'china': 2318, 'proud': 2319, 'offici': 2320, 'quest': 2321, 'freeman': 2322, 'hoffman': 2323, 'worthwhil': 2324, 'fabul': 2325, 'encourag': 2326, 'notori': 2327, 'lazi': 2328, 'jail': 2329, 'betray': 2330, 'jon': 2331, 'sir': 2332, 'sink': 2333, 'inept': 2334, 'fade': 2335, 'branagh': 2336, 'storm': 2337, 'imageri': 2338, 'cousin': 2339, 'bag': 2340, 'bell': 2341, 'relev': 2342, 'teeth': 2343, 'shower': 2344, 'survivor': 2345, 'retard': 2346, 'lisa': 2347, 'susan': 2348, 'trade': 2349, 'quirki': 2350, 'toler': 2351, 'shark': 2352, 'facial': 2353, 'mexico': 2354, 'tremend': 2355, 'stab': 2356, 'hugh': 2357, 'summari': 2358, 'finger': 2359, 'alright': 2360, 'bride': 2361, 'pose': 2362, 'von': 2363, 'hyster': 2364, 'ha': 2365, 'blown': 2366, 'bitter': 2367, 'address': 2368, 'cruel': 2369, 'larri': 2370, 'scheme': 2371, 'christ': 2372, 'ron': 2373, 'afterward': 2374, 'bone': 2375, 'ned': 2376, 'feed': 2377, 'snake': 2378, 'tour': 2379, 'pursu': 2380, 'thumb': 2381, 'beg': 2382, 'distinct': 2383, 'swear': 2384, 'screw': 2385, 'traci': 2386, 'obscur': 2387, 'photo': 2388, 'mechan': 2389, 'raw': 2390, 'chair': 2391, 'stomach': 2392, 'occas': 2393, 'heavili': 2394, 'necessarili': 2395, 'render': 2396, 'holiday': 2397, 'sidney': 2398, 'argument': 2399, 'cabin': 2400, 'southern': 2401, 'chain': 2402, 'gruesom': 2403, 'hardi': 2404, 'resist': 2405, 'understood': 2406, 'india': 2407, 'satan': 2408, 'philip': 2409, 'indulg': 2410, 'racist': 2411, 'integr': 2412, 'lay': 2413, 'belov': 2414, 'fourth': 2415, 'outfit': 2416, 'midnight': 2417, 'stalk': 2418, 'tongu': 2419, 'forgot': 2420, 'obnoxi': 2421, 'pregnant': 2422, 'restor': 2423, 'magazin': 2424, 'ticket': 2425, 'inhabit': 2426, 'garden': 2427, 'slapstick': 2428, '17': 2429, 'carol': 2430, 'deeper': 2431, 'brad': 2432, 'shoe': 2433, 'devot': 2434, 'incid': 2435, 'lincoln': 2436, 'divorc': 2437, 'elizabeth': 2438, 'underground': 2439, 'anticip': 2440, 'benefit': 2441, 'guarante': 2442, 'disbelief': 2443, 'sandler': 2444, 'lili': 2445, 'maria': 2446, 'capit': 2447, 'creation': 2448, 'cring': 2449, 'greater': 2450, 'amazingli': 2451, 'mildli': 2452, 'slave': 2453, 'bbc': 2454, 'explod': 2455, 'princip': 2456, 'lesli': 2457, 'halfway': 2458, 'extraordinari': 2459, 'introduct': 2460, 'funnier': 2461, 'wreck': 2462, 'enhanc': 2463, 'advantag': 2464, 'extent': 2465, 'transfer': 2466, 'overwhelm': 2467, 'text': 2468, 'punish': 2469, 'tap': 2470, 'east': 2471, 'plant': 2472, 'dynam': 2473, 'jessica': 2474, 'deliber': 2475, 'error': 2476, 'lane': 2477, 'preview': 2478, 'horrif': 2479, 'lo': 2480, 'appli': 2481, 'basi': 2482, 'miller': 2483, 'sophist': 2484, 'vacat': 2485, 'miscast': 2486, 'ensu': 2487, 'homosexu': 2488, 'vincent': 2489, '2000': 2490, 'steel': 2491, 'mansion': 2492, 'spoken': 2493, 'reed': 2494, 'via': 2495, 'sleazi': 2496, 'uncomfort': 2497, 'bollywood': 2498, 'measur': 2499, 'elev': 2500, 'extend': 2501, 'breathtak': 2502, 'goofi': 2503, 'beer': 2504, 'conceiv': 2505, 'cathol': 2506, 'alter': 2507, 'blair': 2508, 'melt': 2509, 'savag': 2510, 'mous': 2511, 'assign': 2512, 'overact': 2513, 'fix': 2514, 'daili': 2515, 'dentist': 2516, 'stanley': 2517, 'hippi': 2518, 'nowaday': 2519, 'properli': 2520, 'burt': 2521, 'oppos': 2522, 'succe': 2523, 'everyday': 2524, 'sacrific': 2525, 'subsequ': 2526, 'carpent': 2527, 'inspector': 2528, 'laura': 2529, 'circl': 2530, 'block': 2531, 'massacr': 2532, 'neck': 2533, 'pool': 2534, 'lesser': 2535, 'access': 2536, 'grey': 2537, 'portrait': 2538, 'concert': 2539, 'fay': 2540, 'fallen': 2541, 'seagal': 2542, 'christi': 2543, 'mob': 2544, 'usa': 2545, 'chees': 2546, 'react': 2547, 'jewish': 2548, 'sinist': 2549, 'competit': 2550, 'relax': 2551, 'jake': 2552, 'isol': 2553, 'suitabl': 2554, 'nonetheless': 2555, 'creep': 2556, '2006': 2557, 'lyric': 2558, 'spiritu': 2559, 'stink': 2560, 'immens': 2561, 'ironi': 2562, 'nine': 2563, 'appal': 2564, 'chop': 2565, 'user': 2566, 'shirt': 2567, 'showcas': 2568, 'navi': 2569, 'luci': 2570, 'needless': 2571, 'reduc': 2572, 'franchis': 2573, 'rage': 2574, 'nut': 2575, 'sold': 2576, 'spring': 2577, 'adopt': 2578, 'retir': 2579, 'bulli': 2580, 'uninspir': 2581, 'asham': 2582, 'digit': 2583, 'nurs': 2584, 'stanwyck': 2585, 'jay': 2586, 'zone': 2587, 'bath': 2588, 'per': 2589, 'upper': 2590, '1940': 2591, 'illustr': 2592, '2001': 2593, 'oddli': 2594, 'sutherland': 2595, 'amongst': 2596, 'broadcast': 2597, 'laid': 2598, 'disguis': 2599, 'aspir': 2600, 'fulfil': 2601, 'baker': 2602, 'brando': 2603, 'stylish': 2604, 'throat': 2605, '18': 2606, 'impli': 2607, 'wwii': 2608, 'em': 2609, 'wanna': 2610, 'pound': 2611, 'pride': 2612, 'endear': 2613, 'nobl': 2614, 'thief': 2615, 'neighborhood': 2616, 'shoulder': 2617, 'diseas': 2618, 'dawn': 2619, 'shift': 2620, 'bett': 2621, 'tens': 2622, 'bo': 2623, 'dinner': 2624, 'rochest': 2625, '16': 2626, 'albeit': 2627, 'cinematograph': 2628, 'distribut': 2629, 'prop': 2630, 'coher': 2631, 'wash': 2632, 'snow': 2633, 'contract': 2634, 'rebel': 2635, 'surf': 2636, 'shout': 2637, 'function': 2638, 'silenc': 2639, 'matthau': 2640, 'poignant': 2641, 'knife': 2642, 'forti': 2643, 'height': 2644, 'horrend': 2645, 'heat': 2646, 'silver': 2647, 'cannib': 2648, 'henc': 2649, 'elvira': 2650, 'eeri': 2651, 'mindless': 2652, 'chuck': 2653, 'proof': 2654, 'widmark': 2655, 'reunion': 2656, 'instinct': 2657, 'cancel': 2658, 'duti': 2659, 'internet': 2660, 'derek': 2661, 'mill': 2662, 'premier': 2663, 'pie': 2664, 'etern': 2665, 'absorb': 2666, 'alik': 2667, 'glori': 2668, 'neat': 2669, 'innov': 2670, 'incoher': 2671, 'spielberg': 2672, 'torn': 2673, 'elvi': 2674, 'greatli': 2675, 'repetit': 2676, 'musician': 2677, 'itali': 2678, 'announc': 2679, 'horrifi': 2680, 'crisi': 2681, 'blank': 2682, 'burton': 2683, 'britain': 2684, 'redempt': 2685, 'nelson': 2686, 'trite': 2687, 'infam': 2688, 'diamond': 2689, 'wealthi': 2690, 'fbi': 2691, 'lovabl': 2692, 'bang': 2693, 'precis': 2694, 'homag': 2695, 'racism': 2696, 'hammer': 2697, 'pat': 2698, 'wilder': 2699, 'flop': 2700, 'ensembl': 2701, 'resolut': 2702, 'parallel': 2703, 'dedic': 2704, 'happili': 2705, 'helen': 2706, 'chaplin': 2707, 'streisand': 2708, 'carter': 2709, 'plastic': 2710, 'oil': 2711, 'conclud': 2712, 'factori': 2713, 'st': 2714, 'disagre': 2715, 'cube': 2716, 'triumph': 2717, 'mar': 2718, 'broke': 2719, 'own': 2720, 'row': 2721, 'weight': 2722, 'fighter': 2723, 'march': 2724, 'climb': 2725, 'chuckl': 2726, 'rocket': 2727, 'bush': 2728, 'vega': 2729, 'thug': 2730, 'spare': 2731, 'meaning': 2732, 'wherea': 2733, 'dane': 2734, 'mst3k': 2735, 'lust': 2736, 'enorm': 2737, 'luca': 2738, 'boot': 2739, 'kurt': 2740, 'sensibl': 2741, 'dump': 2742, 'unforgett': 2743, 'difficulti': 2744, 'rap': 2745, 'fifti': 2746, 'stress': 2747, 'arnold': 2748, 'butt': 2749, 'adequ': 2750, 'threat': 2751, 'engin': 2752, 'caricatur': 2753, 'bobbi': 2754, 'dear': 2755, 'brand': 2756, 'karloff': 2757, 'flynn': 2758, 'ralph': 2759, 'arrog': 2760, 'fest': 2761, 'swing': 2762, 'journalist': 2763, 'homeless': 2764, 'ego': 2765, 'elabor': 2766, 'polish': 2767, 'secretari': 2768, 'barri': 2769, 'hamlet': 2770, 'fanci': 2771, 'conspiraci': 2772, 'grate': 2773, 'unbear': 2774, 'arrang': 2775, 'puppet': 2776, 'simpson': 2777, 'tool': 2778, 'resort': 2779, 'spike': 2780, 'induc': 2781, 'float': 2782, 'cruis': 2783, 'basement': 2784, 'guilt': 2785, 'choreograph': 2786, 'boll': 2787, 'exercis': 2788, 'pig': 2789, 'phillip': 2790, 'tribut': 2791, 'muppet': 2792, 'ward': 2793, 'editor': 2794, 'medium': 2795, 'tower': 2796, 'toilet': 2797, 'babe': 2798, 'puzzl': 2799, 'layer': 2800, '24': 2801, 'item': 2802, 'scarecrow': 2803, 'slip': 2804, 'document': 2805, 'file': 2806, 'ham': 2807, 'fianc': 2808, 'stan': 2809, 'korean': 2810, 'portion': 2811, 'spark': 2812, 'transit': 2813, 'minim': 2814, 'orient': 2815, 'persona': 2816, 'assur': 2817, 'larger': 2818, 'librari': 2819, 'superfici': 2820, 'slaughter': 2821, 'glover': 2822, 'denzel': 2823, 'doc': 2824, 'territori': 2825, 'catherin': 2826, 'philosoph': 2827, 'inexplic': 2828, 'jet': 2829, 'wolf': 2830, 'shi': 2831, 'ban': 2832, 'dorothi': 2833, 'jeremi': 2834, 'financi': 2835, 'pg': 2836, 'boredom': 2837, 'owe': 2838, 'sneak': 2839, 'curti': 2840, 'walken': 2841, 'ambigu': 2842, 'multi': 2843, 'cusack': 2844, 'metaphor': 2845, 'eleph': 2846, 'hudson': 2847, 'profound': 2848, 'whale': 2849, 'backdrop': 2850, 'viru': 2851, 'birthday': 2852, 'implaus': 2853, 'union': 2854, 'notion': 2855, 'elsewher': 2856, 'ultra': 2857, '2005': 2858, 'gadget': 2859, 'stiff': 2860, 'hack': 2861, 'rave': 2862, 'reader': 2863, 'poison': 2864, 'lloyd': 2865, 'pad': 2866, '1st': 2867, 'eva': 2868, 'newspap': 2869, 'superhero': 2870, 'eastwood': 2871, 'bibl': 2872, 'deriv': 2873, 'slight': 2874, 'urg': 2875, 'afford': 2876, 'squar': 2877, 'canada': 2878, 'hawk': 2879, 'disc': 2880, 'distanc': 2881, 'drown': 2882, 'button': 2883, 'spread': 2884, 'charisma': 2885, 'skit': 2886, 'essenc': 2887, 'cure': 2888, 'restaur': 2889, 'montag': 2890, 'huh': 2891, 'sadist': 2892, 'heston': 2893, 'health': 2894, 'estat': 2895, 'companion': 2896, 'gradual': 2897, 'maniac': 2898, 'invest': 2899, 'fetch': 2900, 'peak': 2901, 'dealt': 2902, 'scoobi': 2903, 'lab': 2904, 'muslim': 2905, 'godfath': 2906, 'servant': 2907, 'alli': 2908, 'gothic': 2909, 'countless': 2910, 'tea': 2911, 'ritter': 2912, 'kane': 2913, 'subtleti': 2914, 'miik': 2915, 'cup': 2916, 'charismat': 2917, 'electr': 2918, 'heroic': 2919, 'salli': 2920, 'iii': 2921, 'elect': 2922, 'briefli': 2923, 'ingredi': 2924, 'grandmoth': 2925, 'wannab': 2926, 'tender': 2927, 'nuanc': 2928, 'bud': 2929, 'neil': 2930, 'resourc': 2931, 'admittedli': 2932, 'reel': 2933, 'toss': 2934, 'cole': 2935, 'pauli': 2936, 'mafia': 2937, 'punk': 2938, 'poverti': 2939, 'dawson': 2940, 'gate': 2941, 'pit': 2942, 'stood': 2943, 'stronger': 2944, 'kubrick': 2945, 'label': 2946, 'reev': 2947, 'mild': 2948, 'shall': 2949, 'carrey': 2950, 'fond': 2951, 'cardboard': 2952, 'updat': 2953, 'burst': 2954, 'assault': 2955, 'useless': 2956, 'outcom': 2957, 'bakshi': 2958, 'terri': 2959, 'cox': 2960, 'ian': 2961, 'smooth': 2962, 'tag': 2963, 'easier': 2964, 'smash': 2965, 'astair': 2966, 'rex': 2967, 'sketch': 2968, 'qualifi': 2969, 'resolv': 2970, 'vulner': 2971, 'coincid': 2972, 'exchang': 2973, 'divers': 2974, '2002': 2975, 'vari': 2976, 'increasingli': 2977, 'fist': 2978, 'melodramat': 2979, 'samurai': 2980, 'templ': 2981, 'tame': 2982, 'scratch': 2983, 'be': 2984, 'blast': 2985, 'reynold': 2986, 'brillianc': 2987, 'insert': 2988, 'luckili': 2989, 'suspend': 2990, 'conveni': 2991, 'walker': 2992, 'coach': 2993, 'pin': 2994, 'nuclear': 2995, 'soprano': 2996, 'gotta': 2997, 'hamilton': 2998, 'jami': 2999, 'farm': 3000, 'seventi': 3001, 'matthew': 3002, 'strictli': 3003, 'ambiti': 3004, 'meat': 3005, 'fisher': 3006, 'clock': 3007, 'monk': 3008, 'struck': 3009, 'empir': 3010, 'butcher': 3011, 'grasp': 3012, 'eccentr': 3013, 'revers': 3014, 'cave': 3015, 'convolut': 3016, 'recreat': 3017, 'discoveri': 3018, 'kudo': 3019, 'closet': 3020, 'brosnan': 3021, 'instantli': 3022, 'spooki': 3023, 'joey': 3024, 'timeless': 3025, 'worthless': 3026, 'ninja': 3027, 'communist': 3028, 'norman': 3029, 'eighti': 3030, 'selfish': 3031, 'pal': 3032, 'declar': 3033, 'partli': 3034, 'evok': 3035, 'bleak': 3036, 'importantli': 3037, 'seller': 3038, 'fifteen': 3039, 'gray': 3040, 'sidekick': 3041, 'wipe': 3042, 'miracl': 3043, 'sloppi': 3044, 'inconsist': 3045, 'cliff': 3046, 'mitchel': 3047, 'clown': 3048, 'farc': 3049, 'debat': 3050, '45': 3051, 'destin': 3052, 'superbl': 3053, 'aforement': 3054, 'australia': 3055, 'cheek': 3056, 'ho': 3057, 'piano': 3058, 'lifestyl': 3059, 'stoog': 3060, 'enthusiast': 3061, 'psychiatrist': 3062, 'chew': 3063, 'flawless': 3064, 'websit': 3065, 'seed': 3066, 'kitchen': 3067, 'pressur': 3068, 'slice': 3069, 'emili': 3070, 'splatter': 3071, 'incompet': 3072, 'bash': 3073, 'directori': 3074, 'abc': 3075, 'anni': 3076, 'dash': 3077, 'akshay': 3078, 'dire': 3079, 'soviet': 3080, 'wrestl': 3081, 'wick': 3082, 'regardless': 3083, 'drivel': 3084, 'increas': 3085, 'suppli': 3086, 'recov': 3087, 'boil': 3088, 'helicopt': 3089, 'curios': 3090, 'prize': 3091, 'artifici': 3092, 'glow': 3093, 'pleasantli': 3094, 'judi': 3095, 'duo': 3096, 'flower': 3097, 'lou': 3098, 'blob': 3099, 'doo': 3100, 'beaten': 3101, 'distant': 3102, 'seduc': 3103, 'jar': 3104, 'mann': 3105, 'cagney': 3106, 'chapter': 3107, 'cia': 3108, 'ken': 3109, 'dave': 3110, 'cameron': 3111, 'panic': 3112, 'web': 3113, 'ellen': 3114, 'favour': 3115, 'francisco': 3116, 'craig': 3117, 'ranger': 3118, 'goldberg': 3119, 'splendid': 3120, 'glenn': 3121, 'eleg': 3122, 'turner': 3123, 'combat': 3124, 'hop': 3125, 'drunken': 3126, 'psychot': 3127, 'perri': 3128, 'craven': 3129, 'laurel': 3130, 'gentl': 3131, 'philosophi': 3132, 'wizard': 3133, 'hatr': 3134, 'rid': 3135, '20th': 3136, 'graduat': 3137, 'shortli': 3138, 'min': 3139, 'modesti': 3140, 'falk': 3141, 'slightest': 3142, 'gandhi': 3143, 'greek': 3144, 'alexand': 3145, 'flip': 3146, 'plausibl': 3147, 'fx': 3148, 'ruth': 3149, 'preciou': 3150, 'felix': 3151, 'lend': 3152, 'tall': 3153, 'holi': 3154, 'fund': 3155, 'dracula': 3156, 'legal': 3157, 'futurist': 3158, 'knight': 3159, 'harm': 3160, 'unpleas': 3161, 'manhattan': 3162, 'ocean': 3163, 'jealou': 3164, 'we': 3165, 'bless': 3166, 'mock': 3167, 'tank': 3168, 'digniti': 3169, 'ami': 3170, 'thread': 3171, 'nod': 3172, 'explicit': 3173, 'overdon': 3174, 'forbidden': 3175, 'giallo': 3176, 'childish': 3177, 'scientif': 3178, 'reviv': 3179, 'broad': 3180, 'awaken': 3181, 'torment': 3182, 'thick': 3183, 'eve': 3184, '99': 3185, 'awe': 3186, 'fever': 3187, 'repeatedli': 3188, 'unwatch': 3189, 'mel': 3190, 'pirat': 3191, 'verhoeven': 3192, 'nerv': 3193, 'yesterday': 3194, 'elderli': 3195, '2004': 3196, 'margaret': 3197, 'romero': 3198, 'publish': 3199, 'absenc': 3200, 'ambit': 3201, 'launch': 3202, 'acclaim': 3203, 'automat': 3204, 'lean': 3205, 'politician': 3206, 'roman': 3207, 'timothi': 3208, 'ah': 3209, 'uniform': 3210, 'griffith': 3211, 'stiller': 3212, 'kay': 3213, 'eas': 3214, 'bin': 3215, 'royal': 3216, 'custom': 3217, 'rivet': 3218, 'darker': 3219, 'antic': 3220, 'warren': 3221, 'wallac': 3222, 'transport': 3223, 'crook': 3224, 'foul': 3225, 'pulp': 3226, 'tomato': 3227, 'pierc': 3228, 'stinker': 3229, 'bathroom': 3230, 'termin': 3231, 'gabriel': 3232, 'homicid': 3233, 'phrase': 3234, 'sunshin': 3235, 'purpl': 3236, 'evolv': 3237, 'marin': 3238, 'revolutionari': 3239, 'packag': 3240, 'rambo': 3241, 'eyr': 3242, 'awak': 3243, 'ought': 3244, 'viciou': 3245, 'coloni': 3246, 'album': 3247, 'brazil': 3248, 'choreographi': 3249, 'juvenil': 3250, 'kenneth': 3251, 'sixti': 3252, 'pray': 3253, '2003': 3254, 'saint': 3255, 'horrid': 3256, 'li': 3257, 'karen': 3258, 'donna': 3259, 'prom': 3260, 'q': 3261, 'hollow': 3262, 'contrari': 3263, 'conserv': 3264, 'defi': 3265, 'kapoor': 3266, 'twelv': 3267, 'boast': 3268, 'overr': 3269, 'option': 3270, 'nerd': 3271, 'mummi': 3272, 'dose': 3273, 'blade': 3274, 'beatti': 3275, 'stole': 3276, 'ireland': 3277, 'candid': 3278, 'ramon': 3279, 'mildr': 3280, 'fulci': 3281, 'global': 3282, 'altman': 3283, 'astonish': 3284, 'detract': 3285, 'natali': 3286, 'trio': 3287, 'confirm': 3288, 'jazz': 3289, 'flame': 3290, 'funer': 3291, 'kirk': 3292, 'collabor': 3293, 'protest': 3294, 'destini': 3295, 'audio': 3296, 'delici': 3297, 'tommi': 3298, 'racial': 3299, 'bull': 3300, 'spit': 3301, 'bottl': 3302, 'mystic': 3303, 'nicholson': 3304, 'blake': 3305, 'whip': 3306, 'shade': 3307, 'yellow': 3308, 'leap': 3309, 'enterpris': 3310, 'bedroom': 3311, 'reunit': 3312, 'altogeth': 3313, 'swedish': 3314, 'pseudo': 3315, 'meaningless': 3316, 'enchant': 3317, 'harder': 3318, 'threw': 3319, 'fonda': 3320, 'todd': 3321, 'neo': 3322, 'visibl': 3323, 'merci': 3324, 'adolesc': 3325, 'inherit': 3326, 'vivid': 3327, 'staff': 3328, 'popcorn': 3329, 'lawrenc': 3330, 'befriend': 3331, 'kennedi': 3332, 'edi': 3333, 'fanat': 3334, 'moodi': 3335, 'reserv': 3336, 'ruthless': 3337, 'await': 3338, 'synopsi': 3339, 'decor': 3340, 'roommat': 3341, 'crocodil': 3342, 'tip': 3343, 'lemmon': 3344, 'atlanti': 3345, 'madonna': 3346, 'suspici': 3347, 'uneven': 3348, 'exhibit': 3349, 'jew': 3350, 'leonard': 3351, 'respond': 3352, 'voight': 3353, 'wire': 3354, 'bust': 3355, 'incident': 3356, 'bradi': 3357, 'carl': 3358, 'bold': 3359, 'clint': 3360, 'holli': 3361, 'unsettl': 3362, 'dimens': 3363, 'abysm': 3364, '2007': 3365, 'ventur': 3366, 'bargain': 3367, 'audit': 3368, 'clumsi': 3369, 'voyag': 3370, 'palma': 3371, 'rural': 3372, 'centr': 3373, 'chao': 3374, 'garner': 3375, 'nearbi': 3376, 'characterist': 3377, 'poetic': 3378, 'cari': 3379, 'tiger': 3380, 'acknowledg': 3381, '2nd': 3382, 'neglect': 3383, 'immigr': 3384, 'wealth': 3385, 'echo': 3386, 'cuba': 3387, 'timon': 3388, 'imperson': 3389, 'mall': 3390, 'daddi': 3391, 'lit': 3392, 'troop': 3393, 'humili': 3394, 'hart': 3395, 'cd': 3396, 'elimin': 3397, 'trail': 3398, 'versu': 3399, 'ant': 3400, 'infect': 3401, 'celluloid': 3402, 'repuls': 3403, 'mickey': 3404, 'marshal': 3405, 'pun': 3406, 'homer': 3407, 'saga': 3408, 'mistaken': 3409, 'paus': 3410, 'jeffrey': 3411, 'prejudic': 3412, 'collaps': 3413, 'domest': 3414, 'solo': 3415, '1996': 3416, 'inan': 3417, 'olivi': 3418, 'cake': 3419, 'sore': 3420, 'tribe': 3421, 'promin': 3422, 'gear': 3423, 'leon': 3424, 'interrupt': 3425, 'milk': 3426, 'harvey': 3427, 'equip': 3428, 'inappropri': 3429, 'undoubtedli': 3430, 'coat': 3431, 'assembl': 3432, 'coffe': 3433, 'apolog': 3434, 'hbo': 3435, 'pant': 3436, 'ginger': 3437, 'chest': 3438, 'airplan': 3439, 'colleagu': 3440, 'embrac': 3441, 'solut': 3442, 'highest': 3443, 'aveng': 3444, 'furthermor': 3445, 'florida': 3446, 'retain': 3447, 'devast': 3448, 'trace': 3449, 'brooklyn': 3450, 'instant': 3451, 'humbl': 3452, 'primari': 3453, 'vulgar': 3454, 'institut': 3455, 'exot': 3456, 'consum': 3457, 'pen': 3458, 'polanski': 3459, 'pot': 3460, 'maggi': 3461, 'colonel': 3462, 'jenni': 3463, 'smaller': 3464, '3rd': 3465, 'descend': 3466, 'poke': 3467, 'gender': 3468, 'principl': 3469, 'outer': 3470, 'cope': 3471, 'bowl': 3472, 'disabl': 3473, 'illog': 3474, 'seduct': 3475, 'strain': 3476, 'dian': 3477, '1999': 3478, 'sale': 3479, 'dutch': 3480, 'ya': 3481, 'wive': 3482, 'linda': 3483, 'godzilla': 3484, 'rick': 3485, 'dud': 3486, 'glamor': 3487, 'yard': 3488, 'bubbl': 3489, 'rabbit': 3490, 'lol': 3491, 'beneath': 3492, 'secondli': 3493, 'scope': 3494, 'primarili': 3495, 'dive': 3496, 'predecessor': 3497, 'inferior': 3498, 'vast': 3499, 'devoid': 3500, 'mixtur': 3501, 'hal': 3502, 'gloriou': 3503, 'cue': 3504, 'blatant': 3505, 'gundam': 3506, 'alfr': 3507, 'simplist': 3508, 'shelf': 3509, 'senseless': 3510, 'casual': 3511, 'arab': 3512, 'april': 3513, 'shirley': 3514, 'z': 3515, 'grinch': 3516, 'myer': 3517, 'trademark': 3518, 'hideou': 3519, 'aggress': 3520, 'pearl': 3521, 'disjoint': 3522, 'countrysid': 3523, 'alert': 3524, 'garbo': 3525, 'streep': 3526, 'talki': 3527, 'museum': 3528, 'breed': 3529, 'domino': 3530, 'invas': 3531, 'et': 3532, 'illeg': 3533, 'oz': 3534, 'obtain': 3535, 'khan': 3536, 'stellar': 3537, 'applaud': 3538, 'stir': 3539, 'hardcor': 3540, 'mail': 3541, 'experiment': 3542, 'unhappi': 3543, 'slide': 3544, 'sh': 3545, 'stack': 3546, 'defens': 3547, 'loyal': 3548, 'robinson': 3549, 'uwe': 3550, 'rendit': 3551, 'acid': 3552, 'robberi': 3553, 'vanish': 3554, 'boom': 3555, 'maci': 3556, 'disgrac': 3557, 'hopeless': 3558, 'mayor': 3559, 'spider': 3560, 'span': 3561, 'dismiss': 3562, 'wont': 3563, 'emphasi': 3564, 'diana': 3565, 'incomprehens': 3566, 'rifl': 3567, 'counter': 3568, 'fri': 3569, 'recruit': 3570, 'amanda': 3571, 'psychic': 3572, 'tempt': 3573, 'dicken': 3574, 'topless': 3575, 'hartley': 3576, 'scroog': 3577, 'blew': 3578, 'grandfath': 3579, 'craze': 3580, 'declin': 3581, 'tenant': 3582, 'berlin': 3583, 'soccer': 3584, 'shaw': 3585, 'trashi': 3586, 'ethnic': 3587, 'revolt': 3588, 'woo': 3589, 'sympath': 3590, 'faster': 3591, 'bitch': 3592, 'resurrect': 3593, 'porno': 3594, 'goer': 3595, 'intim': 3596, 'ration': 3597, 'wet': 3598, 'riot': 3599, 'sibl': 3600, 'lumet': 3601, 'justin': 3602, 'shed': 3603, 'niro': 3604, 'parad': 3605, 'mario': 3606, 'farmer': 3607, 'hesit': 3608, 'enlighten': 3609, 'honesti': 3610, 'slick': 3611, 'feminist': 3612, 'worm': 3613, 'eager': 3614, 'patriot': 3615, 'choru': 3616, 'biographi': 3617, '00': 3618, 'lena': 3619, 'wheel': 3620, 'jonathan': 3621, 'steam': 3622, 'commend': 3623, 'immort': 3624, 'dealer': 3625, 'unreal': 3626, 'hopper': 3627, 'weakest': 3628, 'region': 3629, 'wendi': 3630, 'andr': 3631, 'partial': 3632, 'nephew': 3633, 'rider': 3634, 'ballet': 3635, 'gap': 3636, 'ensur': 3637, 'prequel': 3638, 'wore': 3639, 'morri': 3640, 'similarli': 3641, 'sappi': 3642, 'skull': 3643, 'safeti': 3644, 'util': 3645, 'charlott': 3646, 'mutant': 3647, 'composit': 3648, 'properti': 3649, 'kingdom': 3650, 'blunt': 3651, 'leo': 3652, 'vice': 3653, 'nostalg': 3654, 'repress': 3655, 'victori': 3656, 'sandra': 3657, 'confin': 3658, 'snap': 3659, 'owen': 3660, 'psychopath': 3661, 'hung': 3662, 'franco': 3663, 'macarthur': 3664, 'nervou': 3665, 'bergman': 3666, 'drain': 3667, 'montana': 3668, 'emperor': 3669, 'snl': 3670, 'repli': 3671, 'rocki': 3672, 'dalton': 3673, 'despair': 3674, 'heartbreak': 3675, 'whoopi': 3676, 'bumbl': 3677, 'rope': 3678, 'farrel': 3679, 'valuabl': 3680, 'del': 3681, 'miseri': 3682, 'strand': 3683, 'compens': 3684, 'speci': 3685, 'tad': 3686, 'thru': 3687, 'bow': 3688, 'hyde': 3689, 'latin': 3690, '1972': 3691, 'dust': 3692, 'acquir': 3693, 'pattern': 3694, 'cg': 3695, 'recycl': 3696, 'compass': 3697, 'drum': 3698, 'rambl': 3699, 'campbel': 3700, 'deed': 3701, 'tail': 3702, 'exit': 3703, 'kyle': 3704, 'bonu': 3705, 'downhil': 3706, 'carradin': 3707, '35': 3708, 'percept': 3709, 'radic': 3710, 'gal': 3711, 'rotten': 3712, 'bleed': 3713, 'pour': 3714, 'gimmick': 3715, 'wacki': 3716, 'romp': 3717, 'roth': 3718, 'chess': 3719, 'contempl': 3720, 'da': 3721, 'rapist': 3722, 'orson': 3723, 'tonight': 3724, 'martian': 3725, 'oppress': 3726, 'mistress': 3727, 'airport': 3728, 'slug': 3729, 'olli': 3730, 'attorney': 3731, 'taught': 3732, 'edgar': 3733, 'champion': 3734, 'pursuit': 3735, 'unpredict': 3736, 'tackl': 3737, 'arc': 3738, 'heal': 3739, 'belt': 3740, 'preach': 3741, 'arguabl': 3742, '1983': 3743, 'stilt': 3744, 'slash': 3745, 'pervert': 3746, 'paltrow': 3747, 'shelley': 3748, 'tooth': 3749, 'pervers': 3750, 'melodi': 3751, 'banal': 3752, 'mislead': 3753, 'dazzl': 3754, 'programm': 3755, 'dixon': 3756, 'uplift': 3757, 'passeng': 3758, 'plight': 3759, 'employe': 3760, 'bela': 3761, 'cleverli': 3762, 'chicken': 3763, 'maid': 3764, 'rubi': 3765, 'gambl': 3766, 'graham': 3767, 'poem': 3768, 'closest': 3769, 'vengeanc': 3770, 'conneri': 3771, 'sensat': 3772, 'mesmer': 3773, 'vocal': 3774, 'marti': 3775, 'duval': 3776, 'raymond': 3777, 'virginia': 3778, 'franki': 3779, 'tiresom': 3780, 'orang': 3781, 'numb': 3782, 'monologu': 3783, 'quarter': 3784, 'crystal': 3785, 'whine': 3786, 'outing': 3787, 'profan': 3788, 'swallow': 3789, 'giggl': 3790, 'suffic': 3791, 'yawn': 3792, 'habit': 3793, 'volum': 3794, 'clone': 3795, 'convincingli': 3796, 'mute': 3797, 'paranoia': 3798, 'scottish': 3799, 'engross': 3800, 'lundgren': 3801, '1968': 3802, 'bay': 3803, 'calm': 3804, 'sirk': 3805, 'extens': 3806, 'climact': 3807, 'tube': 3808, 'abraham': 3809, 'secretli': 3810, 'iran': 3811, 'inject': 3812, 'gerard': 3813, 'amitabh': 3814, 'pokemon': 3815, 'richardson': 3816, 'trend': 3817, 'abort': 3818, 'underst': 3819, 'chicago': 3820, 'poetri': 3821, 'earl': 3822, 'bend': 3823, 'linger': 3824, 'profess': 3825, 'grotesqu': 3826, 'backward': 3827, 'franci': 3828, 'plod': 3829, 'meander': 3830, 'frankenstein': 3831, 'fed': 3832, 'expand': 3833, 'nichola': 3834, 'dispos': 3835, 'taxi': 3836, 'surpass': 3837, 'lowest': 3838, 'austen': 3839, 'ethan': 3840, 'im': 3841, 'junior': 3842, 'spock': 3843, 'septemb': 3844, 'catchi': 3845, 'descent': 3846, 'mundan': 3847, 'muddl': 3848, 'econom': 3849, 'dysfunct': 3850, 'simplic': 3851, 'sue': 3852, 'rubber': 3853, 'compliment': 3854, 'der': 3855, 'rant': 3856, 'nostalgia': 3857, 'hum': 3858, 'myth': 3859, 'lure': 3860, 'household': 3861, 'spoke': 3862, 'eugen': 3863, 'literatur': 3864, 'waitress': 3865, 'cannon': 3866, 'stallon': 3867, 'instrument': 3868, 'greedi': 3869, 'tourist': 3870, 'eaten': 3871, 'duck': 3872, 'lang': 3873, 'recognit': 3874, 'occupi': 3875, 'stale': 3876, 'irrelev': 3877, 'alongsid': 3878, 'dement': 3879, 'dictat': 3880, 'recognis': 3881, 'crucial': 3882, 'mankind': 3883, 'cent': 3884, 'equival': 3885, 'mortal': 3886, 'flee': 3887, 'carel': 3888, 'furi': 3889, 'phantom': 3890, 'map': 3891, 'randi': 3892, 'omen': 3893, 'coast': 3894, 'june': 3895, 'bacal': 3896, 'deaf': 3897, 'firstli': 3898, 'insur': 3899, 'hello': 3900, 'phoni': 3901, 'molli': 3902, 'louis': 3903, 'sissi': 3904, 'damon': 3905, 'heel': 3906, 'bike': 3907, 'drake': 3908, 'rude': 3909, 'newli': 3910, 'daisi': 3911, 'lengthi': 3912, '1973': 3913, 'antwon': 3914, 'wisdom': 3915, 'freez': 3916, 'ashley': 3917, 'likewis': 3918, 'labor': 3919, 'loyalti': 3920, 'biko': 3921, 'distinguish': 3922, 'cyborg': 3923, 'blackmail': 3924, 'onlin': 3925, 'buffalo': 3926, 'dreari': 3927, 'grayson': 3928, 'bump': 3929, 'damm': 3930, 'twilight': 3931, 'rooney': 3932, 'reign': 3933, 'unorigin': 3934, 'emphas': 3935, 'analysi': 3936, 'boxer': 3937, 'worn': 3938, 'proce': 3939, 'butler': 3940, 'tunnel': 3941, 'approv': 3942, 'interior': 3943, 'attribut': 3944, 'nineti': 3945, 'baddi': 3946, 'provoc': 3947, 'chronicl': 3948, 'prey': 3949, 'keith': 3950, 'inher': 3951, 'vein': 3952, 'basketbal': 3953, 'barrymor': 3954, 'ridden': 3955, 'startl': 3956, 'pink': 3957, 'sailor': 3958, 'exposur': 3959, 'incorpor': 3960, 'undeni': 3961, 'improvis': 3962, 'bunni': 3963, 'condemn': 3964, 'barrel': 3965, 'unrel': 3966, 'substitut': 3967, 'fleet': 3968, 'degrad': 3969, 'meyer': 3970, 'mighti': 3971, 'indiffer': 3972, 'meg': 3973, 'robbin': 3974, 'hypnot': 3975, 'elm': 3976, 'er': 3977, 'underli': 3978, 'walsh': 3979, 'othello': 3980, 'predat': 3981, 'millionair': 3982, 'mormon': 3983, 'drift': 3984, 'julian': 3985, 'carla': 3986, 'simmon': 3987, 'nicol': 3988, 'stalker': 3989, 'belushi': 3990, 'edgi': 3991, 'hay': 3992, 'errol': 3993, 'warmth': 3994, 'watson': 3995, 'vital': 3996, 'rukh': 3997, 'palac': 3998, 'disord': 3999, 'alison': 4000, 'shove': 4001, 'greed': 4002, 'lampoon': 4003, 'nyc': 4004, 'exquisit': 4005, 'dolph': 4006, 'agenda': 4007, 'mtv': 4008, 'priceless': 4009, 'alarm': 4010, 'roof': 4011, 'firm': 4012, '3d': 4013, 'marion': 4014, 'reid': 4015, 'unawar': 4016, 'novak': 4017, 'enthusiasm': 4018, 'eastern': 4019, 'simultan': 4020, 'minimum': 4021, 'session': 4022, 'orlean': 4023, 'championship': 4024, 'ponder': 4025, 'pamela': 4026, 'peril': 4027, 'spain': 4028, 'angela': 4029, 'preserv': 4030, 'randomli': 4031, '1933': 4032, 'coup': 4033, 'sergeant': 4034, 'glanc': 4035, 'what': 4036, 'cassidi': 4037, 'peck': 4038, 'valentin': 4039, '13th': 4040, 'thompson': 4041, 'crown': 4042, 'campaign': 4043, 'nun': 4044, 'beatl': 4045, 'profit': 4046, 'distort': 4047, 'testament': 4048, 'iraq': 4049, 'israel': 4050, 'showdown': 4051, 'gestur': 4052, 'drip': 4053, 'petti': 4054, 'unleash': 4055, 'zizek': 4056, 'stroke': 4057, 'valley': 4058, 'crow': 4059, 'bro': 4060, 'mon': 4061, 'jan': 4062, 'climat': 4063, 'cream': 4064, 'contradict': 4065, 'regist': 4066, 'buster': 4067, 'empathi': 4068, 'crawl': 4069, 'calib': 4070, 'travesti': 4071, 'stake': 4072, 'din': 4073, 'exposit': 4074, 'sabrina': 4075, 'miyazaki': 4076, 'restrain': 4077, 'unimagin': 4078, 'scotland': 4079, 'quinn': 4080, 'brenda': 4081, 'shootout': 4082, 'represent': 4083, 'wig': 4084, 'gentleman': 4085, '1984': 4086, 'cooki': 4087, 'fido': 4088, 'rout': 4089, 'reson': 4090, 'perpetu': 4091, 'han': 4092, 'kurosawa': 4093, 'realm': 4094, 'painter': 4095, 'dana': 4096, 'fuller': 4097, 'compromis': 4098, 'businessman': 4099, 'passabl': 4100, 'pole': 4101, 'perceiv': 4102, 'geek': 4103, 'pretens': 4104, 'shaki': 4105, 'greg': 4106, 'traumat': 4107, 'darren': 4108, 'crawford': 4109, 'mclaglen': 4110, 'demis': 4111, 'wax': 4112, 'soderbergh': 4113, 'josh': 4114, 'spacey': 4115, 'monoton': 4116, 'sucker': 4117, 'shoddi': 4118, 'cloud': 4119, 'warrant': 4120, 'stargat': 4121, 'tacki': 4122, 'meryl': 4123, 'distress': 4124, 'baldwin': 4125, 'femm': 4126, 'abomin': 4127, 'sammi': 4128, '1997': 4129, 'delic': 4130, 'censor': 4131, 'derang': 4132, '1987': 4133, 'unsatisfi': 4134, 'absent': 4135, 'ross': 4136, 'ustinov': 4137, 'unseen': 4138, 'fog': 4139, 'deceas': 4140, 'norm': 4141, 'tarantino': 4142, 'valid': 4143, 'fenc': 4144, 'exclus': 4145, 'expedit': 4146, '1993': 4147, 'dee': 4148, 'austin': 4149, 'click': 4150, 'accuraci': 4151, 'tech': 4152, 'correctli': 4153, 'verbal': 4154, 'wholli': 4155, 'unravel': 4156, 'anchor': 4157, 'furiou': 4158, 'kumar': 4159, 'jewel': 4160, 'nathan': 4161, 'polici': 4162, 'uncov': 4163, 'primit': 4164, 'clash': 4165, 'judgment': 4166, 'reluct': 4167, 'deniro': 4168, 'sid': 4169, 'seal': 4170, 'antonioni': 4171, 'logan': 4172, 'pocket': 4173, '1971': 4174, 'fart': 4175, 'conduct': 4176, 'trait': 4177, 'tax': 4178, 'clerk': 4179, 'ritual': 4180, 'alec': 4181, 'joel': 4182, 'sheet': 4183, 'debt': 4184, 'crippl': 4185, 'slam': 4186, 'seldom': 4187, 'roller': 4188, 'hallucin': 4189, 'wretch': 4190, '3000': 4191, 'patienc': 4192, 'behold': 4193, 'nicola': 4194, 'mode': 4195, '2008': 4196, 'malon': 4197, 'fought': 4198, 'vanc': 4199, 'murray': 4200, 'sunni': 4201, 'shanghai': 4202, 'darn': 4203, 'temper': 4204, 'sustain': 4205, 'dreck': 4206, 'unfair': 4207, 'bake': 4208, 'fabric': 4209, '1995': 4210, 'enforc': 4211, 'wang': 4212, 'sand': 4213, 'technicolor': 4214, 'soup': 4215, 'legaci': 4216, 'guitar': 4217, 'tactic': 4218, 'helpless': 4219, 'scriptwrit': 4220, 'fundament': 4221, 'preposter': 4222, 'squad': 4223, 'shell': 4224, 'conscious': 4225, 'pete': 4226, 'robber': 4227, 'stuart': 4228, 'stark': 4229, 'grief': 4230, 'isabel': 4231, 'outlin': 4232, 'penni': 4233, 'rita': 4234, 'phil': 4235, 'runner': 4236, 'divid': 4237, 'bias': 4238, 'clau': 4239, 'preston': 4240, 'sweep': 4241, 'schedul': 4242, 'despis': 4243, 'exhaust': 4244, 'critiqu': 4245, 'canyon': 4246, 'bridget': 4247, 'gregori': 4248, 'liberti': 4249, 'bloom': 4250, 'sniper': 4251, 'propos': 4252, 'restrict': 4253, 'culmin': 4254, 'jodi': 4255, 'passag': 4256, 'connor': 4257, 'vomit': 4258, 'alley': 4259, 'lacklust': 4260, 'palanc': 4261, 'newman': 4262, 'cigarett': 4263, 'unexpectedli': 4264, 'sugar': 4265, 'consciou': 4266, 'agenc': 4267, 'jacket': 4268, 'rear': 4269, 'flair': 4270, 'implic': 4271, 'drove': 4272, 'russia': 4273, 'inabl': 4274, 'delv': 4275, 'invad': 4276, 'marc': 4277, 'downey': 4278, 'rehash': 4279, 'sentinel': 4280, 'boyl': 4281, 'kansa': 4282, 'alicia': 4283, 'karl': 4284, 'chainsaw': 4285, 'lush': 4286, '22': 4287, 'vet': 4288, 'aesthet': 4289, 'asylum': 4290, 'awhil': 4291, 'wrench': 4292, 'delet': 4293, 'behaviour': 4294, 'ladder': 4295, 'rod': 4296, 'kolchak': 4297, 'improb': 4298, 'yeti': 4299, 'rampag': 4300, 'mccoy': 4301, 'pale': 4302, 'feat': 4303, 'tendenc': 4304, 'rehears': 4305, 'horn': 4306, 'tripe': 4307, 'arrow': 4308, 'bacon': 4309, 'foxx': 4310, 'sharon': 4311, '1936': 4312, 'cap': 4313, 'stream': 4314, '19th': 4315, 'amazon': 4316, 'aristocrat': 4317, 'tomorrow': 4318, 'rumor': 4319, 'lurk': 4320, 'tasteless': 4321, '1920': 4322, '1988': 4323, 'globe': 4324, 'el': 4325, 'visitor': 4326, 'shortcom': 4327, '1978': 4328, 'coaster': 4329, 'spice': 4330, 'prank': 4331, 'weav': 4332, 'suspicion': 4333, 'wagner': 4334, 'rhythm': 4335, 'wildli': 4336, 'minu': 4337, 'paradis': 4338, 'hungri': 4339, 'conscienc': 4340, 'loneli': 4341, 'underneath': 4342, 'basing': 4343, 'newcom': 4344, 'hackney': 4345, 'thunderbird': 4346, 'financ': 4347, 'suffici': 4348, 'filler': 4349, 'hulk': 4350, 'scoop': 4351, 'elit': 4352, 'fright': 4353, 'sung': 4354, 'paramount': 4355, 'tierney': 4356, 'choppi': 4357, 'counterpart': 4358, 'couch': 4359, 'leigh': 4360, 'atroc': 4361, 'secondari': 4362, '1939': 4363, 'entranc': 4364, 'minist': 4365, 'bread': 4366, 'rub': 4367, 'literari': 4368, 'impos': 4369, 'abrupt': 4370, 'curli': 4371, 'penn': 4372, 'cancer': 4373, 'ingeni': 4374, 'ram': 4375, 'beverli': 4376, '75': 4377, 'chamberlain': 4378, 'straightforward': 4379, 'heist': 4380, 'dirt': 4381, 'worship': 4382, 'hopkin': 4383, 'lectur': 4384, 'quietli': 4385, 'en': 4386, 'recogniz': 4387, 'iv': 4388, 'posey': 4389, 'paxton': 4390, 'brit': 4391, 'grudg': 4392, 'smell': 4393, 'immers': 4394, 'springer': 4395, 'inmat': 4396, 'naughti': 4397, 'wwe': 4398, 'teas': 4399, '1989': 4400, 'standout': 4401, 'chavez': 4402, 'sublim': 4403, 'duel': 4404, 'laurenc': 4405, 'variat': 4406, 'clan': 4407, 'bernard': 4408, 'morbid': 4409, 'skeptic': 4410, 'injuri': 4411, 'misguid': 4412, 'entitl': 4413, 'transcend': 4414, 'watcher': 4415, 'heartfelt': 4416, 'attenborough': 4417, 'cattl': 4418, 'nemesi': 4419, 'moreov': 4420, 'quaid': 4421, 'convert': 4422, 'ace': 4423, 'missil': 4424, 'net': 4425, 'policeman': 4426, 'lindsay': 4427, 'enthral': 4428, 'esther': 4429, 'nolan': 4430, '1986': 4431, 'ratso': 4432, 'yearn': 4433, 'sassi': 4434, 'geni': 4435, 'diari': 4436, 'cruelti': 4437, 'enabl': 4438, 'poe': 4439, 'dont': 4440, 'moder': 4441, 'characteris': 4442, 'hk': 4443, 'grin': 4444, 'spiral': 4445, 'obstacl': 4446, 'brood': 4447, 'out': 4448, 'reliabl': 4449, 'buzz': 4450, 'setup': 4451, 'youngest': 4452, 'tyler': 4453, 'facil': 4454, 'artsi': 4455, 'hopelessli': 4456, 'egg': 4457, 'vader': 4458, 'graini': 4459, 'unexplain': 4460, 'rosemari': 4461, 'kitti': 4462, 'uncut': 4463, 'mytholog': 4464, 'bean': 4465, 'puppi': 4466, 'steadi': 4467, 'kidman': 4468, '1979': 4469, 'bye': 4470, 'carlito': 4471, 'preming': 4472, 'disastr': 4473, 'gina': 4474, 'athlet': 4475, 'clueless': 4476, 'niec': 4477, 'hammi': 4478, 'narrow': 4479, 'sweat': 4480, '1969': 4481, 'baffl': 4482, 'christin': 4483, 'martha': 4484, 'kline': 4485, 'heap': 4486, 'decept': 4487, 'bewar': 4488, 'weather': 4489, 'oblig': 4490, 'fuel': 4491, 'patricia': 4492, 'bounc': 4493, 'gillian': 4494, 'underworld': 4495, 'spontan': 4496, 'hain': 4497, 'effici': 4498, 'brendan': 4499, 'acquaint': 4500, 'despic': 4501, 'exterior': 4502, 'bronson': 4503, 'loath': 4504, 'sleepwalk': 4505, 'circu': 4506, 'headach': 4507, 'dilemma': 4508, 'shatter': 4509, 'trigger': 4510, 'loi': 4511, 'lester': 4512, 'rome': 4513, '73': 4514, 'insipid': 4515, 'analyz': 4516, 'uh': 4517, 'hepburn': 4518, 'fontain': 4519, 'preachi': 4520, '19': 4521, 'injur': 4522, 'angst': 4523, 'goof': 4524, 'taboo': 4525, 'scar': 4526, 'mayhem': 4527, 'suprem': 4528, 'virtu': 4529, 'biker': 4530, 'astound': 4531, 'tick': 4532, 'renaiss': 4533, 'housewif': 4534, 'mermaid': 4535, 'harmless': 4536, 'dandi': 4537, 'candl': 4538, 'sooner': 4539, 'outlaw': 4540, 'viewpoint': 4541, 'enlist': 4542, 'whore': 4543, 'cassavet': 4544, 'filth': 4545, 'steer': 4546, 'spade': 4547, 'corbett': 4548, 'hokey': 4549, 'overlong': 4550, 'slimi': 4551, 'immatur': 4552, 'foolish': 4553, 'macho': 4554, 'amor': 4555, 'salt': 4556, 'ebert': 4557, 'dish': 4558, 'intric': 4559, 'tripl': 4560, 'oldest': 4561, 'hooker': 4562, 'redund': 4563, 'claustrophob': 4564, 'phenomenon': 4565, 'camcord': 4566, 'surgeri': 4567, 'dismal': 4568, 'glorifi': 4569, 'bent': 4570, 'idol': 4571, 'scorses': 4572, 'fluff': 4573, 'sox': 4574, 'ariel': 4575, 'boston': 4576, 'zoom': 4577, 'stair': 4578, 'gere': 4579, 'hostag': 4580, 'guin': 4581, 'contempt': 4582, 'stimul': 4583, 'perman': 4584, '1981': 4585, 'margin': 4586, 'shred': 4587, 'faint': 4588, 'conquer': 4589, 'messi': 4590, 'cohen': 4591, 'dwarf': 4592, 'frantic': 4593, 'cush': 4594, 'radiat': 4595, 'flirt': 4596, 'harold': 4597, 'keen': 4598, 'down': 4599, 'muscl': 4600, 'flashi': 4601, 'joker': 4602, 'antagonist': 4603, 'strongest': 4604, 'flag': 4605, 'widescreen': 4606, 'schlock': 4607, 'cow': 4608, 'corman': 4609, 'naschi': 4610, 'spree': 4611, 'mutual': 4612, 'trivia': 4613, 'preced': 4614, 'spinal': 4615, 'assert': 4616, 'fascist': 4617, 'astronaut': 4618, 'remad': 4619, 'proport': 4620, 'beard': 4621, 'zane': 4622, 'gasp': 4623, 'shield': 4624, 'obligatori': 4625, '1976': 4626, 'rhyme': 4627, 'mount': 4628, 'transplant': 4629, 'nolt': 4630, 'alvin': 4631, 'gabl': 4632, 'brush': 4633, 'triangl': 4634, 'barn': 4635, 'scandal': 4636, 'bitten': 4637, 'strive': 4638, 'resum': 4639, 'instruct': 4640, 'inflict': 4641, 'ritchi': 4642, 'sensual': 4643, 'boob': 4644, 'deer': 4645, 'discern': 4646, 'interestingli': 4647, 'repris': 4648, 'aborigin': 4649, 'raj': 4650, 'neurot': 4651, 'claud': 4652, 'persuad': 4653, '28': 4654, 'someday': 4655, 'archiv': 4656, 'divin': 4657, 'departur': 4658, 'hara': 4659, 'wield': 4660, 'fishburn': 4661, 'info': 4662, '95': 4663, 'carey': 4664, 'bachelor': 4665, 'flock': 4666, 'www': 4667, 'mol': 4668, 'mobil': 4669, '1945': 4670, 'danish': 4671, 'off': 4672, 'vaniti': 4673, 'mobster': 4674, 'hilar': 4675, 'traffic': 4676, 'axe': 4677, 'kathryn': 4678, 'luka': 4679, 'frontier': 4680, 'miracul': 4681, 'colin': 4682, 'ish': 4683, 'hapless': 4684, 'biblic': 4685, 'senior': 4686, 'fragil': 4687, 'carlo': 4688, 'casino': 4689, 'dylan': 4690, 'loretta': 4691, 'proclaim': 4692, 'submit': 4693, 'pickford': 4694, 'clad': 4695, 'dame': 4696, 'earnest': 4697, 'neill': 4698, 'harrison': 4699, 'cher': 4700, 'helm': 4701, 'artwork': 4702, 'wendigo': 4703, 'bate': 4704, 'undermin': 4705, 'hug': 4706, 'cliffhang': 4707, 'heartwarm': 4708, 'anton': 4709, 'prophet': 4710, 'pacif': 4711, 'pixar': 4712, 'banter': 4713, 'jade': 4714, 'recit': 4715, 'europa': 4716, 'rot': 4717, 'dim': 4718, 'cycl': 4719, 'parson': 4720, 'melissa': 4721, 'vibrant': 4722, 'cb': 4723, 'timberlak': 4724, 'blatantli': 4725, 'misfortun': 4726, 'alexandr': 4727, 'venom': 4728, 'lucil': 4729, 'feast': 4730, 'flavor': 4731, 'antholog': 4732, 'pc': 4733, 'trier': 4734, 'aris': 4735, 'vile': 4736, 'articl': 4737, 'rooki': 4738, 'jordan': 4739, 'bondag': 4740, 'seedi': 4741, 'jo': 4742, 'sicken': 4743, 'northern': 4744, 'lui': 4745, 'wardrob': 4746, 'illus': 4747, 'bikini': 4748, 'breakfast': 4749, 'nope': 4750, 'electron': 4751, 'winchest': 4752, 'vanessa': 4753, 'estrang': 4754, 'akin': 4755, 'uma': 4756, 'http': 4757, 'milo': 4758, 'marlon': 4759, 'isra': 4760, 'razor': 4761, 'redneck': 4762, 'legitim': 4763, 'token': 4764, 'cerebr': 4765, 'shepherd': 4766, 'holocaust': 4767, 'orphan': 4768, 'mason': 4769, 'eli': 4770, 'toronto': 4771, 'static': 4772, 'choke': 4773, 'foil': 4774, 'mathieu': 4775, 'turd': 4776, 'smack': 4777, 'fifth': 4778, 'comprehend': 4779, 'tack': 4780, 'nightclub': 4781, 'glare': 4782, 'highway': 4783, 'abund': 4784, 'clinic': 4785, 'dudley': 4786, 'ceremoni': 4787, 'feminin': 4788, 'gunga': 4789, 'styliz': 4790, 'howl': 4791, 'wrestler': 4792, 'shorter': 4793, 'ideolog': 4794, 'retriev': 4795, 'cartoonish': 4796, 'audrey': 4797, 'swept': 4798, 'leather': 4799, 'oppon': 4800, 'affleck': 4801, 'psych': 4802, 'outdat': 4803, 'huston': 4804, 'gilbert': 4805, 'linear': 4806, 'disregard': 4807, 'boyer': 4808, 'frog': 4809, 'deem': 4810, 'charlton': 4811, 'magician': 4812, 'peer': 4813, 'knightley': 4814, '4th': 4815, 'whack': 4816, 'greet': 4817, 'cuban': 4818, 'cemeteri': 4819, 'lighter': 4820, 'snatch': 4821, 'potter': 4822, 'spawn': 4823, '1994': 4824, 'boo': 4825, 'summar': 4826, 'lavish': 4827, 'bogu': 4828, 'btw': 4829, 'braveheart': 4830, 'uniformli': 4831, 'durat': 4832, 'spine': 4833, 'newer': 4834, 'chip': 4835, 'compris': 4836, 'client': 4837, 'energet': 4838, 'corn': 4839, 'toe': 4840, 'salman': 4841, 'breakdown': 4842, 'moe': 4843, 'senat': 4844, 'evolut': 4845, 'plate': 4846, 'phenomen': 4847, 'deliver': 4848, 'collector': 4849, 'sleaz': 4850, 'monument': 4851, 'einstein': 4852, '1991': 4853, 'bastard': 4854, 'lifeless': 4855, 'tara': 4856, 'mitch': 4857, 'goldsworthi': 4858, 'conrad': 4859, 'undead': 4860, '1977': 4861, 'bulk': 4862, 'ol': 4863, 'liu': 4864, 'judd': 4865, 'belli': 4866, 'spectacl': 4867, 'historian': 4868, 'fluid': 4869, 'neatli': 4870, 'signal': 4871, 'occup': 4872, 'cecil': 4873, 'lex': 4874, 'trauma': 4875, 'appl': 4876, 'mcqueen': 4877, 'luxuri': 4878, 'kent': 4879, 'armstrong': 4880, 'undertak': 4881, 'kazan': 4882, 'outright': 4883, 'alleg': 4884, '1974': 4885, 'jule': 4886, 'constitut': 4887, 'wtf': 4888, 'replay': 4889, 'healthi': 4890, 'jam': 4891, 'gilliam': 4892, 'clara': 4893, 'eleven': 4894, 'nina': 4895, 'ie': 4896, 'firmli': 4897, 'evelyn': 4898, 'creek': 4899, 'jedi': 4900, 'pronounc': 4901, 'bori': 4902, 'sorrow': 4903, 'inaccuraci': 4904, 'capot': 4905, 'jare': 4906, 'embark': 4907, 'randolph': 4908, 'comb': 4909, 'sidewalk': 4910, 'miniseri': 4911, 'comprehens': 4912, 'decapit': 4913, 'vain': 4914, 'antonio': 4915, 'miami': 4916, 'tokyo': 4917, 'vignett': 4918, 'conan': 4919, 'unattract': 4920, 'subtli': 4921, 'porter': 4922, 'bsg': 4923, 'kiddi': 4924, 'congratul': 4925, 'spray': 4926, 'curtain': 4927, 'rosario': 4928, 'cape': 4929, 'genet': 4930, 'unsuspect': 4931, 'poker': 4932, 'sacrif': 4933, 'walt': 4934, 'inaccur': 4935, 'relentless': 4936, 'galaxi': 4937, 'roar': 4938, 'propheci': 4939, 'basket': 4940, 'goldblum': 4941, 'lauren': 4942, 'ash': 4943, 'aussi': 4944, 'forgiven': 4945, 'pepper': 4946, 'fruit': 4947, 'abound': 4948, 'carmen': 4949, 'id': 4950, 'groan': 4951, 'pioneer': 4952, 'bait': 4953, '1985': 4954, 'lanc': 4955, 'mum': 4956, 'blur': 4957, 'inclus': 4958, 'meal': 4959, 'palm': 4960, 'paula': 4961, 'truman': 4962, 'knee': 4963, 'growth': 4964, 'scarfac': 4965, 'spill': 4966, 'hackman': 4967, 'asset': 4968, '21st': 4969, 'optimist': 4970, 'epitom': 4971, 'assort': 4972, 'hostil': 4973, 'mice': 4974, 'monti': 4975, 'casper': 4976, 'ingrid': 4977, 'motorcycl': 4978, 'substanti': 4979, 'jill': 4980, 'bach': 4981, 'playboy': 4982, 'handicap': 4983, 'sophi': 4984, 'frontal': 4985, 'vastli': 4986, 'orchestr': 4987, 'dubiou': 4988, 'modest': 4989, 'reincarn': 4990, 'weaker': 4991, 'incorrect': 4992, 'verg': 4993, 'rapidli': 4994, 'drone': 4995, 'detach': 4996, 'masterson': 4997, 'bravo': 4998, 'macabr': 4999}\n"
     ]
    }
   ],
   "source": [
    "print(str(word_dict))"
   ]
  },
  {
   "cell_type": "markdown",
   "metadata": {},
   "source": [
    "Once you have added the endpoint name to the Lambda function, click on **Save**. Your Lambda function is now up and running. Next we need to create a way for our web app to execute the Lambda function.\n",
    "\n",
    "### Setting up API Gateway\n",
    "\n",
    "Now that our Lambda function is set up, it is time to create a new API using API Gateway that will trigger the Lambda function we have just created.\n",
    "\n",
    "Using AWS Console, navigate to **Amazon API Gateway** and then click on **Get started**.\n",
    "\n",
    "On the next page, make sure that **New API** is selected and give the new api a name, for example, `sentiment_analysis_api`. Then, click on **Create API**.\n",
    "\n",
    "Now we have created an API, however it doesn't currently do anything. What we want it to do is to trigger the Lambda function that we created earlier.\n",
    "\n",
    "Select the **Actions** dropdown menu and click **Create Method**. A new blank method will be created, select its dropdown menu and select **POST**, then click on the check mark beside it.\n",
    "\n",
    "For the integration point, make sure that **Lambda Function** is selected and click on the **Use Lambda Proxy integration**. This option makes sure that the data that is sent to the API is then sent directly to the Lambda function with no processing. It also means that the return value must be a proper response object as it will also not be processed by API Gateway.\n",
    "\n",
    "Type the name of the Lambda function you created earlier into the **Lambda Function** text entry box and then click on **Save**. Click on **OK** in the pop-up box that then appears, giving permission to API Gateway to invoke the Lambda function you created.\n",
    "\n",
    "The last step in creating the API Gateway is to select the **Actions** dropdown and click on **Deploy API**. You will need to create a new Deployment stage and name it anything you like, for example `prod`.\n",
    "\n",
    "You have now successfully set up a public API to access your SageMaker model. Make sure to copy or write down the URL provided to invoke your newly created public API as this will be needed in the next step. This URL can be found at the top of the page, highlighted in blue next to the text **Invoke URL**."
   ]
  },
  {
   "cell_type": "markdown",
   "metadata": {},
   "source": [
    "## Step 4: Deploying our web app\n",
    "\n",
    "Now that we have a publicly available API, we can start using it in a web app. For our purposes, we have provided a simple static html file which can make use of the public api you created earlier.\n",
    "\n",
    "In the `website` folder there should be a file called `index.html`. Download the file to your computer and open that file up in a text editor of your choice. There should be a line which contains **\\*\\*REPLACE WITH PUBLIC API URL\\*\\***. Replace this string with the url that you wrote down in the last step and then save the file.\n",
    "\n",
    "Now, if you open `index.html` on your local computer, your browser will behave as a local web server and you can use the provided site to interact with your SageMaker model.\n",
    "\n",
    "If you'd like to go further, you can host this html file anywhere you'd like, for example using github or hosting a static site on Amazon's S3. Once you have done this you can share the link with anyone you'd like and have them play with it too!\n",
    "\n",
    "> **Important Note** In order for the web app to communicate with the SageMaker endpoint, the endpoint has to actually be deployed and running. This means that you are paying for it. Make sure that the endpoint is running when you want to use the web app but that you shut it down when you don't need it, otherwise you will end up with a surprisingly large AWS bill.\n",
    "\n",
    "**TODO:** Make sure that you include the edited `index.html` file in your project submission."
   ]
  },
  {
   "cell_type": "markdown",
   "metadata": {},
   "source": [
    "Now that your web app is working, trying playing around with it and see how well it works.\n",
    "\n",
    "**Question**: Post a screenshot showing a sample review that you entered into your web app and the predicted sentiment. What was the predicted sentiment of your example review?"
   ]
  },
  {
   "attachments": {
    "Screenshot%20%28255%29.png": {
     "image/png": "[encoded data removed]"
    }
   },
   "cell_type": "markdown",
   "metadata": {},
   "source": [
    "**Screenshot:![Screenshot%20%28255%29.png](attachment:Screenshot%20%28255%29.png)*\n",
    "\n",
    "\n",
    "\n",
    "**Answer:* I wrote a negative review: Bad and it returened Negative review!*"
   ]
  }
 ],
 "metadata": {
  "kernelspec": {
   "display_name": "Python 3",
   "language": "python",
   "name": "python3"
  },
  "language_info": {
   "codemirror_mode": {
    "name": "ipython",
    "version": 3
   },
   "file_extension": ".py",
   "mimetype": "text/x-python",
   "name": "python",
   "nbconvert_exporter": "python",
   "pygments_lexer": "ipython3",
   "version": "3.6.13"
  }
 },
 "nbformat": 4,
 "nbformat_minor": 4
}
